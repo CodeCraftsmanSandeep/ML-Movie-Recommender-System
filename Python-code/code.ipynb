{
 "cells": [
  {
   "cell_type": "markdown",
   "metadata": {},
   "source": [
    "- The movie data set download from kaggle is placed in [Data](../Data)\n",
    "- We can import movie data set from kaggle using python code directly:\n",
    "    ```py\n",
    "    import kagglehub\n",
    "\n",
    "    # Download latest version\n",
    "    path = kagglehub.dataset_download(\"tmdb/tmdb-movie-metadata\")\n",
    "\n",
    "    print(\"Path to dataset files:\", path)\n",
    "    ```\n",
    "- But we will save the files in our repo, so that even if data set is modified / removed on kaggle, it will be still accessible to us"
   ]
  },
  {
   "cell_type": "code",
   "execution_count": 1,
   "metadata": {},
   "outputs": [],
   "source": [
    "import numpy as np\n",
    "import pandas as pd\n",
    "import sklearn"
   ]
  },
  {
   "cell_type": "code",
   "execution_count": 2,
   "metadata": {},
   "outputs": [],
   "source": [
    "movies  = pd.read_csv('../Data/tmdb_5000_movies.csv')\n",
    "credits = pd.read_csv('../Data/tmdb_5000_credits.csv')"
   ]
  },
  {
   "cell_type": "code",
   "execution_count": 3,
   "metadata": {},
   "outputs": [
    {
     "data": {
      "text/html": [
       "<div>\n",
       "<style scoped>\n",
       "    .dataframe tbody tr th:only-of-type {\n",
       "        vertical-align: middle;\n",
       "    }\n",
       "\n",
       "    .dataframe tbody tr th {\n",
       "        vertical-align: top;\n",
       "    }\n",
       "\n",
       "    .dataframe thead th {\n",
       "        text-align: right;\n",
       "    }\n",
       "</style>\n",
       "<table border=\"1\" class=\"dataframe\">\n",
       "  <thead>\n",
       "    <tr style=\"text-align: right;\">\n",
       "      <th></th>\n",
       "      <th>budget</th>\n",
       "      <th>genres</th>\n",
       "      <th>homepage</th>\n",
       "      <th>id</th>\n",
       "      <th>keywords</th>\n",
       "      <th>original_language</th>\n",
       "      <th>original_title</th>\n",
       "      <th>overview</th>\n",
       "      <th>popularity</th>\n",
       "      <th>production_companies</th>\n",
       "      <th>production_countries</th>\n",
       "      <th>release_date</th>\n",
       "      <th>revenue</th>\n",
       "      <th>runtime</th>\n",
       "      <th>spoken_languages</th>\n",
       "      <th>status</th>\n",
       "      <th>tagline</th>\n",
       "      <th>title</th>\n",
       "      <th>vote_average</th>\n",
       "      <th>vote_count</th>\n",
       "    </tr>\n",
       "  </thead>\n",
       "  <tbody>\n",
       "    <tr>\n",
       "      <th>0</th>\n",
       "      <td>237000000</td>\n",
       "      <td>[{\"id\": 28, \"name\": \"Action\"}, {\"id\": 12, \"nam...</td>\n",
       "      <td>http://www.avatarmovie.com/</td>\n",
       "      <td>19995</td>\n",
       "      <td>[{\"id\": 1463, \"name\": \"culture clash\"}, {\"id\":...</td>\n",
       "      <td>en</td>\n",
       "      <td>Avatar</td>\n",
       "      <td>In the 22nd century, a paraplegic Marine is di...</td>\n",
       "      <td>150.437577</td>\n",
       "      <td>[{\"name\": \"Ingenious Film Partners\", \"id\": 289...</td>\n",
       "      <td>[{\"iso_3166_1\": \"US\", \"name\": \"United States o...</td>\n",
       "      <td>2009-12-10</td>\n",
       "      <td>2787965087</td>\n",
       "      <td>162.0</td>\n",
       "      <td>[{\"iso_639_1\": \"en\", \"name\": \"English\"}, {\"iso...</td>\n",
       "      <td>Released</td>\n",
       "      <td>Enter the World of Pandora.</td>\n",
       "      <td>Avatar</td>\n",
       "      <td>7.2</td>\n",
       "      <td>11800</td>\n",
       "    </tr>\n",
       "    <tr>\n",
       "      <th>1</th>\n",
       "      <td>300000000</td>\n",
       "      <td>[{\"id\": 12, \"name\": \"Adventure\"}, {\"id\": 14, \"...</td>\n",
       "      <td>http://disney.go.com/disneypictures/pirates/</td>\n",
       "      <td>285</td>\n",
       "      <td>[{\"id\": 270, \"name\": \"ocean\"}, {\"id\": 726, \"na...</td>\n",
       "      <td>en</td>\n",
       "      <td>Pirates of the Caribbean: At World's End</td>\n",
       "      <td>Captain Barbossa, long believed to be dead, ha...</td>\n",
       "      <td>139.082615</td>\n",
       "      <td>[{\"name\": \"Walt Disney Pictures\", \"id\": 2}, {\"...</td>\n",
       "      <td>[{\"iso_3166_1\": \"US\", \"name\": \"United States o...</td>\n",
       "      <td>2007-05-19</td>\n",
       "      <td>961000000</td>\n",
       "      <td>169.0</td>\n",
       "      <td>[{\"iso_639_1\": \"en\", \"name\": \"English\"}]</td>\n",
       "      <td>Released</td>\n",
       "      <td>At the end of the world, the adventure begins.</td>\n",
       "      <td>Pirates of the Caribbean: At World's End</td>\n",
       "      <td>6.9</td>\n",
       "      <td>4500</td>\n",
       "    </tr>\n",
       "  </tbody>\n",
       "</table>\n",
       "</div>"
      ],
      "text/plain": [
       "      budget                                             genres  \\\n",
       "0  237000000  [{\"id\": 28, \"name\": \"Action\"}, {\"id\": 12, \"nam...   \n",
       "1  300000000  [{\"id\": 12, \"name\": \"Adventure\"}, {\"id\": 14, \"...   \n",
       "\n",
       "                                       homepage     id  \\\n",
       "0                   http://www.avatarmovie.com/  19995   \n",
       "1  http://disney.go.com/disneypictures/pirates/    285   \n",
       "\n",
       "                                            keywords original_language  \\\n",
       "0  [{\"id\": 1463, \"name\": \"culture clash\"}, {\"id\":...                en   \n",
       "1  [{\"id\": 270, \"name\": \"ocean\"}, {\"id\": 726, \"na...                en   \n",
       "\n",
       "                             original_title  \\\n",
       "0                                    Avatar   \n",
       "1  Pirates of the Caribbean: At World's End   \n",
       "\n",
       "                                            overview  popularity  \\\n",
       "0  In the 22nd century, a paraplegic Marine is di...  150.437577   \n",
       "1  Captain Barbossa, long believed to be dead, ha...  139.082615   \n",
       "\n",
       "                                production_companies  \\\n",
       "0  [{\"name\": \"Ingenious Film Partners\", \"id\": 289...   \n",
       "1  [{\"name\": \"Walt Disney Pictures\", \"id\": 2}, {\"...   \n",
       "\n",
       "                                production_countries release_date     revenue  \\\n",
       "0  [{\"iso_3166_1\": \"US\", \"name\": \"United States o...   2009-12-10  2787965087   \n",
       "1  [{\"iso_3166_1\": \"US\", \"name\": \"United States o...   2007-05-19   961000000   \n",
       "\n",
       "   runtime                                   spoken_languages    status  \\\n",
       "0    162.0  [{\"iso_639_1\": \"en\", \"name\": \"English\"}, {\"iso...  Released   \n",
       "1    169.0           [{\"iso_639_1\": \"en\", \"name\": \"English\"}]  Released   \n",
       "\n",
       "                                          tagline  \\\n",
       "0                     Enter the World of Pandora.   \n",
       "1  At the end of the world, the adventure begins.   \n",
       "\n",
       "                                      title  vote_average  vote_count  \n",
       "0                                    Avatar           7.2       11800  \n",
       "1  Pirates of the Caribbean: At World's End           6.9        4500  "
      ]
     },
     "execution_count": 3,
     "metadata": {},
     "output_type": "execute_result"
    }
   ],
   "source": [
    "movies.head(2)"
   ]
  },
  {
   "cell_type": "code",
   "execution_count": 4,
   "metadata": {},
   "outputs": [
    {
     "data": {
      "text/html": [
       "<div>\n",
       "<style scoped>\n",
       "    .dataframe tbody tr th:only-of-type {\n",
       "        vertical-align: middle;\n",
       "    }\n",
       "\n",
       "    .dataframe tbody tr th {\n",
       "        vertical-align: top;\n",
       "    }\n",
       "\n",
       "    .dataframe thead th {\n",
       "        text-align: right;\n",
       "    }\n",
       "</style>\n",
       "<table border=\"1\" class=\"dataframe\">\n",
       "  <thead>\n",
       "    <tr style=\"text-align: right;\">\n",
       "      <th></th>\n",
       "      <th>movie_id</th>\n",
       "      <th>title</th>\n",
       "      <th>cast</th>\n",
       "      <th>crew</th>\n",
       "    </tr>\n",
       "  </thead>\n",
       "  <tbody>\n",
       "    <tr>\n",
       "      <th>0</th>\n",
       "      <td>19995</td>\n",
       "      <td>Avatar</td>\n",
       "      <td>[{\"cast_id\": 242, \"character\": \"Jake Sully\", \"...</td>\n",
       "      <td>[{\"credit_id\": \"52fe48009251416c750aca23\", \"de...</td>\n",
       "    </tr>\n",
       "    <tr>\n",
       "      <th>1</th>\n",
       "      <td>285</td>\n",
       "      <td>Pirates of the Caribbean: At World's End</td>\n",
       "      <td>[{\"cast_id\": 4, \"character\": \"Captain Jack Spa...</td>\n",
       "      <td>[{\"credit_id\": \"52fe4232c3a36847f800b579\", \"de...</td>\n",
       "    </tr>\n",
       "  </tbody>\n",
       "</table>\n",
       "</div>"
      ],
      "text/plain": [
       "   movie_id                                     title  \\\n",
       "0     19995                                    Avatar   \n",
       "1       285  Pirates of the Caribbean: At World's End   \n",
       "\n",
       "                                                cast  \\\n",
       "0  [{\"cast_id\": 242, \"character\": \"Jake Sully\", \"...   \n",
       "1  [{\"cast_id\": 4, \"character\": \"Captain Jack Spa...   \n",
       "\n",
       "                                                crew  \n",
       "0  [{\"credit_id\": \"52fe48009251416c750aca23\", \"de...  \n",
       "1  [{\"credit_id\": \"52fe4232c3a36847f800b579\", \"de...  "
      ]
     },
     "execution_count": 4,
     "metadata": {},
     "output_type": "execute_result"
    }
   ],
   "source": [
    "credits.head(2)"
   ]
  },
  {
   "cell_type": "code",
   "execution_count": 5,
   "metadata": {},
   "outputs": [
    {
     "data": {
      "text/plain": [
       "pandas.core.frame.DataFrame"
      ]
     },
     "execution_count": 5,
     "metadata": {},
     "output_type": "execute_result"
    }
   ],
   "source": [
    "type(movies)"
   ]
  },
  {
   "cell_type": "code",
   "execution_count": 6,
   "metadata": {},
   "outputs": [],
   "source": [
    "# Mering the two DataFrames on the 'title' column\n",
    "movies = pd.merge(movies, credits, on=\"title\")"
   ]
  },
  {
   "cell_type": "code",
   "execution_count": 7,
   "metadata": {},
   "outputs": [
    {
     "name": "stdout",
     "output_type": "stream",
     "text": [
      "<class 'pandas.core.frame.DataFrame'>\n",
      "RangeIndex: 4809 entries, 0 to 4808\n",
      "Data columns (total 23 columns):\n",
      " #   Column                Non-Null Count  Dtype  \n",
      "---  ------                --------------  -----  \n",
      " 0   budget                4809 non-null   int64  \n",
      " 1   genres                4809 non-null   object \n",
      " 2   homepage              1713 non-null   object \n",
      " 3   id                    4809 non-null   int64  \n",
      " 4   keywords              4809 non-null   object \n",
      " 5   original_language     4809 non-null   object \n",
      " 6   original_title        4809 non-null   object \n",
      " 7   overview              4806 non-null   object \n",
      " 8   popularity            4809 non-null   float64\n",
      " 9   production_companies  4809 non-null   object \n",
      " 10  production_countries  4809 non-null   object \n",
      " 11  release_date          4808 non-null   object \n",
      " 12  revenue               4809 non-null   int64  \n",
      " 13  runtime               4807 non-null   float64\n",
      " 14  spoken_languages      4809 non-null   object \n",
      " 15  status                4809 non-null   object \n",
      " 16  tagline               3965 non-null   object \n",
      " 17  title                 4809 non-null   object \n",
      " 18  vote_average          4809 non-null   float64\n",
      " 19  vote_count            4809 non-null   int64  \n",
      " 20  movie_id              4809 non-null   int64  \n",
      " 21  cast                  4809 non-null   object \n",
      " 22  crew                  4809 non-null   object \n",
      "dtypes: float64(3), int64(5), object(15)\n",
      "memory usage: 864.2+ KB\n"
     ]
    }
   ],
   "source": [
    "movies.info()"
   ]
  },
  {
   "cell_type": "markdown",
   "metadata": {},
   "source": [
    "- We will create tags for each movie and we use ML, so let us retain the columns that are useful for our analysis.\n",
    "- Required columns:\n",
    "    - id\n",
    "        - we will use id on TMDB to get stuff from their website later during development phase\n",
    "    - title\n",
    "    - genres\n",
    "    - keywords\n",
    "    - overview\n",
    "    - cast\n",
    "    - crew"
   ]
  },
  {
   "cell_type": "code",
   "execution_count": 8,
   "metadata": {},
   "outputs": [],
   "source": [
    "movies = movies[['id', 'title', 'genres', 'keywords', 'overview', 'cast', 'crew']]"
   ]
  },
  {
   "cell_type": "code",
   "execution_count": 9,
   "metadata": {},
   "outputs": [
    {
     "data": {
      "text/html": [
       "<div>\n",
       "<style scoped>\n",
       "    .dataframe tbody tr th:only-of-type {\n",
       "        vertical-align: middle;\n",
       "    }\n",
       "\n",
       "    .dataframe tbody tr th {\n",
       "        vertical-align: top;\n",
       "    }\n",
       "\n",
       "    .dataframe thead th {\n",
       "        text-align: right;\n",
       "    }\n",
       "</style>\n",
       "<table border=\"1\" class=\"dataframe\">\n",
       "  <thead>\n",
       "    <tr style=\"text-align: right;\">\n",
       "      <th></th>\n",
       "      <th>id</th>\n",
       "      <th>title</th>\n",
       "      <th>genres</th>\n",
       "      <th>keywords</th>\n",
       "      <th>overview</th>\n",
       "      <th>cast</th>\n",
       "      <th>crew</th>\n",
       "    </tr>\n",
       "  </thead>\n",
       "  <tbody>\n",
       "    <tr>\n",
       "      <th>0</th>\n",
       "      <td>19995</td>\n",
       "      <td>Avatar</td>\n",
       "      <td>[{\"id\": 28, \"name\": \"Action\"}, {\"id\": 12, \"nam...</td>\n",
       "      <td>[{\"id\": 1463, \"name\": \"culture clash\"}, {\"id\":...</td>\n",
       "      <td>In the 22nd century, a paraplegic Marine is di...</td>\n",
       "      <td>[{\"cast_id\": 242, \"character\": \"Jake Sully\", \"...</td>\n",
       "      <td>[{\"credit_id\": \"52fe48009251416c750aca23\", \"de...</td>\n",
       "    </tr>\n",
       "    <tr>\n",
       "      <th>1</th>\n",
       "      <td>285</td>\n",
       "      <td>Pirates of the Caribbean: At World's End</td>\n",
       "      <td>[{\"id\": 12, \"name\": \"Adventure\"}, {\"id\": 14, \"...</td>\n",
       "      <td>[{\"id\": 270, \"name\": \"ocean\"}, {\"id\": 726, \"na...</td>\n",
       "      <td>Captain Barbossa, long believed to be dead, ha...</td>\n",
       "      <td>[{\"cast_id\": 4, \"character\": \"Captain Jack Spa...</td>\n",
       "      <td>[{\"credit_id\": \"52fe4232c3a36847f800b579\", \"de...</td>\n",
       "    </tr>\n",
       "  </tbody>\n",
       "</table>\n",
       "</div>"
      ],
      "text/plain": [
       "      id                                     title  \\\n",
       "0  19995                                    Avatar   \n",
       "1    285  Pirates of the Caribbean: At World's End   \n",
       "\n",
       "                                              genres  \\\n",
       "0  [{\"id\": 28, \"name\": \"Action\"}, {\"id\": 12, \"nam...   \n",
       "1  [{\"id\": 12, \"name\": \"Adventure\"}, {\"id\": 14, \"...   \n",
       "\n",
       "                                            keywords  \\\n",
       "0  [{\"id\": 1463, \"name\": \"culture clash\"}, {\"id\":...   \n",
       "1  [{\"id\": 270, \"name\": \"ocean\"}, {\"id\": 726, \"na...   \n",
       "\n",
       "                                            overview  \\\n",
       "0  In the 22nd century, a paraplegic Marine is di...   \n",
       "1  Captain Barbossa, long believed to be dead, ha...   \n",
       "\n",
       "                                                cast  \\\n",
       "0  [{\"cast_id\": 242, \"character\": \"Jake Sully\", \"...   \n",
       "1  [{\"cast_id\": 4, \"character\": \"Captain Jack Spa...   \n",
       "\n",
       "                                                crew  \n",
       "0  [{\"credit_id\": \"52fe48009251416c750aca23\", \"de...  \n",
       "1  [{\"credit_id\": \"52fe4232c3a36847f800b579\", \"de...  "
      ]
     },
     "execution_count": 9,
     "metadata": {},
     "output_type": "execute_result"
    }
   ],
   "source": [
    "movies.head(2) # Required columns"
   ]
  },
  {
   "cell_type": "code",
   "execution_count": 10,
   "metadata": {},
   "outputs": [
    {
     "data": {
      "text/plain": [
       "(4809, 7)"
      ]
     },
     "execution_count": 10,
     "metadata": {},
     "output_type": "execute_result"
    }
   ],
   "source": [
    "movies.shape"
   ]
  },
  {
   "cell_type": "code",
   "execution_count": 11,
   "metadata": {},
   "outputs": [
    {
     "data": {
      "text/plain": [
       "id          0\n",
       "title       0\n",
       "genres      0\n",
       "keywords    0\n",
       "overview    3\n",
       "cast        0\n",
       "crew        0\n",
       "dtype: int64"
      ]
     },
     "execution_count": 11,
     "metadata": {},
     "output_type": "execute_result"
    }
   ],
   "source": [
    "# Check for null values in the DataFrame\n",
    "movies.isnull().sum()"
   ]
  },
  {
   "cell_type": "code",
   "execution_count": 12,
   "metadata": {},
   "outputs": [],
   "source": [
    "# There are 3 null values in the 'overview' column\n",
    "# Dropping rows with null values in the 'overview' column because I feel overview column is important for us\n",
    "movies.dropna(inplace=True)"
   ]
  },
  {
   "cell_type": "code",
   "execution_count": 13,
   "metadata": {},
   "outputs": [
    {
     "data": {
      "text/plain": [
       "id          0\n",
       "title       0\n",
       "genres      0\n",
       "keywords    0\n",
       "overview    0\n",
       "cast        0\n",
       "crew        0\n",
       "dtype: int64"
      ]
     },
     "execution_count": 13,
     "metadata": {},
     "output_type": "execute_result"
    }
   ],
   "source": [
    "movies.isnull().sum()"
   ]
  },
  {
   "cell_type": "code",
   "execution_count": 14,
   "metadata": {},
   "outputs": [
    {
     "data": {
      "text/plain": [
       "(4806, 7)"
      ]
     },
     "execution_count": 14,
     "metadata": {},
     "output_type": "execute_result"
    }
   ],
   "source": [
    "movies.shape"
   ]
  },
  {
   "cell_type": "code",
   "execution_count": 15,
   "metadata": {},
   "outputs": [
    {
     "data": {
      "text/plain": [
       "np.int64(0)"
      ]
     },
     "execution_count": 15,
     "metadata": {},
     "output_type": "execute_result"
    }
   ],
   "source": [
    "# Let us check for duplicate rows in the DataFrame\n",
    "movies.duplicated().sum()"
   ]
  },
  {
   "cell_type": "code",
   "execution_count": 16,
   "metadata": {},
   "outputs": [
    {
     "data": {
      "text/plain": [
       "'[{\"id\": 28, \"name\": \"Action\"}, {\"id\": 12, \"name\": \"Adventure\"}, {\"id\": 14, \"name\": \"Fantasy\"}, {\"id\": 878, \"name\": \"Science Fiction\"}]'"
      ]
     },
     "execution_count": 16,
     "metadata": {},
     "output_type": "execute_result"
    }
   ],
   "source": [
    "# Let us see how genres of each movie is\n",
    "movies.iloc[0].genres"
   ]
  },
  {
   "cell_type": "code",
   "execution_count": 17,
   "metadata": {},
   "outputs": [],
   "source": [
    "# We will convert the genres column data to a list of keywords instead of the list of dictionaries format\n",
    "import ast\n",
    "\n",
    "# A function to clean data\n",
    "def convert_to_list(obj):\n",
    "    # obj is in string format, then convert it into list of dictonaries\n",
    "    list_of_dicts = ast.literal_eval(obj)\n",
    "    wanted_list = [d['name'] for d in list_of_dicts]\n",
    "\n",
    "    return wanted_list"
   ]
  },
  {
   "cell_type": "code",
   "execution_count": 18,
   "metadata": {},
   "outputs": [
    {
     "data": {
      "text/plain": [
       "['Action', 'Adventure', 'Fantasy', 'Science Fiction']"
      ]
     },
     "execution_count": 18,
     "metadata": {},
     "output_type": "execute_result"
    }
   ],
   "source": [
    "convert_to_list(movies.iloc[0].genres)"
   ]
  },
  {
   "cell_type": "code",
   "execution_count": 19,
   "metadata": {},
   "outputs": [
    {
     "data": {
      "text/plain": [
       "0    [Action, Adventure, Fantasy, Science Fiction]\n",
       "1                     [Adventure, Fantasy, Action]\n",
       "2                       [Action, Adventure, Crime]\n",
       "3                 [Action, Crime, Drama, Thriller]\n",
       "Name: genres, dtype: object"
      ]
     },
     "execution_count": 19,
     "metadata": {},
     "output_type": "execute_result"
    }
   ],
   "source": [
    "movies['genres'].apply(convert_to_list).head(4)"
   ]
  },
  {
   "cell_type": "code",
   "execution_count": 20,
   "metadata": {},
   "outputs": [],
   "source": [
    "movies['genres'] = movies['genres'].apply(convert_to_list)"
   ]
  },
  {
   "cell_type": "code",
   "execution_count": 21,
   "metadata": {},
   "outputs": [
    {
     "data": {
      "text/html": [
       "<div>\n",
       "<style scoped>\n",
       "    .dataframe tbody tr th:only-of-type {\n",
       "        vertical-align: middle;\n",
       "    }\n",
       "\n",
       "    .dataframe tbody tr th {\n",
       "        vertical-align: top;\n",
       "    }\n",
       "\n",
       "    .dataframe thead th {\n",
       "        text-align: right;\n",
       "    }\n",
       "</style>\n",
       "<table border=\"1\" class=\"dataframe\">\n",
       "  <thead>\n",
       "    <tr style=\"text-align: right;\">\n",
       "      <th></th>\n",
       "      <th>id</th>\n",
       "      <th>title</th>\n",
       "      <th>genres</th>\n",
       "      <th>keywords</th>\n",
       "      <th>overview</th>\n",
       "      <th>cast</th>\n",
       "      <th>crew</th>\n",
       "    </tr>\n",
       "  </thead>\n",
       "  <tbody>\n",
       "    <tr>\n",
       "      <th>0</th>\n",
       "      <td>19995</td>\n",
       "      <td>Avatar</td>\n",
       "      <td>[Action, Adventure, Fantasy, Science Fiction]</td>\n",
       "      <td>[{\"id\": 1463, \"name\": \"culture clash\"}, {\"id\":...</td>\n",
       "      <td>In the 22nd century, a paraplegic Marine is di...</td>\n",
       "      <td>[{\"cast_id\": 242, \"character\": \"Jake Sully\", \"...</td>\n",
       "      <td>[{\"credit_id\": \"52fe48009251416c750aca23\", \"de...</td>\n",
       "    </tr>\n",
       "    <tr>\n",
       "      <th>1</th>\n",
       "      <td>285</td>\n",
       "      <td>Pirates of the Caribbean: At World's End</td>\n",
       "      <td>[Adventure, Fantasy, Action]</td>\n",
       "      <td>[{\"id\": 270, \"name\": \"ocean\"}, {\"id\": 726, \"na...</td>\n",
       "      <td>Captain Barbossa, long believed to be dead, ha...</td>\n",
       "      <td>[{\"cast_id\": 4, \"character\": \"Captain Jack Spa...</td>\n",
       "      <td>[{\"credit_id\": \"52fe4232c3a36847f800b579\", \"de...</td>\n",
       "    </tr>\n",
       "  </tbody>\n",
       "</table>\n",
       "</div>"
      ],
      "text/plain": [
       "      id                                     title  \\\n",
       "0  19995                                    Avatar   \n",
       "1    285  Pirates of the Caribbean: At World's End   \n",
       "\n",
       "                                          genres  \\\n",
       "0  [Action, Adventure, Fantasy, Science Fiction]   \n",
       "1                   [Adventure, Fantasy, Action]   \n",
       "\n",
       "                                            keywords  \\\n",
       "0  [{\"id\": 1463, \"name\": \"culture clash\"}, {\"id\":...   \n",
       "1  [{\"id\": 270, \"name\": \"ocean\"}, {\"id\": 726, \"na...   \n",
       "\n",
       "                                            overview  \\\n",
       "0  In the 22nd century, a paraplegic Marine is di...   \n",
       "1  Captain Barbossa, long believed to be dead, ha...   \n",
       "\n",
       "                                                cast  \\\n",
       "0  [{\"cast_id\": 242, \"character\": \"Jake Sully\", \"...   \n",
       "1  [{\"cast_id\": 4, \"character\": \"Captain Jack Spa...   \n",
       "\n",
       "                                                crew  \n",
       "0  [{\"credit_id\": \"52fe48009251416c750aca23\", \"de...  \n",
       "1  [{\"credit_id\": \"52fe4232c3a36847f800b579\", \"de...  "
      ]
     },
     "execution_count": 21,
     "metadata": {},
     "output_type": "execute_result"
    }
   ],
   "source": [
    "movies.head(2)"
   ]
  },
  {
   "cell_type": "code",
   "execution_count": 22,
   "metadata": {},
   "outputs": [
    {
     "data": {
      "text/plain": [
       "['culture clash',\n",
       " 'future',\n",
       " 'space war',\n",
       " 'space colony',\n",
       " 'society',\n",
       " 'space travel',\n",
       " 'futuristic',\n",
       " 'romance',\n",
       " 'space',\n",
       " 'alien',\n",
       " 'tribe',\n",
       " 'alien planet',\n",
       " 'cgi',\n",
       " 'marine',\n",
       " 'soldier',\n",
       " 'battle',\n",
       " 'love affair',\n",
       " 'anti war',\n",
       " 'power relations',\n",
       " 'mind and soul',\n",
       " '3d']"
      ]
     },
     "execution_count": 22,
     "metadata": {},
     "output_type": "execute_result"
    }
   ],
   "source": [
    "convert_to_list(movies.iloc[0].keywords)"
   ]
  },
  {
   "cell_type": "code",
   "execution_count": 23,
   "metadata": {},
   "outputs": [
    {
     "data": {
      "text/plain": [
       "0    [culture clash, future, space war, space colon...\n",
       "1    [ocean, drug abuse, exotic island, east india ...\n",
       "2    [spy, based on novel, secret agent, sequel, mi...\n",
       "Name: keywords, dtype: object"
      ]
     },
     "execution_count": 23,
     "metadata": {},
     "output_type": "execute_result"
    }
   ],
   "source": [
    "movies['keywords'].apply(convert_to_list).head(3)"
   ]
  },
  {
   "cell_type": "code",
   "execution_count": 24,
   "metadata": {},
   "outputs": [],
   "source": [
    "movies['keywords'] = movies['keywords'].apply(convert_to_list)"
   ]
  },
  {
   "cell_type": "code",
   "execution_count": 25,
   "metadata": {},
   "outputs": [
    {
     "data": {
      "text/html": [
       "<div>\n",
       "<style scoped>\n",
       "    .dataframe tbody tr th:only-of-type {\n",
       "        vertical-align: middle;\n",
       "    }\n",
       "\n",
       "    .dataframe tbody tr th {\n",
       "        vertical-align: top;\n",
       "    }\n",
       "\n",
       "    .dataframe thead th {\n",
       "        text-align: right;\n",
       "    }\n",
       "</style>\n",
       "<table border=\"1\" class=\"dataframe\">\n",
       "  <thead>\n",
       "    <tr style=\"text-align: right;\">\n",
       "      <th></th>\n",
       "      <th>id</th>\n",
       "      <th>title</th>\n",
       "      <th>genres</th>\n",
       "      <th>keywords</th>\n",
       "      <th>overview</th>\n",
       "      <th>cast</th>\n",
       "      <th>crew</th>\n",
       "    </tr>\n",
       "  </thead>\n",
       "  <tbody>\n",
       "    <tr>\n",
       "      <th>0</th>\n",
       "      <td>19995</td>\n",
       "      <td>Avatar</td>\n",
       "      <td>[Action, Adventure, Fantasy, Science Fiction]</td>\n",
       "      <td>[culture clash, future, space war, space colon...</td>\n",
       "      <td>In the 22nd century, a paraplegic Marine is di...</td>\n",
       "      <td>[{\"cast_id\": 242, \"character\": \"Jake Sully\", \"...</td>\n",
       "      <td>[{\"credit_id\": \"52fe48009251416c750aca23\", \"de...</td>\n",
       "    </tr>\n",
       "    <tr>\n",
       "      <th>1</th>\n",
       "      <td>285</td>\n",
       "      <td>Pirates of the Caribbean: At World's End</td>\n",
       "      <td>[Adventure, Fantasy, Action]</td>\n",
       "      <td>[ocean, drug abuse, exotic island, east india ...</td>\n",
       "      <td>Captain Barbossa, long believed to be dead, ha...</td>\n",
       "      <td>[{\"cast_id\": 4, \"character\": \"Captain Jack Spa...</td>\n",
       "      <td>[{\"credit_id\": \"52fe4232c3a36847f800b579\", \"de...</td>\n",
       "    </tr>\n",
       "  </tbody>\n",
       "</table>\n",
       "</div>"
      ],
      "text/plain": [
       "      id                                     title  \\\n",
       "0  19995                                    Avatar   \n",
       "1    285  Pirates of the Caribbean: At World's End   \n",
       "\n",
       "                                          genres  \\\n",
       "0  [Action, Adventure, Fantasy, Science Fiction]   \n",
       "1                   [Adventure, Fantasy, Action]   \n",
       "\n",
       "                                            keywords  \\\n",
       "0  [culture clash, future, space war, space colon...   \n",
       "1  [ocean, drug abuse, exotic island, east india ...   \n",
       "\n",
       "                                            overview  \\\n",
       "0  In the 22nd century, a paraplegic Marine is di...   \n",
       "1  Captain Barbossa, long believed to be dead, ha...   \n",
       "\n",
       "                                                cast  \\\n",
       "0  [{\"cast_id\": 242, \"character\": \"Jake Sully\", \"...   \n",
       "1  [{\"cast_id\": 4, \"character\": \"Captain Jack Spa...   \n",
       "\n",
       "                                                crew  \n",
       "0  [{\"credit_id\": \"52fe48009251416c750aca23\", \"de...  \n",
       "1  [{\"credit_id\": \"52fe4232c3a36847f800b579\", \"de...  "
      ]
     },
     "execution_count": 25,
     "metadata": {},
     "output_type": "execute_result"
    }
   ],
   "source": [
    "movies.head(2)"
   ]
  },
  {
   "cell_type": "code",
   "execution_count": 26,
   "metadata": {},
   "outputs": [
    {
     "data": {
      "text/plain": [
       "'[{\"cast_id\": 242, \"character\": \"Jake Sully\", \"credit_id\": \"5602a8a7c3a3685532001c9a\", \"gender\": 2, \"id\": 65731, \"name\": \"Sam Worthington\", \"order\": 0}, {\"cast_id\": 3, \"character\": \"Neytiri\", \"credit_id\": \"52fe48009251416c750ac9cb\", \"gender\": 1, \"id\": 8691, \"name\": \"Zoe Saldana\", \"order\": 1}, {\"cast_id\": 25, \"character\": \"Dr. Grace Augustine\", \"credit_id\": \"52fe48009251416c750aca39\", \"gender\": 1, \"id\": 10205, \"name\": \"Sigourney Weaver\", \"order\": 2}, {\"cast_id\": 4, \"character\": \"Col. Quaritch\", \"credit_id\": \"52fe48009251416c750ac9cf\", \"gender\": 2, \"id\": 32747, \"name\": \"Stephen Lang\", \"order\": 3}, {\"cast_id\": 5, \"character\": \"Trudy Chacon\", \"credit_id\": \"52fe48009251416c750ac9d3\", \"gender\": 1, \"id\": 17647, \"name\": \"Michelle Rodriguez\", \"order\": 4}, {\"cast_id\": 8, \"character\": \"Selfridge\", \"credit_id\": \"52fe48009251416c750ac9e1\", \"gender\": 2, \"id\": 1771, \"name\": \"Giovanni Ribisi\", \"order\": 5}, {\"cast_id\": 7, \"character\": \"Norm Spellman\", \"credit_id\": \"52fe48009251416c750ac9dd\", \"gender\": 2, \"id\": 59231, \"name\": \"Joel David Moore\", \"order\": 6}, {\"cast_id\": 9, \"character\": \"Moat\", \"credit_id\": \"52fe48009251416c750ac9e5\", \"gender\": 1, \"id\": 30485, \"name\": \"CCH Pounder\", \"order\": 7}, {\"cast_id\": 11, \"character\": \"Eytukan\", \"credit_id\": \"52fe48009251416c750ac9ed\", \"gender\": 2, \"id\": 15853, \"name\": \"Wes Studi\", \"order\": 8}, {\"cast_id\": 10, \"character\": \"Tsu\\'Tey\", \"credit_id\": \"52fe48009251416c750ac9e9\", \"gender\": 2, \"id\": 10964, \"name\": \"Laz Alonso\", \"order\": 9}, {\"cast_id\": 12, \"character\": \"Dr. Max Patel\", \"credit_id\": \"52fe48009251416c750ac9f1\", \"gender\": 2, \"id\": 95697, \"name\": \"Dileep Rao\", \"order\": 10}, {\"cast_id\": 13, \"character\": \"Lyle Wainfleet\", \"credit_id\": \"52fe48009251416c750ac9f5\", \"gender\": 2, \"id\": 98215, \"name\": \"Matt Gerald\", \"order\": 11}, {\"cast_id\": 32, \"character\": \"Private Fike\", \"credit_id\": \"52fe48009251416c750aca5b\", \"gender\": 2, \"id\": 154153, \"name\": \"Sean Anthony Moran\", \"order\": 12}, {\"cast_id\": 33, \"character\": \"Cryo Vault Med Tech\", \"credit_id\": \"52fe48009251416c750aca5f\", \"gender\": 2, \"id\": 397312, \"name\": \"Jason Whyte\", \"order\": 13}, {\"cast_id\": 34, \"character\": \"Venture Star Crew Chief\", \"credit_id\": \"52fe48009251416c750aca63\", \"gender\": 2, \"id\": 42317, \"name\": \"Scott Lawrence\", \"order\": 14}, {\"cast_id\": 35, \"character\": \"Lock Up Trooper\", \"credit_id\": \"52fe48009251416c750aca67\", \"gender\": 2, \"id\": 986734, \"name\": \"Kelly Kilgour\", \"order\": 15}, {\"cast_id\": 36, \"character\": \"Shuttle Pilot\", \"credit_id\": \"52fe48009251416c750aca6b\", \"gender\": 0, \"id\": 1207227, \"name\": \"James Patrick Pitt\", \"order\": 16}, {\"cast_id\": 37, \"character\": \"Shuttle Co-Pilot\", \"credit_id\": \"52fe48009251416c750aca6f\", \"gender\": 0, \"id\": 1180936, \"name\": \"Sean Patrick Murphy\", \"order\": 17}, {\"cast_id\": 38, \"character\": \"Shuttle Crew Chief\", \"credit_id\": \"52fe48009251416c750aca73\", \"gender\": 2, \"id\": 1019578, \"name\": \"Peter Dillon\", \"order\": 18}, {\"cast_id\": 39, \"character\": \"Tractor Operator / Troupe\", \"credit_id\": \"52fe48009251416c750aca77\", \"gender\": 0, \"id\": 91443, \"name\": \"Kevin Dorman\", \"order\": 19}, {\"cast_id\": 40, \"character\": \"Dragon Gunship Pilot\", \"credit_id\": \"52fe48009251416c750aca7b\", \"gender\": 2, \"id\": 173391, \"name\": \"Kelson Henderson\", \"order\": 20}, {\"cast_id\": 41, \"character\": \"Dragon Gunship Gunner\", \"credit_id\": \"52fe48009251416c750aca7f\", \"gender\": 0, \"id\": 1207236, \"name\": \"David Van Horn\", \"order\": 21}, {\"cast_id\": 42, \"character\": \"Dragon Gunship Navigator\", \"credit_id\": \"52fe48009251416c750aca83\", \"gender\": 0, \"id\": 215913, \"name\": \"Jacob Tomuri\", \"order\": 22}, {\"cast_id\": 43, \"character\": \"Suit #1\", \"credit_id\": \"52fe48009251416c750aca87\", \"gender\": 0, \"id\": 143206, \"name\": \"Michael Blain-Rozgay\", \"order\": 23}, {\"cast_id\": 44, \"character\": \"Suit #2\", \"credit_id\": \"52fe48009251416c750aca8b\", \"gender\": 2, \"id\": 169676, \"name\": \"Jon Curry\", \"order\": 24}, {\"cast_id\": 46, \"character\": \"Ambient Room Tech\", \"credit_id\": \"52fe48009251416c750aca8f\", \"gender\": 0, \"id\": 1048610, \"name\": \"Luke Hawker\", \"order\": 25}, {\"cast_id\": 47, \"character\": \"Ambient Room Tech / Troupe\", \"credit_id\": \"52fe48009251416c750aca93\", \"gender\": 0, \"id\": 42288, \"name\": \"Woody Schultz\", \"order\": 26}, {\"cast_id\": 48, \"character\": \"Horse Clan Leader\", \"credit_id\": \"52fe48009251416c750aca97\", \"gender\": 2, \"id\": 68278, \"name\": \"Peter Mensah\", \"order\": 27}, {\"cast_id\": 49, \"character\": \"Link Room Tech\", \"credit_id\": \"52fe48009251416c750aca9b\", \"gender\": 0, \"id\": 1207247, \"name\": \"Sonia Yee\", \"order\": 28}, {\"cast_id\": 50, \"character\": \"Basketball Avatar / Troupe\", \"credit_id\": \"52fe48009251416c750aca9f\", \"gender\": 1, \"id\": 1207248, \"name\": \"Jahnel Curfman\", \"order\": 29}, {\"cast_id\": 51, \"character\": \"Basketball Avatar\", \"credit_id\": \"52fe48009251416c750acaa3\", \"gender\": 0, \"id\": 89714, \"name\": \"Ilram Choi\", \"order\": 30}, {\"cast_id\": 52, \"character\": \"Na\\'vi Child\", \"credit_id\": \"52fe48009251416c750acaa7\", \"gender\": 0, \"id\": 1207249, \"name\": \"Kyla Warren\", \"order\": 31}, {\"cast_id\": 53, \"character\": \"Troupe\", \"credit_id\": \"52fe48009251416c750acaab\", \"gender\": 0, \"id\": 1207250, \"name\": \"Lisa Roumain\", \"order\": 32}, {\"cast_id\": 54, \"character\": \"Troupe\", \"credit_id\": \"52fe48009251416c750acaaf\", \"gender\": 1, \"id\": 83105, \"name\": \"Debra Wilson\", \"order\": 33}, {\"cast_id\": 57, \"character\": \"Troupe\", \"credit_id\": \"52fe48009251416c750acabb\", \"gender\": 0, \"id\": 1207253, \"name\": \"Chris Mala\", \"order\": 34}, {\"cast_id\": 55, \"character\": \"Troupe\", \"credit_id\": \"52fe48009251416c750acab3\", \"gender\": 0, \"id\": 1207251, \"name\": \"Taylor Kibby\", \"order\": 35}, {\"cast_id\": 56, \"character\": \"Troupe\", \"credit_id\": \"52fe48009251416c750acab7\", \"gender\": 0, \"id\": 1207252, \"name\": \"Jodie Landau\", \"order\": 36}, {\"cast_id\": 58, \"character\": \"Troupe\", \"credit_id\": \"52fe48009251416c750acabf\", \"gender\": 0, \"id\": 1207254, \"name\": \"Julie Lamm\", \"order\": 37}, {\"cast_id\": 59, \"character\": \"Troupe\", \"credit_id\": \"52fe48009251416c750acac3\", \"gender\": 0, \"id\": 1207257, \"name\": \"Cullen B. Madden\", \"order\": 38}, {\"cast_id\": 60, \"character\": \"Troupe\", \"credit_id\": \"52fe48009251416c750acac7\", \"gender\": 0, \"id\": 1207259, \"name\": \"Joseph Brady Madden\", \"order\": 39}, {\"cast_id\": 61, \"character\": \"Troupe\", \"credit_id\": \"52fe48009251416c750acacb\", \"gender\": 0, \"id\": 1207262, \"name\": \"Frankie Torres\", \"order\": 40}, {\"cast_id\": 62, \"character\": \"Troupe\", \"credit_id\": \"52fe48009251416c750acacf\", \"gender\": 1, \"id\": 1158600, \"name\": \"Austin Wilson\", \"order\": 41}, {\"cast_id\": 63, \"character\": \"Troupe\", \"credit_id\": \"52fe48019251416c750acad3\", \"gender\": 1, \"id\": 983705, \"name\": \"Sara Wilson\", \"order\": 42}, {\"cast_id\": 64, \"character\": \"Troupe\", \"credit_id\": \"52fe48019251416c750acad7\", \"gender\": 0, \"id\": 1207263, \"name\": \"Tamica Washington-Miller\", \"order\": 43}, {\"cast_id\": 65, \"character\": \"Op Center Staff\", \"credit_id\": \"52fe48019251416c750acadb\", \"gender\": 1, \"id\": 1145098, \"name\": \"Lucy Briant\", \"order\": 44}, {\"cast_id\": 66, \"character\": \"Op Center Staff\", \"credit_id\": \"52fe48019251416c750acadf\", \"gender\": 2, \"id\": 33305, \"name\": \"Nathan Meister\", \"order\": 45}, {\"cast_id\": 67, \"character\": \"Op Center Staff\", \"credit_id\": \"52fe48019251416c750acae3\", \"gender\": 0, \"id\": 1207264, \"name\": \"Gerry Blair\", \"order\": 46}, {\"cast_id\": 68, \"character\": \"Op Center Staff\", \"credit_id\": \"52fe48019251416c750acae7\", \"gender\": 2, \"id\": 33311, \"name\": \"Matthew Chamberlain\", \"order\": 47}, {\"cast_id\": 69, \"character\": \"Op Center Staff\", \"credit_id\": \"52fe48019251416c750acaeb\", \"gender\": 0, \"id\": 1207265, \"name\": \"Paul Yates\", \"order\": 48}, {\"cast_id\": 70, \"character\": \"Op Center Duty Officer\", \"credit_id\": \"52fe48019251416c750acaef\", \"gender\": 0, \"id\": 1207266, \"name\": \"Wray Wilson\", \"order\": 49}, {\"cast_id\": 71, \"character\": \"Op Center Staff\", \"credit_id\": \"52fe48019251416c750acaf3\", \"gender\": 2, \"id\": 54492, \"name\": \"James Gaylyn\", \"order\": 50}, {\"cast_id\": 72, \"character\": \"Dancer\", \"credit_id\": \"52fe48019251416c750acaf7\", \"gender\": 0, \"id\": 1207267, \"name\": \"Melvin Leno Clark III\", \"order\": 51}, {\"cast_id\": 73, \"character\": \"Dancer\", \"credit_id\": \"52fe48019251416c750acafb\", \"gender\": 0, \"id\": 1207268, \"name\": \"Carvon Futrell\", \"order\": 52}, {\"cast_id\": 74, \"character\": \"Dancer\", \"credit_id\": \"52fe48019251416c750acaff\", \"gender\": 0, \"id\": 1207269, \"name\": \"Brandon Jelkes\", \"order\": 53}, {\"cast_id\": 75, \"character\": \"Dancer\", \"credit_id\": \"52fe48019251416c750acb03\", \"gender\": 0, \"id\": 1207270, \"name\": \"Micah Moch\", \"order\": 54}, {\"cast_id\": 76, \"character\": \"Dancer\", \"credit_id\": \"52fe48019251416c750acb07\", \"gender\": 0, \"id\": 1207271, \"name\": \"Hanniyah Muhammad\", \"order\": 55}, {\"cast_id\": 77, \"character\": \"Dancer\", \"credit_id\": \"52fe48019251416c750acb0b\", \"gender\": 0, \"id\": 1207272, \"name\": \"Christopher Nolen\", \"order\": 56}, {\"cast_id\": 78, \"character\": \"Dancer\", \"credit_id\": \"52fe48019251416c750acb0f\", \"gender\": 0, \"id\": 1207273, \"name\": \"Christa Oliver\", \"order\": 57}, {\"cast_id\": 79, \"character\": \"Dancer\", \"credit_id\": \"52fe48019251416c750acb13\", \"gender\": 0, \"id\": 1207274, \"name\": \"April Marie Thomas\", \"order\": 58}, {\"cast_id\": 80, \"character\": \"Dancer\", \"credit_id\": \"52fe48019251416c750acb17\", \"gender\": 0, \"id\": 1207275, \"name\": \"Bravita A. Threatt\", \"order\": 59}, {\"cast_id\": 81, \"character\": \"Mining Chief (uncredited)\", \"credit_id\": \"52fe48019251416c750acb1b\", \"gender\": 0, \"id\": 1207276, \"name\": \"Colin Bleasdale\", \"order\": 60}, {\"cast_id\": 82, \"character\": \"Veteran Miner (uncredited)\", \"credit_id\": \"52fe48019251416c750acb1f\", \"gender\": 0, \"id\": 107969, \"name\": \"Mike Bodnar\", \"order\": 61}, {\"cast_id\": 83, \"character\": \"Richard (uncredited)\", \"credit_id\": \"52fe48019251416c750acb23\", \"gender\": 0, \"id\": 1207278, \"name\": \"Matt Clayton\", \"order\": 62}, {\"cast_id\": 84, \"character\": \"Nav\\'i (uncredited)\", \"credit_id\": \"52fe48019251416c750acb27\", \"gender\": 1, \"id\": 147898, \"name\": \"Nicole Dionne\", \"order\": 63}, {\"cast_id\": 85, \"character\": \"Trooper (uncredited)\", \"credit_id\": \"52fe48019251416c750acb2b\", \"gender\": 0, \"id\": 1207280, \"name\": \"Jamie Harrison\", \"order\": 64}, {\"cast_id\": 86, \"character\": \"Trooper (uncredited)\", \"credit_id\": \"52fe48019251416c750acb2f\", \"gender\": 0, \"id\": 1207281, \"name\": \"Allan Henry\", \"order\": 65}, {\"cast_id\": 87, \"character\": \"Ground Technician (uncredited)\", \"credit_id\": \"52fe48019251416c750acb33\", \"gender\": 2, \"id\": 1207282, \"name\": \"Anthony Ingruber\", \"order\": 66}, {\"cast_id\": 88, \"character\": \"Flight Crew Mechanic (uncredited)\", \"credit_id\": \"52fe48019251416c750acb37\", \"gender\": 0, \"id\": 1207283, \"name\": \"Ashley Jeffery\", \"order\": 67}, {\"cast_id\": 14, \"character\": \"Samson Pilot\", \"credit_id\": \"52fe48009251416c750ac9f9\", \"gender\": 0, \"id\": 98216, \"name\": \"Dean Knowsley\", \"order\": 68}, {\"cast_id\": 89, \"character\": \"Trooper (uncredited)\", \"credit_id\": \"52fe48019251416c750acb3b\", \"gender\": 0, \"id\": 1201399, \"name\": \"Joseph Mika-Hunt\", \"order\": 69}, {\"cast_id\": 90, \"character\": \"Banshee (uncredited)\", \"credit_id\": \"52fe48019251416c750acb3f\", \"gender\": 0, \"id\": 236696, \"name\": \"Terry Notary\", \"order\": 70}, {\"cast_id\": 91, \"character\": \"Soldier (uncredited)\", \"credit_id\": \"52fe48019251416c750acb43\", \"gender\": 0, \"id\": 1207287, \"name\": \"Kai Pantano\", \"order\": 71}, {\"cast_id\": 92, \"character\": \"Blast Technician (uncredited)\", \"credit_id\": \"52fe48019251416c750acb47\", \"gender\": 0, \"id\": 1207288, \"name\": \"Logan Pithyou\", \"order\": 72}, {\"cast_id\": 93, \"character\": \"Vindum Raah (uncredited)\", \"credit_id\": \"52fe48019251416c750acb4b\", \"gender\": 0, \"id\": 1207289, \"name\": \"Stuart Pollock\", \"order\": 73}, {\"cast_id\": 94, \"character\": \"Hero (uncredited)\", \"credit_id\": \"52fe48019251416c750acb4f\", \"gender\": 0, \"id\": 584868, \"name\": \"Raja\", \"order\": 74}, {\"cast_id\": 95, \"character\": \"Ops Centreworker (uncredited)\", \"credit_id\": \"52fe48019251416c750acb53\", \"gender\": 0, \"id\": 1207290, \"name\": \"Gareth Ruck\", \"order\": 75}, {\"cast_id\": 96, \"character\": \"Engineer (uncredited)\", \"credit_id\": \"52fe48019251416c750acb57\", \"gender\": 0, \"id\": 1062463, \"name\": \"Rhian Sheehan\", \"order\": 76}, {\"cast_id\": 97, \"character\": \"Col. Quaritch\\'s Mech Suit (uncredited)\", \"credit_id\": \"52fe48019251416c750acb5b\", \"gender\": 0, \"id\": 60656, \"name\": \"T. J. Storm\", \"order\": 77}, {\"cast_id\": 98, \"character\": \"Female Marine (uncredited)\", \"credit_id\": \"52fe48019251416c750acb5f\", \"gender\": 0, \"id\": 1207291, \"name\": \"Jodie Taylor\", \"order\": 78}, {\"cast_id\": 99, \"character\": \"Ikran Clan Leader (uncredited)\", \"credit_id\": \"52fe48019251416c750acb63\", \"gender\": 1, \"id\": 1186027, \"name\": \"Alicia Vela-Bailey\", \"order\": 79}, {\"cast_id\": 100, \"character\": \"Geologist (uncredited)\", \"credit_id\": \"52fe48019251416c750acb67\", \"gender\": 0, \"id\": 1207292, \"name\": \"Richard Whiteside\", \"order\": 80}, {\"cast_id\": 101, \"character\": \"Na\\'vi (uncredited)\", \"credit_id\": \"52fe48019251416c750acb6b\", \"gender\": 0, \"id\": 103259, \"name\": \"Nikie Zambo\", \"order\": 81}, {\"cast_id\": 102, \"character\": \"Ambient Room Tech / Troupe\", \"credit_id\": \"52fe48019251416c750acb6f\", \"gender\": 1, \"id\": 42286, \"name\": \"Julene Renee\", \"order\": 82}]'"
      ]
     },
     "execution_count": 26,
     "metadata": {},
     "output_type": "execute_result"
    }
   ],
   "source": [
    "movies.iloc[0]['cast']"
   ]
  },
  {
   "cell_type": "code",
   "execution_count": 27,
   "metadata": {},
   "outputs": [],
   "source": [
    "def convert_cast_to_list(obj):\n",
    "    list_of_dicts = ast.literal_eval(obj)\n",
    "    # I only consider top 3 cast\n",
    "    cast_names = []\n",
    "    counter = 0\n",
    "    for character_info in list_of_dicts:\n",
    "        if counter >= 3:\n",
    "            break\n",
    "        counter += 1\n",
    "        cast_names.append(character_info['name'])\n",
    "    return cast_names\n"
   ]
  },
  {
   "cell_type": "code",
   "execution_count": 28,
   "metadata": {},
   "outputs": [
    {
     "data": {
      "text/plain": [
       "['Sam Worthington', 'Zoe Saldana', 'Sigourney Weaver']"
      ]
     },
     "execution_count": 28,
     "metadata": {},
     "output_type": "execute_result"
    }
   ],
   "source": [
    "convert_cast_to_list(movies.iloc[0]['cast'])"
   ]
  },
  {
   "cell_type": "code",
   "execution_count": 29,
   "metadata": {},
   "outputs": [],
   "source": [
    "# Kepping only top 3 cast in the data set\n",
    "movies['cast'] = movies['cast'].apply(convert_cast_to_list)"
   ]
  },
  {
   "cell_type": "code",
   "execution_count": 30,
   "metadata": {},
   "outputs": [
    {
     "data": {
      "text/html": [
       "<div>\n",
       "<style scoped>\n",
       "    .dataframe tbody tr th:only-of-type {\n",
       "        vertical-align: middle;\n",
       "    }\n",
       "\n",
       "    .dataframe tbody tr th {\n",
       "        vertical-align: top;\n",
       "    }\n",
       "\n",
       "    .dataframe thead th {\n",
       "        text-align: right;\n",
       "    }\n",
       "</style>\n",
       "<table border=\"1\" class=\"dataframe\">\n",
       "  <thead>\n",
       "    <tr style=\"text-align: right;\">\n",
       "      <th></th>\n",
       "      <th>id</th>\n",
       "      <th>title</th>\n",
       "      <th>genres</th>\n",
       "      <th>keywords</th>\n",
       "      <th>overview</th>\n",
       "      <th>cast</th>\n",
       "      <th>crew</th>\n",
       "    </tr>\n",
       "  </thead>\n",
       "  <tbody>\n",
       "    <tr>\n",
       "      <th>0</th>\n",
       "      <td>19995</td>\n",
       "      <td>Avatar</td>\n",
       "      <td>[Action, Adventure, Fantasy, Science Fiction]</td>\n",
       "      <td>[culture clash, future, space war, space colon...</td>\n",
       "      <td>In the 22nd century, a paraplegic Marine is di...</td>\n",
       "      <td>[Sam Worthington, Zoe Saldana, Sigourney Weaver]</td>\n",
       "      <td>[{\"credit_id\": \"52fe48009251416c750aca23\", \"de...</td>\n",
       "    </tr>\n",
       "    <tr>\n",
       "      <th>1</th>\n",
       "      <td>285</td>\n",
       "      <td>Pirates of the Caribbean: At World's End</td>\n",
       "      <td>[Adventure, Fantasy, Action]</td>\n",
       "      <td>[ocean, drug abuse, exotic island, east india ...</td>\n",
       "      <td>Captain Barbossa, long believed to be dead, ha...</td>\n",
       "      <td>[Johnny Depp, Orlando Bloom, Keira Knightley]</td>\n",
       "      <td>[{\"credit_id\": \"52fe4232c3a36847f800b579\", \"de...</td>\n",
       "    </tr>\n",
       "  </tbody>\n",
       "</table>\n",
       "</div>"
      ],
      "text/plain": [
       "      id                                     title  \\\n",
       "0  19995                                    Avatar   \n",
       "1    285  Pirates of the Caribbean: At World's End   \n",
       "\n",
       "                                          genres  \\\n",
       "0  [Action, Adventure, Fantasy, Science Fiction]   \n",
       "1                   [Adventure, Fantasy, Action]   \n",
       "\n",
       "                                            keywords  \\\n",
       "0  [culture clash, future, space war, space colon...   \n",
       "1  [ocean, drug abuse, exotic island, east india ...   \n",
       "\n",
       "                                            overview  \\\n",
       "0  In the 22nd century, a paraplegic Marine is di...   \n",
       "1  Captain Barbossa, long believed to be dead, ha...   \n",
       "\n",
       "                                               cast  \\\n",
       "0  [Sam Worthington, Zoe Saldana, Sigourney Weaver]   \n",
       "1     [Johnny Depp, Orlando Bloom, Keira Knightley]   \n",
       "\n",
       "                                                crew  \n",
       "0  [{\"credit_id\": \"52fe48009251416c750aca23\", \"de...  \n",
       "1  [{\"credit_id\": \"52fe4232c3a36847f800b579\", \"de...  "
      ]
     },
     "execution_count": 30,
     "metadata": {},
     "output_type": "execute_result"
    }
   ],
   "source": [
    "movies.head(2)"
   ]
  },
  {
   "cell_type": "code",
   "execution_count": 31,
   "metadata": {},
   "outputs": [
    {
     "data": {
      "text/plain": [
       "'[{\"credit_id\": \"52fe48009251416c750aca23\", \"department\": \"Editing\", \"gender\": 0, \"id\": 1721, \"job\": \"Editor\", \"name\": \"Stephen E. Rivkin\"}, {\"credit_id\": \"539c47ecc3a36810e3001f87\", \"department\": \"Art\", \"gender\": 2, \"id\": 496, \"job\": \"Production Design\", \"name\": \"Rick Carter\"}, {\"credit_id\": \"54491c89c3a3680fb4001cf7\", \"department\": \"Sound\", \"gender\": 0, \"id\": 900, \"job\": \"Sound Designer\", \"name\": \"Christopher Boyes\"}, {\"credit_id\": \"54491cb70e0a267480001bd0\", \"department\": \"Sound\", \"gender\": 0, \"id\": 900, \"job\": \"Supervising Sound Editor\", \"name\": \"Christopher Boyes\"}, {\"credit_id\": \"539c4a4cc3a36810c9002101\", \"department\": \"Production\", \"gender\": 1, \"id\": 1262, \"job\": \"Casting\", \"name\": \"Mali Finn\"}, {\"credit_id\": \"5544ee3b925141499f0008fc\", \"department\": \"Sound\", \"gender\": 2, \"id\": 1729, \"job\": \"Original Music Composer\", \"name\": \"James Horner\"}, {\"credit_id\": \"52fe48009251416c750ac9c3\", \"department\": \"Directing\", \"gender\": 2, \"id\": 2710, \"job\": \"Director\", \"name\": \"James Cameron\"}, {\"credit_id\": \"52fe48009251416c750ac9d9\", \"department\": \"Writing\", \"gender\": 2, \"id\": 2710, \"job\": \"Writer\", \"name\": \"James Cameron\"}, {\"credit_id\": \"52fe48009251416c750aca17\", \"department\": \"Editing\", \"gender\": 2, \"id\": 2710, \"job\": \"Editor\", \"name\": \"James Cameron\"}, {\"credit_id\": \"52fe48009251416c750aca29\", \"department\": \"Production\", \"gender\": 2, \"id\": 2710, \"job\": \"Producer\", \"name\": \"James Cameron\"}, {\"credit_id\": \"52fe48009251416c750aca3f\", \"department\": \"Writing\", \"gender\": 2, \"id\": 2710, \"job\": \"Screenplay\", \"name\": \"James Cameron\"}, {\"credit_id\": \"539c4987c3a36810ba0021a4\", \"department\": \"Art\", \"gender\": 2, \"id\": 7236, \"job\": \"Art Direction\", \"name\": \"Andrew Menzies\"}, {\"credit_id\": \"549598c3c3a3686ae9004383\", \"department\": \"Visual Effects\", \"gender\": 0, \"id\": 6690, \"job\": \"Visual Effects Producer\", \"name\": \"Jill Brooks\"}, {\"credit_id\": \"52fe48009251416c750aca4b\", \"department\": \"Production\", \"gender\": 1, \"id\": 6347, \"job\": \"Casting\", \"name\": \"Margery Simkin\"}, {\"credit_id\": \"570b6f419251417da70032fe\", \"department\": \"Art\", \"gender\": 2, \"id\": 6878, \"job\": \"Supervising Art Director\", \"name\": \"Kevin Ishioka\"}, {\"credit_id\": \"5495a0fac3a3686ae9004468\", \"department\": \"Sound\", \"gender\": 0, \"id\": 6883, \"job\": \"Music Editor\", \"name\": \"Dick Bernstein\"}, {\"credit_id\": \"54959706c3a3686af3003e81\", \"department\": \"Sound\", \"gender\": 0, \"id\": 8159, \"job\": \"Sound Effects Editor\", \"name\": \"Shannon Mills\"}, {\"credit_id\": \"54491d58c3a3680fb1001ccb\", \"department\": \"Sound\", \"gender\": 0, \"id\": 8160, \"job\": \"Foley\", \"name\": \"Dennie Thorpe\"}, {\"credit_id\": \"54491d6cc3a3680fa5001b2c\", \"department\": \"Sound\", \"gender\": 0, \"id\": 8163, \"job\": \"Foley\", \"name\": \"Jana Vance\"}, {\"credit_id\": \"52fe48009251416c750aca57\", \"department\": \"Costume & Make-Up\", \"gender\": 1, \"id\": 8527, \"job\": \"Costume Design\", \"name\": \"Deborah Lynn Scott\"}, {\"credit_id\": \"52fe48009251416c750aca2f\", \"department\": \"Production\", \"gender\": 2, \"id\": 8529, \"job\": \"Producer\", \"name\": \"Jon Landau\"}, {\"credit_id\": \"539c4937c3a36810ba002194\", \"department\": \"Art\", \"gender\": 0, \"id\": 9618, \"job\": \"Art Direction\", \"name\": \"Sean Haworth\"}, {\"credit_id\": \"539c49b6c3a36810c10020e6\", \"department\": \"Art\", \"gender\": 1, \"id\": 12653, \"job\": \"Set Decoration\", \"name\": \"Kim Sinclair\"}, {\"credit_id\": \"570b6f2f9251413a0e00020d\", \"department\": \"Art\", \"gender\": 1, \"id\": 12653, \"job\": \"Supervising Art Director\", \"name\": \"Kim Sinclair\"}, {\"credit_id\": \"54491a6c0e0a26748c001b19\", \"department\": \"Art\", \"gender\": 2, \"id\": 14350, \"job\": \"Set Designer\", \"name\": \"Richard F. Mays\"}, {\"credit_id\": \"56928cf4c3a3684cff0025c4\", \"department\": \"Production\", \"gender\": 1, \"id\": 20294, \"job\": \"Executive Producer\", \"name\": \"Laeta Kalogridis\"}, {\"credit_id\": \"52fe48009251416c750aca51\", \"department\": \"Costume & Make-Up\", \"gender\": 0, \"id\": 17675, \"job\": \"Costume Design\", \"name\": \"Mayes C. Rubeo\"}, {\"credit_id\": \"52fe48009251416c750aca11\", \"department\": \"Camera\", \"gender\": 2, \"id\": 18265, \"job\": \"Director of Photography\", \"name\": \"Mauro Fiore\"}, {\"credit_id\": \"5449194d0e0a26748f001b39\", \"department\": \"Art\", \"gender\": 0, \"id\": 42281, \"job\": \"Set Designer\", \"name\": \"Scott Herbertson\"}, {\"credit_id\": \"52fe48009251416c750aca05\", \"department\": \"Crew\", \"gender\": 0, \"id\": 42288, \"job\": \"Stunts\", \"name\": \"Woody Schultz\"}, {\"credit_id\": \"5592aefb92514152de0010f5\", \"department\": \"Costume & Make-Up\", \"gender\": 0, \"id\": 29067, \"job\": \"Makeup Artist\", \"name\": \"Linda DeVetta\"}, {\"credit_id\": \"5592afa492514152de00112c\", \"department\": \"Costume & Make-Up\", \"gender\": 0, \"id\": 29067, \"job\": \"Hairstylist\", \"name\": \"Linda DeVetta\"}, {\"credit_id\": \"54959ed592514130fc002e5d\", \"department\": \"Camera\", \"gender\": 2, \"id\": 33302, \"job\": \"Camera Operator\", \"name\": \"Richard Bluck\"}, {\"credit_id\": \"539c4891c3a36810ba002147\", \"department\": \"Art\", \"gender\": 2, \"id\": 33303, \"job\": \"Art Direction\", \"name\": \"Simon Bright\"}, {\"credit_id\": \"54959c069251417a81001f3a\", \"department\": \"Visual Effects\", \"gender\": 0, \"id\": 113145, \"job\": \"Visual Effects Supervisor\", \"name\": \"Richard Martin\"}, {\"credit_id\": \"54959a0dc3a3680ff5002c8d\", \"department\": \"Crew\", \"gender\": 2, \"id\": 58188, \"job\": \"Visual Effects Editor\", \"name\": \"Steve R. Moore\"}, {\"credit_id\": \"52fe48009251416c750aca1d\", \"department\": \"Editing\", \"gender\": 2, \"id\": 58871, \"job\": \"Editor\", \"name\": \"John Refoua\"}, {\"credit_id\": \"54491a4dc3a3680fc30018ca\", \"department\": \"Art\", \"gender\": 0, \"id\": 92359, \"job\": \"Set Designer\", \"name\": \"Karl J. Martin\"}, {\"credit_id\": \"52fe48009251416c750aca35\", \"department\": \"Camera\", \"gender\": 1, \"id\": 72201, \"job\": \"Director of Photography\", \"name\": \"Chiling Lin\"}, {\"credit_id\": \"52fe48009251416c750ac9ff\", \"department\": \"Crew\", \"gender\": 0, \"id\": 89714, \"job\": \"Stunts\", \"name\": \"Ilram Choi\"}, {\"credit_id\": \"54959c529251416e2b004394\", \"department\": \"Visual Effects\", \"gender\": 2, \"id\": 93214, \"job\": \"Visual Effects Supervisor\", \"name\": \"Steven Quale\"}, {\"credit_id\": \"54491edf0e0a267489001c37\", \"department\": \"Crew\", \"gender\": 1, \"id\": 122607, \"job\": \"Dialect Coach\", \"name\": \"Carla Meyer\"}, {\"credit_id\": \"539c485bc3a368653d001a3a\", \"department\": \"Art\", \"gender\": 2, \"id\": 132585, \"job\": \"Art Direction\", \"name\": \"Nick Bassett\"}, {\"credit_id\": \"539c4903c3a368653d001a74\", \"department\": \"Art\", \"gender\": 0, \"id\": 132596, \"job\": \"Art Direction\", \"name\": \"Jill Cormack\"}, {\"credit_id\": \"539c4967c3a368653d001a94\", \"department\": \"Art\", \"gender\": 0, \"id\": 132604, \"job\": \"Art Direction\", \"name\": \"Andy McLaren\"}, {\"credit_id\": \"52fe48009251416c750aca45\", \"department\": \"Crew\", \"gender\": 0, \"id\": 236696, \"job\": \"Motion Capture Artist\", \"name\": \"Terry Notary\"}, {\"credit_id\": \"54959e02c3a3680fc60027d2\", \"department\": \"Crew\", \"gender\": 2, \"id\": 956198, \"job\": \"Stunt Coordinator\", \"name\": \"Garrett Warren\"}, {\"credit_id\": \"54959ca3c3a3686ae300438c\", \"department\": \"Visual Effects\", \"gender\": 2, \"id\": 957874, \"job\": \"Visual Effects Supervisor\", \"name\": \"Jonathan Rothbart\"}, {\"credit_id\": \"570b6f519251412c74001b2f\", \"department\": \"Art\", \"gender\": 0, \"id\": 957889, \"job\": \"Supervising Art Director\", \"name\": \"Stefan Dechant\"}, {\"credit_id\": \"570b6f62c3a3680b77007460\", \"department\": \"Art\", \"gender\": 2, \"id\": 959555, \"job\": \"Supervising Art Director\", \"name\": \"Todd Cherniawsky\"}, {\"credit_id\": \"539c4a3ac3a36810da0021cc\", \"department\": \"Production\", \"gender\": 0, \"id\": 1016177, \"job\": \"Casting\", \"name\": \"Miranda Rivers\"}, {\"credit_id\": \"539c482cc3a36810c1002062\", \"department\": \"Art\", \"gender\": 0, \"id\": 1032536, \"job\": \"Production Design\", \"name\": \"Robert Stromberg\"}, {\"credit_id\": \"539c4b65c3a36810c9002125\", \"department\": \"Costume & Make-Up\", \"gender\": 2, \"id\": 1071680, \"job\": \"Costume Design\", \"name\": \"John Harding\"}, {\"credit_id\": \"54959e6692514130fc002e4e\", \"department\": \"Camera\", \"gender\": 0, \"id\": 1177364, \"job\": \"Steadicam Operator\", \"name\": \"Roberto De Angelis\"}, {\"credit_id\": \"539c49f1c3a368653d001aac\", \"department\": \"Costume & Make-Up\", \"gender\": 2, \"id\": 1202850, \"job\": \"Makeup Department Head\", \"name\": \"Mike Smithson\"}, {\"credit_id\": \"5495999ec3a3686ae100460c\", \"department\": \"Visual Effects\", \"gender\": 0, \"id\": 1204668, \"job\": \"Visual Effects Producer\", \"name\": \"Alain Lalanne\"}, {\"credit_id\": \"54959cdfc3a3681153002729\", \"department\": \"Visual Effects\", \"gender\": 0, \"id\": 1206410, \"job\": \"Visual Effects Supervisor\", \"name\": \"Lucas Salton\"}, {\"credit_id\": \"549596239251417a81001eae\", \"department\": \"Crew\", \"gender\": 0, \"id\": 1234266, \"job\": \"Post Production Supervisor\", \"name\": \"Janace Tashjian\"}, {\"credit_id\": \"54959c859251416e1e003efe\", \"department\": \"Visual Effects\", \"gender\": 0, \"id\": 1271932, \"job\": \"Visual Effects Supervisor\", \"name\": \"Stephen Rosenbaum\"}, {\"credit_id\": \"5592af28c3a368775a00105f\", \"department\": \"Costume & Make-Up\", \"gender\": 0, \"id\": 1310064, \"job\": \"Makeup Artist\", \"name\": \"Frankie Karena\"}, {\"credit_id\": \"539c4adfc3a36810e300203b\", \"department\": \"Costume & Make-Up\", \"gender\": 1, \"id\": 1319844, \"job\": \"Costume Supervisor\", \"name\": \"Lisa Lovaas\"}, {\"credit_id\": \"54959b579251416e2b004371\", \"department\": \"Visual Effects\", \"gender\": 0, \"id\": 1327028, \"job\": \"Visual Effects Supervisor\", \"name\": \"Jonathan Fawkner\"}, {\"credit_id\": \"539c48a7c3a36810b5001fa7\", \"department\": \"Art\", \"gender\": 0, \"id\": 1330561, \"job\": \"Art Direction\", \"name\": \"Robert Bavin\"}, {\"credit_id\": \"539c4a71c3a36810da0021e0\", \"department\": \"Costume & Make-Up\", \"gender\": 0, \"id\": 1330567, \"job\": \"Costume Supervisor\", \"name\": \"Anthony Almaraz\"}, {\"credit_id\": \"539c4a8ac3a36810ba0021e4\", \"department\": \"Costume & Make-Up\", \"gender\": 0, \"id\": 1330570, \"job\": \"Costume Supervisor\", \"name\": \"Carolyn M. Fenton\"}, {\"credit_id\": \"539c4ab6c3a36810da0021f0\", \"department\": \"Costume & Make-Up\", \"gender\": 0, \"id\": 1330574, \"job\": \"Costume Supervisor\", \"name\": \"Beth Koenigsberg\"}, {\"credit_id\": \"54491ab70e0a267480001ba2\", \"department\": \"Art\", \"gender\": 0, \"id\": 1336191, \"job\": \"Set Designer\", \"name\": \"Sam Page\"}, {\"credit_id\": \"544919d9c3a3680fc30018bd\", \"department\": \"Art\", \"gender\": 0, \"id\": 1339441, \"job\": \"Set Designer\", \"name\": \"Tex Kadonaga\"}, {\"credit_id\": \"54491cf50e0a267483001b0c\", \"department\": \"Editing\", \"gender\": 0, \"id\": 1352422, \"job\": \"Dialogue Editor\", \"name\": \"Kim Foscato\"}, {\"credit_id\": \"544919f40e0a26748c001b09\", \"department\": \"Art\", \"gender\": 0, \"id\": 1352962, \"job\": \"Set Designer\", \"name\": \"Tammy S. Lee\"}, {\"credit_id\": \"5495a115c3a3680ff5002d71\", \"department\": \"Crew\", \"gender\": 0, \"id\": 1357070, \"job\": \"Transportation Coordinator\", \"name\": \"Denny Caira\"}, {\"credit_id\": \"5495a12f92514130fc002e94\", \"department\": \"Crew\", \"gender\": 0, \"id\": 1357071, \"job\": \"Transportation Coordinator\", \"name\": \"James Waitkus\"}, {\"credit_id\": \"5495976fc3a36811530026b0\", \"department\": \"Sound\", \"gender\": 0, \"id\": 1360103, \"job\": \"Supervising Sound Editor\", \"name\": \"Addison Teague\"}, {\"credit_id\": \"54491837c3a3680fb1001c5a\", \"department\": \"Art\", \"gender\": 2, \"id\": 1376887, \"job\": \"Set Designer\", \"name\": \"C. Scott Baker\"}, {\"credit_id\": \"54491878c3a3680fb4001c9d\", \"department\": \"Art\", \"gender\": 0, \"id\": 1376888, \"job\": \"Set Designer\", \"name\": \"Luke Caska\"}, {\"credit_id\": \"544918dac3a3680fa5001ae0\", \"department\": \"Art\", \"gender\": 0, \"id\": 1376889, \"job\": \"Set Designer\", \"name\": \"David Chow\"}, {\"credit_id\": \"544919110e0a267486001b68\", \"department\": \"Art\", \"gender\": 0, \"id\": 1376890, \"job\": \"Set Designer\", \"name\": \"Jonathan Dyer\"}, {\"credit_id\": \"54491967c3a3680faa001b5e\", \"department\": \"Art\", \"gender\": 0, \"id\": 1376891, \"job\": \"Set Designer\", \"name\": \"Joseph Hiura\"}, {\"credit_id\": \"54491997c3a3680fb1001c8a\", \"department\": \"Art\", \"gender\": 0, \"id\": 1376892, \"job\": \"Art Department Coordinator\", \"name\": \"Rebecca Jellie\"}, {\"credit_id\": \"544919ba0e0a26748f001b42\", \"department\": \"Art\", \"gender\": 0, \"id\": 1376893, \"job\": \"Set Designer\", \"name\": \"Robert Andrew Johnson\"}, {\"credit_id\": \"54491b1dc3a3680faa001b8c\", \"department\": \"Art\", \"gender\": 0, \"id\": 1376895, \"job\": \"Assistant Art Director\", \"name\": \"Mike Stassi\"}, {\"credit_id\": \"54491b79c3a3680fbb001826\", \"department\": \"Art\", \"gender\": 0, \"id\": 1376897, \"job\": \"Construction Coordinator\", \"name\": \"John Villarino\"}, {\"credit_id\": \"54491baec3a3680fb4001ce6\", \"department\": \"Art\", \"gender\": 2, \"id\": 1376898, \"job\": \"Assistant Art Director\", \"name\": \"Jeffrey Wisniewski\"}, {\"credit_id\": \"54491d2fc3a3680fb4001d07\", \"department\": \"Editing\", \"gender\": 0, \"id\": 1376899, \"job\": \"Dialogue Editor\", \"name\": \"Cheryl Nardi\"}, {\"credit_id\": \"54491d86c3a3680fa5001b2f\", \"department\": \"Editing\", \"gender\": 0, \"id\": 1376901, \"job\": \"Dialogue Editor\", \"name\": \"Marshall Winn\"}, {\"credit_id\": \"54491d9dc3a3680faa001bb0\", \"department\": \"Sound\", \"gender\": 0, \"id\": 1376902, \"job\": \"Supervising Sound Editor\", \"name\": \"Gwendolyn Yates Whittle\"}, {\"credit_id\": \"54491dc10e0a267486001bce\", \"department\": \"Sound\", \"gender\": 0, \"id\": 1376903, \"job\": \"Sound Re-Recording Mixer\", \"name\": \"William Stein\"}, {\"credit_id\": \"54491f500e0a26747c001c07\", \"department\": \"Crew\", \"gender\": 0, \"id\": 1376909, \"job\": \"Choreographer\", \"name\": \"Lula Washington\"}, {\"credit_id\": \"549599239251412c4e002a2e\", \"department\": \"Visual Effects\", \"gender\": 0, \"id\": 1391692, \"job\": \"Visual Effects Producer\", \"name\": \"Chris Del Conte\"}, {\"credit_id\": \"54959d54c3a36831b8001d9a\", \"department\": \"Visual Effects\", \"gender\": 2, \"id\": 1391695, \"job\": \"Visual Effects Supervisor\", \"name\": \"R. Christopher White\"}, {\"credit_id\": \"54959bdf9251412c4e002a66\", \"department\": \"Visual Effects\", \"gender\": 0, \"id\": 1394070, \"job\": \"Visual Effects Supervisor\", \"name\": \"Dan Lemmon\"}, {\"credit_id\": \"5495971d92514132ed002922\", \"department\": \"Sound\", \"gender\": 0, \"id\": 1394129, \"job\": \"Sound Effects Editor\", \"name\": \"Tim Nielsen\"}, {\"credit_id\": \"5592b25792514152cc0011aa\", \"department\": \"Crew\", \"gender\": 0, \"id\": 1394286, \"job\": \"CG Supervisor\", \"name\": \"Michael Mulholland\"}, {\"credit_id\": \"54959a329251416e2b004355\", \"department\": \"Crew\", \"gender\": 0, \"id\": 1394750, \"job\": \"Visual Effects Editor\", \"name\": \"Thomas Nittmann\"}, {\"credit_id\": \"54959d6dc3a3686ae9004401\", \"department\": \"Visual Effects\", \"gender\": 0, \"id\": 1394755, \"job\": \"Visual Effects Supervisor\", \"name\": \"Edson Williams\"}, {\"credit_id\": \"5495a08fc3a3686ae300441c\", \"department\": \"Editing\", \"gender\": 0, \"id\": 1394953, \"job\": \"Digital Intermediate\", \"name\": \"Christine Carr\"}, {\"credit_id\": \"55402d659251413d6d000249\", \"department\": \"Visual Effects\", \"gender\": 0, \"id\": 1395269, \"job\": \"Visual Effects Supervisor\", \"name\": \"John Bruno\"}, {\"credit_id\": \"54959e7b9251416e1e003f3e\", \"department\": \"Camera\", \"gender\": 0, \"id\": 1398970, \"job\": \"Steadicam Operator\", \"name\": \"David Emmerichs\"}, {\"credit_id\": \"54959734c3a3686ae10045e0\", \"department\": \"Sound\", \"gender\": 0, \"id\": 1400906, \"job\": \"Sound Effects Editor\", \"name\": \"Christopher Scarabosio\"}, {\"credit_id\": \"549595dd92514130fc002d79\", \"department\": \"Production\", \"gender\": 0, \"id\": 1401784, \"job\": \"Production Supervisor\", \"name\": \"Jennifer Teves\"}, {\"credit_id\": \"549596009251413af70028cc\", \"department\": \"Production\", \"gender\": 0, \"id\": 1401785, \"job\": \"Production Manager\", \"name\": \"Brigitte Yorke\"}, {\"credit_id\": \"549596e892514130fc002d99\", \"department\": \"Sound\", \"gender\": 0, \"id\": 1401786, \"job\": \"Sound Effects Editor\", \"name\": \"Ken Fischer\"}, {\"credit_id\": \"549598229251412c4e002a1c\", \"department\": \"Crew\", \"gender\": 0, \"id\": 1401787, \"job\": \"Special Effects Coordinator\", \"name\": \"Iain Hutton\"}, {\"credit_id\": \"549598349251416e2b00432b\", \"department\": \"Crew\", \"gender\": 0, \"id\": 1401788, \"job\": \"Special Effects Coordinator\", \"name\": \"Steve Ingram\"}, {\"credit_id\": \"54959905c3a3686ae3004324\", \"department\": \"Visual Effects\", \"gender\": 0, \"id\": 1401789, \"job\": \"Visual Effects Producer\", \"name\": \"Joyce Cox\"}, {\"credit_id\": \"5495994b92514132ed002951\", \"department\": \"Visual Effects\", \"gender\": 0, \"id\": 1401790, \"job\": \"Visual Effects Producer\", \"name\": \"Jenny Foster\"}, {\"credit_id\": \"549599cbc3a3686ae1004613\", \"department\": \"Crew\", \"gender\": 0, \"id\": 1401791, \"job\": \"Visual Effects Editor\", \"name\": \"Christopher Marino\"}, {\"credit_id\": \"549599f2c3a3686ae100461e\", \"department\": \"Crew\", \"gender\": 0, \"id\": 1401792, \"job\": \"Visual Effects Editor\", \"name\": \"Jim Milton\"}, {\"credit_id\": \"54959a51c3a3686af3003eb5\", \"department\": \"Visual Effects\", \"gender\": 0, \"id\": 1401793, \"job\": \"Visual Effects Producer\", \"name\": \"Cyndi Ochs\"}, {\"credit_id\": \"54959a7cc3a36811530026f4\", \"department\": \"Crew\", \"gender\": 0, \"id\": 1401794, \"job\": \"Visual Effects Editor\", \"name\": \"Lucas Putnam\"}, {\"credit_id\": \"54959b91c3a3680ff5002cb4\", \"department\": \"Visual Effects\", \"gender\": 0, \"id\": 1401795, \"job\": \"Visual Effects Supervisor\", \"name\": \"Anthony \\'Max\\' Ivins\"}, {\"credit_id\": \"54959bb69251412c4e002a5f\", \"department\": \"Visual Effects\", \"gender\": 0, \"id\": 1401796, \"job\": \"Visual Effects Supervisor\", \"name\": \"John Knoll\"}, {\"credit_id\": \"54959cbbc3a3686ae3004391\", \"department\": \"Visual Effects\", \"gender\": 2, \"id\": 1401799, \"job\": \"Visual Effects Supervisor\", \"name\": \"Eric Saindon\"}, {\"credit_id\": \"54959d06c3a3686ae90043f6\", \"department\": \"Visual Effects\", \"gender\": 0, \"id\": 1401800, \"job\": \"Visual Effects Supervisor\", \"name\": \"Wayne Stables\"}, {\"credit_id\": \"54959d259251416e1e003f11\", \"department\": \"Visual Effects\", \"gender\": 0, \"id\": 1401801, \"job\": \"Visual Effects Supervisor\", \"name\": \"David Stinnett\"}, {\"credit_id\": \"54959db49251413af7002975\", \"department\": \"Visual Effects\", \"gender\": 0, \"id\": 1401803, \"job\": \"Visual Effects Supervisor\", \"name\": \"Guy Williams\"}, {\"credit_id\": \"54959de4c3a3681153002750\", \"department\": \"Crew\", \"gender\": 0, \"id\": 1401804, \"job\": \"Stunt Coordinator\", \"name\": \"Stuart Thorp\"}, {\"credit_id\": \"54959ef2c3a3680fc60027f2\", \"department\": \"Lighting\", \"gender\": 0, \"id\": 1401805, \"job\": \"Best Boy Electric\", \"name\": \"Giles Coburn\"}, {\"credit_id\": \"54959f07c3a3680fc60027f9\", \"department\": \"Camera\", \"gender\": 2, \"id\": 1401806, \"job\": \"Still Photographer\", \"name\": \"Mark Fellman\"}, {\"credit_id\": \"54959f47c3a3681153002774\", \"department\": \"Lighting\", \"gender\": 0, \"id\": 1401807, \"job\": \"Lighting Technician\", \"name\": \"Scott Sprague\"}, {\"credit_id\": \"54959f8cc3a36831b8001df2\", \"department\": \"Visual Effects\", \"gender\": 0, \"id\": 1401808, \"job\": \"Animation Director\", \"name\": \"Jeremy Hollobon\"}, {\"credit_id\": \"54959fa0c3a36831b8001dfb\", \"department\": \"Visual Effects\", \"gender\": 0, \"id\": 1401809, \"job\": \"Animation Director\", \"name\": \"Orlando Meunier\"}, {\"credit_id\": \"54959fb6c3a3686af3003f54\", \"department\": \"Visual Effects\", \"gender\": 0, \"id\": 1401810, \"job\": \"Animation Director\", \"name\": \"Taisuke Tanimura\"}, {\"credit_id\": \"54959fd2c3a36831b8001e02\", \"department\": \"Costume & Make-Up\", \"gender\": 0, \"id\": 1401812, \"job\": \"Set Costumer\", \"name\": \"Lilia Mishel Acevedo\"}, {\"credit_id\": \"54959ff9c3a3686ae300440c\", \"department\": \"Costume & Make-Up\", \"gender\": 0, \"id\": 1401814, \"job\": \"Set Costumer\", \"name\": \"Alejandro M. Hernandez\"}, {\"credit_id\": \"5495a0ddc3a3686ae10046fe\", \"department\": \"Editing\", \"gender\": 0, \"id\": 1401815, \"job\": \"Digital Intermediate\", \"name\": \"Marvin Hall\"}, {\"credit_id\": \"5495a1f7c3a3686ae3004443\", \"department\": \"Production\", \"gender\": 0, \"id\": 1401816, \"job\": \"Publicist\", \"name\": \"Judy Alley\"}, {\"credit_id\": \"5592b29fc3a36869d100002f\", \"department\": \"Crew\", \"gender\": 0, \"id\": 1418381, \"job\": \"CG Supervisor\", \"name\": \"Mike Perry\"}, {\"credit_id\": \"5592b23a9251415df8001081\", \"department\": \"Crew\", \"gender\": 0, \"id\": 1426854, \"job\": \"CG Supervisor\", \"name\": \"Andrew Morley\"}, {\"credit_id\": \"55491e1192514104c40002d8\", \"department\": \"Art\", \"gender\": 0, \"id\": 1438901, \"job\": \"Conceptual Design\", \"name\": \"Seth Engstrom\"}, {\"credit_id\": \"5525d5809251417276002b06\", \"department\": \"Crew\", \"gender\": 0, \"id\": 1447362, \"job\": \"Visual Effects Art Director\", \"name\": \"Eric Oliver\"}, {\"credit_id\": \"554427ca925141586500312a\", \"department\": \"Visual Effects\", \"gender\": 0, \"id\": 1447503, \"job\": \"Modeling\", \"name\": \"Matsune Suzuki\"}, {\"credit_id\": \"551906889251415aab001c88\", \"department\": \"Art\", \"gender\": 0, \"id\": 1447524, \"job\": \"Art Department Manager\", \"name\": \"Paul Tobin\"}, {\"credit_id\": \"5592af8492514152cc0010de\", \"department\": \"Costume & Make-Up\", \"gender\": 0, \"id\": 1452643, \"job\": \"Hairstylist\", \"name\": \"Roxane Griffin\"}, {\"credit_id\": \"553d3c109251415852001318\", \"department\": \"Lighting\", \"gender\": 0, \"id\": 1453938, \"job\": \"Lighting Artist\", \"name\": \"Arun Ram-Mohan\"}, {\"credit_id\": \"5592af4692514152d5001355\", \"department\": \"Costume & Make-Up\", \"gender\": 0, \"id\": 1457305, \"job\": \"Makeup Artist\", \"name\": \"Georgia Lockhart-Adams\"}, {\"credit_id\": \"5592b2eac3a36877470012a5\", \"department\": \"Crew\", \"gender\": 0, \"id\": 1466035, \"job\": \"CG Supervisor\", \"name\": \"Thrain Shadbolt\"}, {\"credit_id\": \"5592b032c3a36877450015f1\", \"department\": \"Crew\", \"gender\": 0, \"id\": 1483220, \"job\": \"CG Supervisor\", \"name\": \"Brad Alexander\"}, {\"credit_id\": \"5592b05592514152d80012f6\", \"department\": \"Crew\", \"gender\": 0, \"id\": 1483221, \"job\": \"CG Supervisor\", \"name\": \"Shadi Almassizadeh\"}, {\"credit_id\": \"5592b090c3a36877570010b5\", \"department\": \"Crew\", \"gender\": 0, \"id\": 1483222, \"job\": \"CG Supervisor\", \"name\": \"Simon Clutterbuck\"}, {\"credit_id\": \"5592b0dbc3a368774b00112c\", \"department\": \"Crew\", \"gender\": 0, \"id\": 1483223, \"job\": \"CG Supervisor\", \"name\": \"Graeme Demmocks\"}, {\"credit_id\": \"5592b0fe92514152db0010c1\", \"department\": \"Crew\", \"gender\": 0, \"id\": 1483224, \"job\": \"CG Supervisor\", \"name\": \"Adrian Fernandes\"}, {\"credit_id\": \"5592b11f9251415df8001059\", \"department\": \"Crew\", \"gender\": 0, \"id\": 1483225, \"job\": \"CG Supervisor\", \"name\": \"Mitch Gates\"}, {\"credit_id\": \"5592b15dc3a3687745001645\", \"department\": \"Crew\", \"gender\": 0, \"id\": 1483226, \"job\": \"CG Supervisor\", \"name\": \"Jerry Kung\"}, {\"credit_id\": \"5592b18e925141645a0004ae\", \"department\": \"Crew\", \"gender\": 0, \"id\": 1483227, \"job\": \"CG Supervisor\", \"name\": \"Andy Lomas\"}, {\"credit_id\": \"5592b1bfc3a368775d0010e7\", \"department\": \"Crew\", \"gender\": 0, \"id\": 1483228, \"job\": \"CG Supervisor\", \"name\": \"Sebastian Marino\"}, {\"credit_id\": \"5592b2049251415df8001078\", \"department\": \"Crew\", \"gender\": 0, \"id\": 1483229, \"job\": \"CG Supervisor\", \"name\": \"Matthias Menz\"}, {\"credit_id\": \"5592b27b92514152d800136a\", \"department\": \"Crew\", \"gender\": 0, \"id\": 1483230, \"job\": \"CG Supervisor\", \"name\": \"Sergei Nevshupov\"}, {\"credit_id\": \"5592b2c3c3a36869e800003c\", \"department\": \"Crew\", \"gender\": 0, \"id\": 1483231, \"job\": \"CG Supervisor\", \"name\": \"Philippe Rebours\"}, {\"credit_id\": \"5592b317c3a36877470012af\", \"department\": \"Crew\", \"gender\": 0, \"id\": 1483232, \"job\": \"CG Supervisor\", \"name\": \"Michael Takarangi\"}, {\"credit_id\": \"5592b345c3a36877470012bb\", \"department\": \"Crew\", \"gender\": 0, \"id\": 1483233, \"job\": \"CG Supervisor\", \"name\": \"David Weitzberg\"}, {\"credit_id\": \"5592b37cc3a368775100113b\", \"department\": \"Crew\", \"gender\": 0, \"id\": 1483234, \"job\": \"CG Supervisor\", \"name\": \"Ben White\"}, {\"credit_id\": \"573c8e2f9251413f5d000094\", \"department\": \"Crew\", \"gender\": 1, \"id\": 1621932, \"job\": \"Stunts\", \"name\": \"Min Windle\"}]'"
      ]
     },
     "execution_count": 31,
     "metadata": {},
     "output_type": "execute_result"
    }
   ],
   "source": [
    "# Let us care only about director in crew\n",
    "movies.iloc[0]['crew']"
   ]
  },
  {
   "cell_type": "code",
   "execution_count": 32,
   "metadata": {},
   "outputs": [],
   "source": [
    "def get_director_from_crew(obj):\n",
    "    list_of_dicts = ast.literal_eval(obj)\n",
    "    for d in list_of_dicts:\n",
    "        if d['job'] == 'Director':\n",
    "            return [d['name'], ]\n",
    "    return list() # if there is no Director information"
   ]
  },
  {
   "cell_type": "code",
   "execution_count": 33,
   "metadata": {},
   "outputs": [
    {
     "data": {
      "text/plain": [
       "['James Cameron']"
      ]
     },
     "execution_count": 33,
     "metadata": {},
     "output_type": "execute_result"
    }
   ],
   "source": [
    "get_director_from_crew(movies.iloc[0]['crew'])"
   ]
  },
  {
   "cell_type": "code",
   "execution_count": 34,
   "metadata": {},
   "outputs": [],
   "source": [
    "movies['crew'] = movies['crew'].apply(get_director_from_crew) # let us consider only director in crew"
   ]
  },
  {
   "cell_type": "code",
   "execution_count": 35,
   "metadata": {},
   "outputs": [
    {
     "data": {
      "text/html": [
       "<div>\n",
       "<style scoped>\n",
       "    .dataframe tbody tr th:only-of-type {\n",
       "        vertical-align: middle;\n",
       "    }\n",
       "\n",
       "    .dataframe tbody tr th {\n",
       "        vertical-align: top;\n",
       "    }\n",
       "\n",
       "    .dataframe thead th {\n",
       "        text-align: right;\n",
       "    }\n",
       "</style>\n",
       "<table border=\"1\" class=\"dataframe\">\n",
       "  <thead>\n",
       "    <tr style=\"text-align: right;\">\n",
       "      <th></th>\n",
       "      <th>id</th>\n",
       "      <th>title</th>\n",
       "      <th>genres</th>\n",
       "      <th>keywords</th>\n",
       "      <th>overview</th>\n",
       "      <th>cast</th>\n",
       "      <th>crew</th>\n",
       "    </tr>\n",
       "  </thead>\n",
       "  <tbody>\n",
       "    <tr>\n",
       "      <th>0</th>\n",
       "      <td>19995</td>\n",
       "      <td>Avatar</td>\n",
       "      <td>[Action, Adventure, Fantasy, Science Fiction]</td>\n",
       "      <td>[culture clash, future, space war, space colon...</td>\n",
       "      <td>In the 22nd century, a paraplegic Marine is di...</td>\n",
       "      <td>[Sam Worthington, Zoe Saldana, Sigourney Weaver]</td>\n",
       "      <td>[James Cameron]</td>\n",
       "    </tr>\n",
       "  </tbody>\n",
       "</table>\n",
       "</div>"
      ],
      "text/plain": [
       "      id   title                                         genres  \\\n",
       "0  19995  Avatar  [Action, Adventure, Fantasy, Science Fiction]   \n",
       "\n",
       "                                            keywords  \\\n",
       "0  [culture clash, future, space war, space colon...   \n",
       "\n",
       "                                            overview  \\\n",
       "0  In the 22nd century, a paraplegic Marine is di...   \n",
       "\n",
       "                                               cast             crew  \n",
       "0  [Sam Worthington, Zoe Saldana, Sigourney Weaver]  [James Cameron]  "
      ]
     },
     "execution_count": 35,
     "metadata": {},
     "output_type": "execute_result"
    }
   ],
   "source": [
    "movies.head(1)"
   ]
  },
  {
   "cell_type": "code",
   "execution_count": 36,
   "metadata": {},
   "outputs": [
    {
     "data": {
      "text/plain": [
       "0    In the 22nd century, a paraplegic Marine is di...\n",
       "1    Captain Barbossa, long believed to be dead, ha...\n",
       "2    A cryptic message from Bond’s past sends him o...\n",
       "3    Following the death of District Attorney Harve...\n",
       "4    John Carter is a war-weary, former military ca...\n",
       "Name: overview, dtype: object"
      ]
     },
     "execution_count": 36,
     "metadata": {},
     "output_type": "execute_result"
    }
   ],
   "source": [
    "movies.overview.head()"
   ]
  },
  {
   "cell_type": "code",
   "execution_count": 37,
   "metadata": {},
   "outputs": [
    {
     "name": "stdout",
     "output_type": "stream",
     "text": [
      "!\"#$%&'()*+,-./:;<=>?@[\\]^_`{|}~\n"
     ]
    }
   ],
   "source": [
    "import string\n",
    "print(string.punctuation)"
   ]
  },
  {
   "cell_type": "code",
   "execution_count": 38,
   "metadata": {},
   "outputs": [
    {
     "data": {
      "text/plain": [
       "0    In the 22nd century a paraplegic Marine is dis...\n",
       "1    Captain Barbossa long believed to be dead has ...\n",
       "2    A cryptic message from Bond’s past sends him o...\n",
       "3    Following the death of District Attorney Harve...\n",
       "4    John Carter is a warweary former military capt...\n",
       "Name: overview, dtype: object"
      ]
     },
     "execution_count": 38,
     "metadata": {},
     "output_type": "execute_result"
    }
   ],
   "source": [
    "# removing all punctuation\n",
    "movies['overview'] = movies['overview'].apply(lambda x: x.translate(str.maketrans('', '', string.punctuation)))\n",
    "\n",
    "movies['overview'].head()"
   ]
  },
  {
   "cell_type": "code",
   "execution_count": 39,
   "metadata": {},
   "outputs": [],
   "source": [
    "# let us make it into list\n",
    "movies['overview'] = movies['overview'].apply(lambda x: x.split())"
   ]
  },
  {
   "cell_type": "code",
   "execution_count": 40,
   "metadata": {},
   "outputs": [
    {
     "data": {
      "text/html": [
       "<div>\n",
       "<style scoped>\n",
       "    .dataframe tbody tr th:only-of-type {\n",
       "        vertical-align: middle;\n",
       "    }\n",
       "\n",
       "    .dataframe tbody tr th {\n",
       "        vertical-align: top;\n",
       "    }\n",
       "\n",
       "    .dataframe thead th {\n",
       "        text-align: right;\n",
       "    }\n",
       "</style>\n",
       "<table border=\"1\" class=\"dataframe\">\n",
       "  <thead>\n",
       "    <tr style=\"text-align: right;\">\n",
       "      <th></th>\n",
       "      <th>id</th>\n",
       "      <th>title</th>\n",
       "      <th>genres</th>\n",
       "      <th>keywords</th>\n",
       "      <th>overview</th>\n",
       "      <th>cast</th>\n",
       "      <th>crew</th>\n",
       "    </tr>\n",
       "  </thead>\n",
       "  <tbody>\n",
       "    <tr>\n",
       "      <th>0</th>\n",
       "      <td>19995</td>\n",
       "      <td>Avatar</td>\n",
       "      <td>[Action, Adventure, Fantasy, Science Fiction]</td>\n",
       "      <td>[culture clash, future, space war, space colon...</td>\n",
       "      <td>[In, the, 22nd, century, a, paraplegic, Marine...</td>\n",
       "      <td>[Sam Worthington, Zoe Saldana, Sigourney Weaver]</td>\n",
       "      <td>[James Cameron]</td>\n",
       "    </tr>\n",
       "    <tr>\n",
       "      <th>1</th>\n",
       "      <td>285</td>\n",
       "      <td>Pirates of the Caribbean: At World's End</td>\n",
       "      <td>[Adventure, Fantasy, Action]</td>\n",
       "      <td>[ocean, drug abuse, exotic island, east india ...</td>\n",
       "      <td>[Captain, Barbossa, long, believed, to, be, de...</td>\n",
       "      <td>[Johnny Depp, Orlando Bloom, Keira Knightley]</td>\n",
       "      <td>[Gore Verbinski]</td>\n",
       "    </tr>\n",
       "    <tr>\n",
       "      <th>2</th>\n",
       "      <td>206647</td>\n",
       "      <td>Spectre</td>\n",
       "      <td>[Action, Adventure, Crime]</td>\n",
       "      <td>[spy, based on novel, secret agent, sequel, mi...</td>\n",
       "      <td>[A, cryptic, message, from, Bond’s, past, send...</td>\n",
       "      <td>[Daniel Craig, Christoph Waltz, Léa Seydoux]</td>\n",
       "      <td>[Sam Mendes]</td>\n",
       "    </tr>\n",
       "    <tr>\n",
       "      <th>3</th>\n",
       "      <td>49026</td>\n",
       "      <td>The Dark Knight Rises</td>\n",
       "      <td>[Action, Crime, Drama, Thriller]</td>\n",
       "      <td>[dc comics, crime fighter, terrorist, secret i...</td>\n",
       "      <td>[Following, the, death, of, District, Attorney...</td>\n",
       "      <td>[Christian Bale, Michael Caine, Gary Oldman]</td>\n",
       "      <td>[Christopher Nolan]</td>\n",
       "    </tr>\n",
       "    <tr>\n",
       "      <th>4</th>\n",
       "      <td>49529</td>\n",
       "      <td>John Carter</td>\n",
       "      <td>[Action, Adventure, Science Fiction]</td>\n",
       "      <td>[based on novel, mars, medallion, space travel...</td>\n",
       "      <td>[John, Carter, is, a, warweary, former, milita...</td>\n",
       "      <td>[Taylor Kitsch, Lynn Collins, Samantha Morton]</td>\n",
       "      <td>[Andrew Stanton]</td>\n",
       "    </tr>\n",
       "  </tbody>\n",
       "</table>\n",
       "</div>"
      ],
      "text/plain": [
       "       id                                     title  \\\n",
       "0   19995                                    Avatar   \n",
       "1     285  Pirates of the Caribbean: At World's End   \n",
       "2  206647                                   Spectre   \n",
       "3   49026                     The Dark Knight Rises   \n",
       "4   49529                               John Carter   \n",
       "\n",
       "                                          genres  \\\n",
       "0  [Action, Adventure, Fantasy, Science Fiction]   \n",
       "1                   [Adventure, Fantasy, Action]   \n",
       "2                     [Action, Adventure, Crime]   \n",
       "3               [Action, Crime, Drama, Thriller]   \n",
       "4           [Action, Adventure, Science Fiction]   \n",
       "\n",
       "                                            keywords  \\\n",
       "0  [culture clash, future, space war, space colon...   \n",
       "1  [ocean, drug abuse, exotic island, east india ...   \n",
       "2  [spy, based on novel, secret agent, sequel, mi...   \n",
       "3  [dc comics, crime fighter, terrorist, secret i...   \n",
       "4  [based on novel, mars, medallion, space travel...   \n",
       "\n",
       "                                            overview  \\\n",
       "0  [In, the, 22nd, century, a, paraplegic, Marine...   \n",
       "1  [Captain, Barbossa, long, believed, to, be, de...   \n",
       "2  [A, cryptic, message, from, Bond’s, past, send...   \n",
       "3  [Following, the, death, of, District, Attorney...   \n",
       "4  [John, Carter, is, a, warweary, former, milita...   \n",
       "\n",
       "                                               cast                 crew  \n",
       "0  [Sam Worthington, Zoe Saldana, Sigourney Weaver]      [James Cameron]  \n",
       "1     [Johnny Depp, Orlando Bloom, Keira Knightley]     [Gore Verbinski]  \n",
       "2      [Daniel Craig, Christoph Waltz, Léa Seydoux]         [Sam Mendes]  \n",
       "3      [Christian Bale, Michael Caine, Gary Oldman]  [Christopher Nolan]  \n",
       "4    [Taylor Kitsch, Lynn Collins, Samantha Morton]     [Andrew Stanton]  "
      ]
     },
     "execution_count": 40,
     "metadata": {},
     "output_type": "execute_result"
    }
   ],
   "source": [
    "movies.head()"
   ]
  },
  {
   "cell_type": "code",
   "execution_count": 41,
   "metadata": {},
   "outputs": [],
   "source": [
    "# We will have to remove spaces in between a single entity in keywords, overview, cast and crew\n",
    "# Because to not confuse the model when we break string into 2 or more words, it is hard to say later which group of words is referring to same emtity\n",
    "# Example: Sam Worthington, Sam Mendes, are names if you break them they have Sam which will be difficult for our model"
   ]
  },
  {
   "cell_type": "code",
   "execution_count": 42,
   "metadata": {},
   "outputs": [
    {
     "data": {
      "text/plain": [
       "0    [Sam Worthington, Zoe Saldana, Sigourney Weaver]\n",
       "1       [Johnny Depp, Orlando Bloom, Keira Knightley]\n",
       "Name: cast, dtype: object"
      ]
     },
     "execution_count": 42,
     "metadata": {},
     "output_type": "execute_result"
    }
   ],
   "source": [
    "movies['cast'].head(2)"
   ]
  },
  {
   "cell_type": "code",
   "execution_count": 43,
   "metadata": {},
   "outputs": [
    {
     "data": {
      "text/plain": [
       "0    [SamWorthington, ZoeSaldana, SigourneyWeaver]\n",
       "1       [JohnnyDepp, OrlandoBloom, KeiraKnightley]\n",
       "Name: cast, dtype: object"
      ]
     },
     "execution_count": 43,
     "metadata": {},
     "output_type": "execute_result"
    }
   ],
   "source": [
    "movies['cast'].apply(lambda c:[obj.replace(\" \", \"\") for obj in c]).head(2)"
   ]
  },
  {
   "cell_type": "code",
   "execution_count": 44,
   "metadata": {},
   "outputs": [],
   "source": [
    "movies['cast'] = movies['cast'].apply(lambda c:[obj.replace(\" \", \"\") for obj in c])"
   ]
  },
  {
   "cell_type": "code",
   "execution_count": 45,
   "metadata": {},
   "outputs": [],
   "source": [
    "movies['genres'] = movies['genres'].apply(lambda c:[obj.replace(\" \", \"\") for obj in c])"
   ]
  },
  {
   "cell_type": "code",
   "execution_count": 46,
   "metadata": {},
   "outputs": [],
   "source": [
    "movies['crew'] = movies['crew'].apply(lambda c:[obj.replace(\" \", \"\") for obj in c])"
   ]
  },
  {
   "cell_type": "code",
   "execution_count": 47,
   "metadata": {},
   "outputs": [],
   "source": [
    "movies['keywords'] = movies['keywords'].apply(lambda c:[obj.replace(\" \", \"\") for obj in c])"
   ]
  },
  {
   "cell_type": "code",
   "execution_count": 48,
   "metadata": {},
   "outputs": [
    {
     "data": {
      "text/html": [
       "<div>\n",
       "<style scoped>\n",
       "    .dataframe tbody tr th:only-of-type {\n",
       "        vertical-align: middle;\n",
       "    }\n",
       "\n",
       "    .dataframe tbody tr th {\n",
       "        vertical-align: top;\n",
       "    }\n",
       "\n",
       "    .dataframe thead th {\n",
       "        text-align: right;\n",
       "    }\n",
       "</style>\n",
       "<table border=\"1\" class=\"dataframe\">\n",
       "  <thead>\n",
       "    <tr style=\"text-align: right;\">\n",
       "      <th></th>\n",
       "      <th>id</th>\n",
       "      <th>title</th>\n",
       "      <th>genres</th>\n",
       "      <th>keywords</th>\n",
       "      <th>overview</th>\n",
       "      <th>cast</th>\n",
       "      <th>crew</th>\n",
       "    </tr>\n",
       "  </thead>\n",
       "  <tbody>\n",
       "    <tr>\n",
       "      <th>0</th>\n",
       "      <td>19995</td>\n",
       "      <td>Avatar</td>\n",
       "      <td>[Action, Adventure, Fantasy, ScienceFiction]</td>\n",
       "      <td>[cultureclash, future, spacewar, spacecolony, ...</td>\n",
       "      <td>[In, the, 22nd, century, a, paraplegic, Marine...</td>\n",
       "      <td>[SamWorthington, ZoeSaldana, SigourneyWeaver]</td>\n",
       "      <td>[JamesCameron]</td>\n",
       "    </tr>\n",
       "    <tr>\n",
       "      <th>1</th>\n",
       "      <td>285</td>\n",
       "      <td>Pirates of the Caribbean: At World's End</td>\n",
       "      <td>[Adventure, Fantasy, Action]</td>\n",
       "      <td>[ocean, drugabuse, exoticisland, eastindiatrad...</td>\n",
       "      <td>[Captain, Barbossa, long, believed, to, be, de...</td>\n",
       "      <td>[JohnnyDepp, OrlandoBloom, KeiraKnightley]</td>\n",
       "      <td>[GoreVerbinski]</td>\n",
       "    </tr>\n",
       "    <tr>\n",
       "      <th>2</th>\n",
       "      <td>206647</td>\n",
       "      <td>Spectre</td>\n",
       "      <td>[Action, Adventure, Crime]</td>\n",
       "      <td>[spy, basedonnovel, secretagent, sequel, mi6, ...</td>\n",
       "      <td>[A, cryptic, message, from, Bond’s, past, send...</td>\n",
       "      <td>[DanielCraig, ChristophWaltz, LéaSeydoux]</td>\n",
       "      <td>[SamMendes]</td>\n",
       "    </tr>\n",
       "    <tr>\n",
       "      <th>3</th>\n",
       "      <td>49026</td>\n",
       "      <td>The Dark Knight Rises</td>\n",
       "      <td>[Action, Crime, Drama, Thriller]</td>\n",
       "      <td>[dccomics, crimefighter, terrorist, secretiden...</td>\n",
       "      <td>[Following, the, death, of, District, Attorney...</td>\n",
       "      <td>[ChristianBale, MichaelCaine, GaryOldman]</td>\n",
       "      <td>[ChristopherNolan]</td>\n",
       "    </tr>\n",
       "    <tr>\n",
       "      <th>4</th>\n",
       "      <td>49529</td>\n",
       "      <td>John Carter</td>\n",
       "      <td>[Action, Adventure, ScienceFiction]</td>\n",
       "      <td>[basedonnovel, mars, medallion, spacetravel, p...</td>\n",
       "      <td>[John, Carter, is, a, warweary, former, milita...</td>\n",
       "      <td>[TaylorKitsch, LynnCollins, SamanthaMorton]</td>\n",
       "      <td>[AndrewStanton]</td>\n",
       "    </tr>\n",
       "  </tbody>\n",
       "</table>\n",
       "</div>"
      ],
      "text/plain": [
       "       id                                     title  \\\n",
       "0   19995                                    Avatar   \n",
       "1     285  Pirates of the Caribbean: At World's End   \n",
       "2  206647                                   Spectre   \n",
       "3   49026                     The Dark Knight Rises   \n",
       "4   49529                               John Carter   \n",
       "\n",
       "                                         genres  \\\n",
       "0  [Action, Adventure, Fantasy, ScienceFiction]   \n",
       "1                  [Adventure, Fantasy, Action]   \n",
       "2                    [Action, Adventure, Crime]   \n",
       "3              [Action, Crime, Drama, Thriller]   \n",
       "4           [Action, Adventure, ScienceFiction]   \n",
       "\n",
       "                                            keywords  \\\n",
       "0  [cultureclash, future, spacewar, spacecolony, ...   \n",
       "1  [ocean, drugabuse, exoticisland, eastindiatrad...   \n",
       "2  [spy, basedonnovel, secretagent, sequel, mi6, ...   \n",
       "3  [dccomics, crimefighter, terrorist, secretiden...   \n",
       "4  [basedonnovel, mars, medallion, spacetravel, p...   \n",
       "\n",
       "                                            overview  \\\n",
       "0  [In, the, 22nd, century, a, paraplegic, Marine...   \n",
       "1  [Captain, Barbossa, long, believed, to, be, de...   \n",
       "2  [A, cryptic, message, from, Bond’s, past, send...   \n",
       "3  [Following, the, death, of, District, Attorney...   \n",
       "4  [John, Carter, is, a, warweary, former, milita...   \n",
       "\n",
       "                                            cast                crew  \n",
       "0  [SamWorthington, ZoeSaldana, SigourneyWeaver]      [JamesCameron]  \n",
       "1     [JohnnyDepp, OrlandoBloom, KeiraKnightley]     [GoreVerbinski]  \n",
       "2      [DanielCraig, ChristophWaltz, LéaSeydoux]         [SamMendes]  \n",
       "3      [ChristianBale, MichaelCaine, GaryOldman]  [ChristopherNolan]  \n",
       "4    [TaylorKitsch, LynnCollins, SamanthaMorton]     [AndrewStanton]  "
      ]
     },
     "execution_count": 48,
     "metadata": {},
     "output_type": "execute_result"
    }
   ],
   "source": [
    "movies.head()"
   ]
  },
  {
   "cell_type": "code",
   "execution_count": 49,
   "metadata": {},
   "outputs": [],
   "source": [
    "movies['tags'] = movies['overview'] + movies['genres'] + movies['keywords'] + movies['cast'] + movies['crew']"
   ]
  },
  {
   "cell_type": "code",
   "execution_count": 50,
   "metadata": {},
   "outputs": [
    {
     "data": {
      "text/plain": [
       "0    [In, the, 22nd, century, a, paraplegic, Marine...\n",
       "1    [Captain, Barbossa, long, believed, to, be, de...\n",
       "Name: tags, dtype: object"
      ]
     },
     "execution_count": 50,
     "metadata": {},
     "output_type": "execute_result"
    }
   ],
   "source": [
    "movies['tags'].head(2)"
   ]
  },
  {
   "cell_type": "code",
   "execution_count": 51,
   "metadata": {},
   "outputs": [],
   "source": [
    "movies['tags'] = movies['tags'].apply(lambda x: \" \".join(x))"
   ]
  },
  {
   "cell_type": "code",
   "execution_count": 52,
   "metadata": {},
   "outputs": [],
   "source": [
    "movies = movies.drop(columns=['keywords', 'genres', 'crew', 'cast', 'overview'])"
   ]
  },
  {
   "cell_type": "code",
   "execution_count": 53,
   "metadata": {},
   "outputs": [
    {
     "data": {
      "text/html": [
       "<div>\n",
       "<style scoped>\n",
       "    .dataframe tbody tr th:only-of-type {\n",
       "        vertical-align: middle;\n",
       "    }\n",
       "\n",
       "    .dataframe tbody tr th {\n",
       "        vertical-align: top;\n",
       "    }\n",
       "\n",
       "    .dataframe thead th {\n",
       "        text-align: right;\n",
       "    }\n",
       "</style>\n",
       "<table border=\"1\" class=\"dataframe\">\n",
       "  <thead>\n",
       "    <tr style=\"text-align: right;\">\n",
       "      <th></th>\n",
       "      <th>id</th>\n",
       "      <th>title</th>\n",
       "      <th>tags</th>\n",
       "    </tr>\n",
       "  </thead>\n",
       "  <tbody>\n",
       "    <tr>\n",
       "      <th>0</th>\n",
       "      <td>19995</td>\n",
       "      <td>Avatar</td>\n",
       "      <td>In the 22nd century a paraplegic Marine is dis...</td>\n",
       "    </tr>\n",
       "    <tr>\n",
       "      <th>1</th>\n",
       "      <td>285</td>\n",
       "      <td>Pirates of the Caribbean: At World's End</td>\n",
       "      <td>Captain Barbossa long believed to be dead has ...</td>\n",
       "    </tr>\n",
       "  </tbody>\n",
       "</table>\n",
       "</div>"
      ],
      "text/plain": [
       "      id                                     title  \\\n",
       "0  19995                                    Avatar   \n",
       "1    285  Pirates of the Caribbean: At World's End   \n",
       "\n",
       "                                                tags  \n",
       "0  In the 22nd century a paraplegic Marine is dis...  \n",
       "1  Captain Barbossa long believed to be dead has ...  "
      ]
     },
     "execution_count": 53,
     "metadata": {},
     "output_type": "execute_result"
    }
   ],
   "source": [
    "movies.head(2)"
   ]
  },
  {
   "cell_type": "code",
   "execution_count": 54,
   "metadata": {},
   "outputs": [],
   "source": [
    "# convertig everything into lowercase\n",
    "movies['tags'] = movies['tags'].apply(lambda x: x.lower())"
   ]
  },
  {
   "cell_type": "code",
   "execution_count": 55,
   "metadata": {},
   "outputs": [
    {
     "data": {
      "text/html": [
       "<div>\n",
       "<style scoped>\n",
       "    .dataframe tbody tr th:only-of-type {\n",
       "        vertical-align: middle;\n",
       "    }\n",
       "\n",
       "    .dataframe tbody tr th {\n",
       "        vertical-align: top;\n",
       "    }\n",
       "\n",
       "    .dataframe thead th {\n",
       "        text-align: right;\n",
       "    }\n",
       "</style>\n",
       "<table border=\"1\" class=\"dataframe\">\n",
       "  <thead>\n",
       "    <tr style=\"text-align: right;\">\n",
       "      <th></th>\n",
       "      <th>id</th>\n",
       "      <th>title</th>\n",
       "      <th>tags</th>\n",
       "    </tr>\n",
       "  </thead>\n",
       "  <tbody>\n",
       "    <tr>\n",
       "      <th>0</th>\n",
       "      <td>19995</td>\n",
       "      <td>Avatar</td>\n",
       "      <td>in the 22nd century a paraplegic marine is dis...</td>\n",
       "    </tr>\n",
       "    <tr>\n",
       "      <th>1</th>\n",
       "      <td>285</td>\n",
       "      <td>Pirates of the Caribbean: At World's End</td>\n",
       "      <td>captain barbossa long believed to be dead has ...</td>\n",
       "    </tr>\n",
       "  </tbody>\n",
       "</table>\n",
       "</div>"
      ],
      "text/plain": [
       "      id                                     title  \\\n",
       "0  19995                                    Avatar   \n",
       "1    285  Pirates of the Caribbean: At World's End   \n",
       "\n",
       "                                                tags  \n",
       "0  in the 22nd century a paraplegic marine is dis...  \n",
       "1  captain barbossa long believed to be dead has ...  "
      ]
     },
     "execution_count": 55,
     "metadata": {},
     "output_type": "execute_result"
    }
   ],
   "source": [
    "movies.head(2)"
   ]
  },
  {
   "cell_type": "code",
   "execution_count": 56,
   "metadata": {},
   "outputs": [
    {
     "data": {
      "text/plain": [
       "'in the 22nd century a paraplegic marine is dispatched to the moon pandora on a unique mission but becomes torn between following orders and protecting an alien civilization action adventure fantasy sciencefiction cultureclash future spacewar spacecolony society spacetravel futuristic romance space alien tribe alienplanet cgi marine soldier battle loveaffair antiwar powerrelations mindandsoul 3d samworthington zoesaldana sigourneyweaver jamescameron'"
      ]
     },
     "execution_count": 56,
     "metadata": {},
     "output_type": "execute_result"
    }
   ],
   "source": [
    "movies.iloc[0]['tags']"
   ]
  },
  {
   "cell_type": "code",
   "execution_count": 57,
   "metadata": {},
   "outputs": [
    {
     "data": {
      "text/plain": [
       "\"captain barbossa long believed to be dead has come back to life and is headed to the edge of the earth with will turner and elizabeth swann but nothing is quite as it seems adventure fantasy action ocean drugabuse exoticisland eastindiatradingcompany loveofone'slife traitor shipwreck strongwoman ship alliance calypso afterlife fighter pirate swashbuckler aftercreditsstinger johnnydepp orlandobloom keiraknightley goreverbinski\""
      ]
     },
     "execution_count": 57,
     "metadata": {},
     "output_type": "execute_result"
    }
   ],
   "source": [
    "movies.iloc[1]['tags']"
   ]
  },
  {
   "cell_type": "markdown",
   "metadata": {},
   "source": [
    "- We will use (Bag of Words) BoW model for converting tags into vector"
   ]
  },
  {
   "cell_type": "code",
   "execution_count": 58,
   "metadata": {},
   "outputs": [],
   "source": [
    "# We have to fix this issue:\n",
    "# for example: we have activities, activity, activities, activity's, activitys, etc. all should be one word\n",
    "\n",
    "import nltk # famous NLP library\n",
    "from nltk.stem.porter import PorterStemmer\n",
    "ps = PorterStemmer()"
   ]
  },
  {
   "cell_type": "code",
   "execution_count": 59,
   "metadata": {},
   "outputs": [
    {
     "name": "stdout",
     "output_type": "stream",
     "text": [
      "activ activ activ\n"
     ]
    }
   ],
   "source": [
    "print(ps.stem('activities'), ps.stem('activity'), ps.stem('activitys'))"
   ]
  },
  {
   "cell_type": "code",
   "execution_count": 60,
   "metadata": {},
   "outputs": [
    {
     "name": "stdout",
     "output_type": "stream",
     "text": [
      "bond' bond' bond' bond bond\n"
     ]
    }
   ],
   "source": [
    "print(ps.stem(\"Bond's\"), ps.stem(\"Bond's\"), ps.stem(\"bond's\"), ps.stem(\"bond\"), ps.stem(\"bonding\"))"
   ]
  },
  {
   "cell_type": "code",
   "execution_count": 61,
   "metadata": {},
   "outputs": [
    {
     "name": "stdout",
     "output_type": "stream",
     "text": [
      "love love love love\n"
     ]
    }
   ],
   "source": [
    "print(ps.stem('love'), ps.stem('loved'), ps.stem('loving'), ps.stem('loves')) # all should be same word"
   ]
  },
  {
   "cell_type": "code",
   "execution_count": 62,
   "metadata": {},
   "outputs": [
    {
     "name": "stdout",
     "output_type": "stream",
     "text": [
      "organ organ organ organ\n"
     ]
    }
   ],
   "source": [
    "print(ps.stem(\"organ\"), ps.stem(\"organization\"), ps.stem(\"organize\"), ps.stem(\"organizing\")) "
   ]
  },
  {
   "cell_type": "code",
   "execution_count": 63,
   "metadata": {},
   "outputs": [],
   "source": [
    "# Trying to address the problem with stemming\n",
    "def apply_stem(text):\n",
    "    y = []\n",
    "    for word in text.split():\n",
    "        y.append(ps.stem(word))\n",
    "    return \" \".join(y)"
   ]
  },
  {
   "cell_type": "code",
   "execution_count": 64,
   "metadata": {},
   "outputs": [
    {
     "data": {
      "text/plain": [
       "'a cryptic message from bond’s past sends him on a trail to uncover a sinister organization while m battles political forces to keep the secret service alive bond peels back the layers of deceit to reveal the terrible truth behind spectre action adventure crime spy basedonnovel secretagent sequel mi6 britishsecretservice unitedkingdom danielcraig christophwaltz léaseydoux sammendes'"
      ]
     },
     "execution_count": 64,
     "metadata": {},
     "output_type": "execute_result"
    }
   ],
   "source": [
    "movies.iloc[2]['tags']"
   ]
  },
  {
   "cell_type": "code",
   "execution_count": 65,
   "metadata": {},
   "outputs": [
    {
     "data": {
      "text/plain": [
       "'a cryptic messag from bond’ past send him on a trail to uncov a sinist organ while m battl polit forc to keep the secret servic aliv bond peel back the layer of deceit to reveal the terribl truth behind spectr action adventur crime spi basedonnovel secretag sequel mi6 britishsecretservic unitedkingdom danielcraig christophwaltz léaseydoux sammend'"
      ]
     },
     "execution_count": 65,
     "metadata": {},
     "output_type": "execute_result"
    }
   ],
   "source": [
    "apply_stem(movies.iloc[2]['tags'])"
   ]
  },
  {
   "cell_type": "code",
   "execution_count": 66,
   "metadata": {},
   "outputs": [],
   "source": [
    "# applying the stemming function to all tags\n",
    "movies['tags'] = movies['tags'].apply(apply_stem)"
   ]
  },
  {
   "cell_type": "code",
   "execution_count": 67,
   "metadata": {},
   "outputs": [],
   "source": [
    "from sklearn.feature_extraction.text import CountVectorizer\n",
    "cv = CountVectorizer(max_features=5000, stop_words='english')"
   ]
  },
  {
   "cell_type": "code",
   "execution_count": 68,
   "metadata": {},
   "outputs": [],
   "source": [
    "vectors = cv.fit_transform(movies['tags']).toarray()"
   ]
  },
  {
   "cell_type": "code",
   "execution_count": 69,
   "metadata": {},
   "outputs": [
    {
     "data": {
      "text/plain": [
       "array([[0, 0, 0, ..., 0, 0, 0],\n",
       "       [0, 0, 0, ..., 0, 0, 0],\n",
       "       [0, 0, 0, ..., 0, 0, 0],\n",
       "       ...,\n",
       "       [0, 0, 0, ..., 0, 0, 0],\n",
       "       [0, 0, 0, ..., 0, 0, 0],\n",
       "       [0, 0, 0, ..., 0, 0, 0]], shape=(4806, 5000))"
      ]
     },
     "execution_count": 69,
     "metadata": {},
     "output_type": "execute_result"
    }
   ],
   "source": [
    "vectors"
   ]
  },
  {
   "cell_type": "code",
   "execution_count": 70,
   "metadata": {},
   "outputs": [
    {
     "data": {
      "text/plain": [
       "array(['007', '10', '100', '10yearold', '11', '11yearold', '12',\n",
       "       '12yearold', '13', '14', '15', '150', '16', '16yearold', '17',\n",
       "       '17yearold', '18', '18th', '18thcenturi', '1910', '1920', '1930',\n",
       "       '1940', '1950', '1960', '1970', '1974', '1976', '1980', '1985',\n",
       "       '1990', '1999', '19th', '19thcenturi', '20', '2000', '2003',\n",
       "       '2009', '20th', '24', '25', '30', '300', '3d', '40', '50', '500',\n",
       "       '60', '70', '911', 'aaron', 'aaroneckhart', 'abandon', 'abbi',\n",
       "       'abduct', 'abigailbreslin', 'abil', 'abl', 'aboard', 'aborigin',\n",
       "       'abov', 'abroad', 'absenc', 'absolut', 'abus', 'academ', 'academi',\n",
       "       'accept', 'access', 'accid', 'accident', 'acclaim', 'accompani',\n",
       "       'accomplish', 'account', 'accus', 'ace', 'achiev', 'acquaint',\n",
       "       'act', 'action', 'actionhero', 'actionpack', 'activ', 'activist',\n",
       "       'actor', 'actress', 'actual', 'ad', 'adam', 'adamsandl',\n",
       "       'adamshankman', 'adapt', 'add', 'addict', 'addit', 'adjust',\n",
       "       'admir', 'admit', 'adolesc', 'adopt', 'ador', 'adrienbrodi',\n",
       "       'adult', 'adultanim', 'adulteri', 'adulthood', 'advanc',\n",
       "       'advantag', 'adventur', 'advertis', 'advic', 'advis', 'affair',\n",
       "       'affect', 'afghanistan', 'africa', 'african', 'africanamerican',\n",
       "       'aftercreditssting', 'afterlif', 'aftermath', 'age', 'agediffer',\n",
       "       'agenc', 'agenda', 'agent', 'aggress', 'ago', 'agre', 'ahead',\n",
       "       'aid', 'aidanquinn', 'ail', 'aim', 'air', 'airplan',\n",
       "       'airplanecrash', 'airport', 'aka', 'al', 'alabama', 'alan',\n",
       "       'alaska', 'albert', 'alcatraz', 'alcohol', 'alcoholabus',\n",
       "       'alecbaldwin', 'alejandrogonzáleziñárritu', 'alex', 'alexisbledel',\n",
       "       'alexkendrick', 'alfredhitchcock', 'alfredmolina', 'algeria',\n",
       "       'ali', 'alic', 'alicebraga', 'alien', 'alieninvas', 'alienlife',\n",
       "       'alienplanet', 'alik', 'aliv', 'alleg', 'allen', 'allgirl', 'alli',\n",
       "       'allianc', 'allout', 'allow', 'alon', 'alongsid', 'alpacino',\n",
       "       'alpha', 'alreadi', 'alter', 'altern', 'alway', 'alyssa',\n",
       "       'alzheim', 'amanda', 'amandapeet', 'amandaseyfri', 'amateur',\n",
       "       'amaz', 'amazon', 'ambassador', 'ambit', 'ambiti', 'ambul',\n",
       "       'ambush', 'america', 'american', 'americanabroad',\n",
       "       'americancivilwar', 'americanfootbal', 'americanfootballplay',\n",
       "       'ami', 'amid', 'amidst', 'amnesia', 'amp', 'amsterdam', 'amus',\n",
       "       'amusementpark', 'amyadam', 'amysmart', 'ana', 'anakin', 'analyst',\n",
       "       'anarchiccomedi', 'ancient', 'ancientrom', 'ancientworld',\n",
       "       'anderson', 'andi', 'andiemacdowel', 'andrew', 'android',\n",
       "       'andygarcía', 'angel', 'angela', 'angelabassett', 'angelinajoli',\n",
       "       'anger', 'angle', 'angri', 'ani', 'anim', 'animalattack',\n",
       "       'animalhorror', 'anjelicahuston', 'ann', 'anna', 'annabel',\n",
       "       'annafari', 'annakendrick', 'annehathaway', 'annehech', 'annemoss',\n",
       "       'annetteben', 'anni', 'annihil', 'anniversari', 'announc',\n",
       "       'annual', 'anonym', 'anoth', 'answer', 'ant', 'antarct',\n",
       "       'antholog', 'anthoni', 'anthonyanderson', 'anthonyhopkin',\n",
       "       'anthonymacki', 'anthropomorph', 'anti', 'antic', 'antihero',\n",
       "       'antiqu', 'antisemit', 'antoinefuqua', 'antoniobandera',\n",
       "       'antonyelchin', 'anxieti', 'anyon', 'anyth', 'apart', 'apartheid',\n",
       "       'ape', 'apocalyps', 'apocalypt', 'appar', 'appear', 'appl',\n",
       "       'appli', 'appoint', 'appreci', 'apprentic', 'approach', 'april',\n",
       "       'aquarium', 'arab', 'archaeologist', 'archeolog', 'archer',\n",
       "       'archeri', 'architect', 'arctic', 'area', 'arena', 'arent',\n",
       "       'argument', 'aris', 'aristocrat', 'arm', 'armi', 'armor',\n",
       "       'armsdeal', 'arnold', 'arnoldschwarzenegg', 'arrang',\n",
       "       'arrangedmarriag', 'array', 'arrest', 'arriv', 'arrog', 'art',\n",
       "       'arthur', 'articl', 'artifact', 'artifici', 'artificialintellig',\n",
       "       'artist', 'ash', 'ashley', 'ashleyjudd', 'ashtonkutch', 'asia',\n",
       "       'asian', 'asid', 'ask', 'aspect', 'aspir', 'assassin', 'assault',\n",
       "       'assembl', 'assign', 'assist', 'associ', 'assum', 'asteroid',\n",
       "       'astronaut', 'asylum', 'atheist', 'athlet', 'atlant', 'atom',\n",
       "       'atomicbomb', 'attach', 'attack', 'attempt', 'attempttoescap',\n",
       "       'attend', 'attent', 'attic', 'attitud', 'attorney', 'attract',\n",
       "       'auction', 'audienc', 'audit', 'august', 'aunt', 'austin',\n",
       "       'australia', 'australian', 'author', 'autism', 'auto',\n",
       "       'automobilerac', 'aveng', 'averag', 'avoid', 'await', 'awak',\n",
       "       'awaken', 'awar', 'award', 'away', 'awesom', 'awkward', 'awri',\n",
       "       'ax', 'babe', 'babi', 'bachelor', 'backdrop', 'background',\n",
       "       'backpack', 'bad', 'badli', 'bag', 'bahama', 'bail', 'balanc',\n",
       "       'ball', 'ballet', 'balloon', 'baltimor', 'ban', 'band', 'bandit',\n",
       "       'bangkok', 'banish', 'bank', 'banker', 'bankrobb', 'bankrobberi',\n",
       "       'bar', 'barbarian', 'barbrastreisand', 'bare', 'bargain', 'barn',\n",
       "       'barney', 'baron', 'barri', 'barrier', 'barrylevinson',\n",
       "       'barrysonnenfeld', 'base', 'basebal', 'basedoncomicbook',\n",
       "       'basedongraphicnovel', 'basedonnovel', 'basedonplay',\n",
       "       'basedonstagemus', 'basedontrueev', 'basedontruestori',\n",
       "       'basedontvseri', 'basedonvideogam', 'basedonyoungadultnovel',\n",
       "       'basement', 'basketbal', 'bat', 'batman', 'battl', 'battlefield',\n",
       "       'bay', 'beach', 'beam', 'bear', 'beard', 'beast', 'beat', 'beauti',\n",
       "       'beautifulwoman', 'becam', 'becaus', 'becki', 'becom',\n",
       "       'becominganadult', 'bed', 'bedroom', 'bee', 'beer', 'befor',\n",
       "       'befriend', 'began', 'begin', 'behavior', 'belief', 'believ',\n",
       "       'bell', 'bella', 'belong', 'belov', 'ben', 'benaffleck', 'beneath',\n",
       "       'benefit', 'benfost', 'beniciodeltoro', 'benjamin',\n",
       "       'benjaminbratt', 'benkingsley', 'bennett', 'benstil', 'bent',\n",
       "       'berlin', 'best', 'bestfriend', 'bestfriendsinlov', 'bestsel',\n",
       "       'bet', 'beth', 'betray', 'bettemidl', 'better', 'betti', 'beverli',\n",
       "       'bibl', 'bid', 'big', 'bigciti', 'bigger', 'biggest', 'bike',\n",
       "       'biker', 'bikini', 'billhad', 'billi', 'billionair', 'billmurray',\n",
       "       'billnighi', 'billpaxton', 'billpullman', 'billybobthornton',\n",
       "       'billycrudup', 'billycryst', 'biographi', 'biolog', 'bird',\n",
       "       'birth', 'birthday', 'bisexu', 'bishop', 'bit', 'bite', 'bitter',\n",
       "       'bizarr', 'black', 'blackandwhit', 'blackmag', 'blackmail',\n",
       "       'blackpeopl', 'blacksmith', 'blade', 'blame', 'blend', 'blind',\n",
       "       'bliss', 'blizzard', 'block', 'blond', 'blood', 'bloodi',\n",
       "       'bloodsplatt', 'bloodthirsti', 'blossom', 'blow', 'blue', 'board',\n",
       "       'boardingschool', 'boat', 'bob', 'bobbi', 'bobbyfarrelli',\n",
       "       'bobhoskin', 'bodi', 'bodyguard', 'bold', 'bollywood', 'bomb',\n",
       "       'bond', 'bone', 'book', 'boot', 'border', 'bore', 'boredom',\n",
       "       'born', 'borrow', 'boss', 'boston', 'botch', 'bounc', 'bound',\n",
       "       'boundari', 'bounti', 'bountyhunt', 'bourn', 'bout', 'box',\n",
       "       'boxer', 'boy', 'boyfriend', 'brad', 'bradleycoop', 'bradpitt',\n",
       "       'brain', 'brainwash', 'brand', 'brandon', 'brave', 'braveri',\n",
       "       'brazil', 'brazilian', 'break', 'breakdown', 'breakup', 'breast',\n",
       "       'breed', 'brendanfras', 'brendangleeson', 'brent', 'brettratn',\n",
       "       'brew', 'brian', 'briandepalma', 'bride', 'bridesmaid', 'bridg',\n",
       "       'brief', 'brielarson', 'brien', 'bright', 'brilliant', 'bring',\n",
       "       'brink', 'britain', 'british', 'britishsecretservic',\n",
       "       'brittanymurphi', 'broadcast', 'broadway', 'broke', 'broken',\n",
       "       'broker', 'bronx', 'brook', 'brooklyn', 'broom', 'brothel',\n",
       "       'brother', 'brotherbrotherrelationship',\n",
       "       'brothersisterrelationship', 'brought', 'brown', 'bruce',\n",
       "       'brucegreenwood', 'brucewilli', 'brutal', 'bryansing', 'bu',\n",
       "       'buck', 'bud', 'buddi', 'buddycomedi', 'buddycop', 'budget', 'bug',\n",
       "       'build', 'built', 'bullet', 'bulli', 'bumbl', 'bunch', 'bunker',\n",
       "       'bunni', 'burglar', 'buri', 'burn', 'bush', 'busi', 'businessman',\n",
       "       'bust', 'butcher', 'butler', 'button', 'buy', 'buzz', 'cabin',\n",
       "       'caesar', 'cage', 'cain', 'cairo', 'cal', 'california', 'calvin',\n",
       "       'camcord', 'came', 'camera', 'cameraman', 'camerondiaz', 'camp',\n",
       "       'campaign', 'campbel', 'campu', 'canada', 'canadian', 'cancer',\n",
       "       'candi', 'candid', 'canin', 'cannib', 'canuxploit', 'capabl',\n",
       "       'caper', 'capit', 'capt', 'captain', 'captiv', 'captur', 'car',\n",
       "       'caraccid', 'carchas', 'carcrash', 'card', 'care', 'career',\n",
       "       'carefre', 'caretak', 'careymulligan', 'caribbean', 'carjourney',\n",
       "       'carl', 'carlagugino', 'carmen', 'carniv', 'carol', 'carolina',\n",
       "       'carrac', 'carri', 'carrie', 'cartel', 'carter', 'cartoon',\n",
       "       'caryelw', 'case', 'caseyaffleck', 'cash', 'casino', 'cast',\n",
       "       'castl', 'cat', 'cataclysm', 'catandmous', 'catastroph', 'catch',\n",
       "       'cateblanchett', 'catherinedeneuv', 'catherinekeen',\n",
       "       'catherinezeta', 'cathol', 'catholic', 'cattl', 'caught', 'caus',\n",
       "       'cavalri', 'cave', 'cavemen', 'celebr', 'cell', 'cellphon',\n",
       "       'cemeteri', 'center', 'central', 'centuri', 'ceo', 'ceremoni',\n",
       "       'certain', 'chad', 'chain', 'chainsaw', 'challeng', 'chamber',\n",
       "       'champion', 'championship', 'chanc', 'chang', 'channingtatum',\n",
       "       'chao', 'chaotic', 'chapter', 'charact', 'charg', 'charismat',\n",
       "       'charl', 'charli', 'charliesheen', 'charlizetheron', 'charlott',\n",
       "       'charm', 'chart', 'chase', 'chauffeur', 'chazzpalminteri', 'cheat',\n",
       "       'check', 'cheerlead', 'chef', 'chemic', 'cher', 'chevychas',\n",
       "       'chicago', 'chicken', 'chief', 'child', 'childabus', 'childhero',\n",
       "       'childhood', 'childprodigi', 'children', 'chill', 'chimp', 'china',\n",
       "       'chines', 'chip', 'chipmunk', 'chiwetelejiofor', 'chloe',\n",
       "       'chloëgracemoretz', 'chloësevigni', 'chocol', 'choic', 'choos',\n",
       "       'chosen', 'chosenon', 'chowyun', 'chri', 'chriscolumbu',\n",
       "       'chriscoop', 'chrisevan', 'chrishemsworth', 'chrisklein',\n",
       "       'chrispin', 'chrisrock', 'christ', 'christian', 'christianbal',\n",
       "       'christianslat', 'christin', 'christinaappleg', 'christinaricci',\n",
       "       'christma', 'christmasparti', 'christmastre', 'christoph',\n",
       "       'christopherlambert', 'christopherlloyd', 'christophernolan',\n",
       "       'christopherplumm', 'christopherwalken', 'christophwaltz',\n",
       "       'chrisweitz', 'chronicl', 'chuck', 'chuckrussel', 'church', 'cia',\n",
       "       'ciaránhind', 'cigarettesmok', 'cigarsmok', 'cillianmurphi',\n",
       "       'cindi', 'cinema', 'circl', 'circu', 'circuit', 'circumst', 'citi',\n",
       "       'citizen', 'civil', 'civilian', 'civilwar', 'claim', 'clair',\n",
       "       'clairedan', 'claireforlani', 'clan', 'clark', 'clash', 'class',\n",
       "       'classdiffer', 'classic', 'classmat', 'classroom', 'claudevandamm',\n",
       "       'claustrophobia', 'clay', 'clean', 'clear', 'clerk', 'clever',\n",
       "       'client', 'cliff', 'climat', 'climb', 'climber', 'clinteastwood',\n",
       "       'cliqu', 'cliveowen', 'clock', 'clone', 'close', 'closer', 'cloth',\n",
       "       'cloud', 'clown', 'club', 'clue', 'clueless', 'clutch', 'coach',\n",
       "       'coalmin', 'coast', 'coastal', 'cocain', 'cocki', 'code', 'codi',\n",
       "       'coffin', 'cohen', 'col', 'cold', 'coldwar', 'cole', 'colin',\n",
       "       'colinfarrel', 'colinfirth', 'collaps', 'colleagu', 'collect',\n",
       "       'collector', 'colleg', 'collid', 'collin', 'collis', 'colombia',\n",
       "       'colon', 'colonel', 'coloni', 'color', 'colorado', 'coma',\n",
       "       'combat', 'combin', 'come', 'comeback', 'comed', 'comedi',\n",
       "       'comedian', 'comet', 'comfort', 'comic', 'comicbook', 'comingofag',\n",
       "       'comingout', 'command', 'commando', 'commerci', 'commit', 'common',\n",
       "       'commun', 'compani', 'companion', 'compet', 'competit', 'complet',\n",
       "       'complex', 'complic', 'compos', 'compromis', 'comput',\n",
       "       'computerviru', 'conan', 'concentrationcamp', 'concern', 'concert',\n",
       "       'conclus', 'concoct', 'condit', 'conduct', 'confeder', 'confess',\n",
       "       'confid', 'confin', 'conflict', 'confront', 'confus', 'congress',\n",
       "       'conman', 'connect', 'connecticut', 'connel', 'conni',\n",
       "       'connienielsen', 'connor', 'conquer', 'conquest', 'conrad',\n",
       "       'conscienc', 'consequ', 'conserv', 'consid', 'conspir',\n",
       "       'conspiraci', 'conspiracyofmurd', 'constant', 'constantli',\n",
       "       'construct', 'consum', 'contact', 'contain', 'contemporari',\n",
       "       'contend', 'content', 'contest', 'contin', 'continu', 'contract',\n",
       "       'contractor', 'control', 'controversi', 'convent', 'converg',\n",
       "       'convers', 'convert', 'convict', 'convinc', 'cook', 'cool',\n",
       "       'cooper', 'cop', 'cope', 'core', 'corleon', 'corner', 'corp',\n",
       "       'corpor', 'corps', 'correct', 'corrupt', 'cost', 'costar',\n",
       "       'costum', 'counselor', 'count', 'countess', 'counti', 'countless',\n",
       "       'countri', 'countryhous', 'countrymus', 'countrysid', 'coup',\n",
       "       'coupl', 'courag', 'cours', 'court', 'courtcas', 'courteneycox',\n",
       "       'courtroom', 'cousin', 'cover', 'covert', 'covet', 'cow',\n",
       "       'cowardli', 'cowboy', 'cowork', 'coyot', 'crab', 'crack', 'craft',\n",
       "       'craig', 'crane', 'crash', 'crashland', 'crate', 'crave', 'crazi',\n",
       "       'creat', 'creation', 'creativ', 'creator', 'creatur', 'credit',\n",
       "       'creepi', 'crew', 'cri', 'crime', 'crimefight', 'crimin', 'crisi',\n",
       "       'critic', 'crocodil', 'crook', 'cross', 'crosscountri',\n",
       "       'crossdress', 'crossroad', 'crowd', 'crown', 'crucifixion',\n",
       "       'cruel', 'cruelti', 'cruis', 'crumbl', 'crusad', 'crush',\n",
       "       'crystal', 'cuba', 'cubagoodingjr', 'culmin', 'cult', 'cultfilm',\n",
       "       'cultur', 'cultureclash', 'cun', 'cup', 'cure', 'curios',\n",
       "       'current', 'curs', 'curtishanson', 'custodi', 'custom', 'cut',\n",
       "       'cuttingthecord', 'cyberpunk', 'cyborg', 'cynic', 'dad', 'daili',\n",
       "       'dakotafan', 'dale', 'damag', 'damon', 'dan', 'danaykroyd', 'danc',\n",
       "       'dancer', 'danger', 'daniel', 'danielcraig', 'danielday',\n",
       "       'danielradcliff', 'danni', 'dannyboyl', 'dannydevito', 'dannyglov',\n",
       "       'darci', 'dare', 'dark', 'darkcomedi', 'darkest', 'darylhannah',\n",
       "       'dash', 'date', 'daughter', 'dave', 'davi', 'david',\n",
       "       'davidarquett', 'davidcronenberg', 'davidduchovni', 'davidfinch',\n",
       "       'davidgordongreen', 'davidmors', 'davido', 'davidschwimm',\n",
       "       'davidspad', 'davidthewli', 'daxshepard', 'day', 'daydream', 'dc',\n",
       "       'dccomic', 'dea', 'dead', 'deadli', 'deadliest', 'deaf', 'deal',\n",
       "       'dealer', 'dean', 'death', 'deathofafriend', 'deathoffath',\n",
       "       'deathpenalti', 'debt', 'debut', 'decad', 'decapit', 'deceas',\n",
       "       'deceit', 'decept', 'decid', 'decis', 'declar', 'declin', 'dedic',\n",
       "       'deed', 'deep', 'deeper', 'deepli', 'defeat', 'defend', 'defens',\n",
       "       'defi', 'delight', 'delinqu', 'deliv', 'deliveri', 'delus',\n",
       "       'demand', 'demimoor', 'demon', 'demonicpossess', 'deni',\n",
       "       'deniserichard', 'denmark', 'denni', 'dennisdugan', 'dennishopp',\n",
       "       'dennisquaid', 'dentist', 'denzelwashington', 'depart', 'depend',\n",
       "       'depict', 'deport', 'depress', 'depth', 'deputi', 'derang',\n",
       "       'derek', 'derekluk', 'descend', 'describ', 'desert', 'design',\n",
       "       'desir', 'desk', 'desol', 'despair', 'desper', 'despit', 'destin',\n",
       "       'destini', 'destroy', 'destruct', 'detect', 'detent', 'determin',\n",
       "       'detroit', 'devast', 'develop', 'devic', 'devil', 'deviou',\n",
       "       'devis', 'devot', 'diabol', 'diagnos', 'dialogu', 'diamond',\n",
       "       'dian', 'dianekeaton', 'dianekrug', 'dianelan', 'diari', 'dick',\n",
       "       'dictat', 'did', 'didnt', 'die', 'diego', 'differ', 'difficult',\n",
       "       'difficulti', 'dig', 'digniti', 'dilemma', 'diner', 'dinner',\n",
       "       'dinosaur', 'diplomat', 'dire', 'direct', 'director', 'dirt',\n",
       "       'dirti', 'dirtycop', 'disabl', 'disappear', 'disast', 'disastr',\n",
       "       'discov', 'discoveri', 'diseas', 'disfigur', 'disgrac', 'disguis',\n",
       "       'dishonesti', 'disillus', 'disney', 'disord', 'dispatch',\n",
       "       'disrupt', 'distant', 'distract', 'district', 'distrust',\n",
       "       'disturb', 'ditch', 'diva', 'dive', 'divid', 'divis', 'divorc',\n",
       "       'dj', 'dna', 'doc', 'dock', 'doctor', 'document', 'documentari',\n",
       "       'dodg', 'doe', 'doesn', 'doesnt', 'dog', 'doll', 'dollar',\n",
       "       'dolphin', 'dolphlundgren', 'domest', 'domin', 'don',\n",
       "       'donaldpetri', 'donaldsutherland', 'doncheadl', 'donnel', 'dont',\n",
       "       'doom', 'doomsday', 'door', 'doorstep', 'doppelgang', 'dorothi',\n",
       "       'doubl', 'doublecross', 'doublelif', 'doubt', 'doug', 'dougla',\n",
       "       'dougliman', 'dr', 'dracula', 'drag', 'dragon', 'drama', 'dramat',\n",
       "       'draw', 'drawn', 'dread', 'dream', 'dress', 'drew', 'drewbarrymor',\n",
       "       'drift', 'drifter', 'drink', 'drive', 'driven', 'driver', 'drone',\n",
       "       'drop', 'drown', 'drug', 'drugabus', 'drugaddict', 'drugdeal',\n",
       "       'druglord', 'drugsmuggl', 'drugtraff', 'drugus', 'drunk',\n",
       "       'drunken', 'dualident', 'dub', 'duck', 'dude', 'duel', 'duke',\n",
       "       'dump', 'dunn', 'duo', 'duplic', 'dure', 'duringcreditssting',\n",
       "       'dust', 'dustinhoffman', 'dutch', 'duti', 'dutton', 'dwarv',\n",
       "       'dwaynejohnson', 'dwindl', 'dyinganddeath', 'dylan', 'dynam',\n",
       "       'dynasti', 'dysfunct', 'dysfunctionalfamili', 'dystopia',\n",
       "       'dystopicfutur', 'eager', 'earli', 'earlier', 'earn', 'earth',\n",
       "       'earthquak', 'easi', 'easili', 'east', 'eat', 'eccentr', 'econom',\n",
       "       'economi', 'eddi', 'eddiegriffin', 'eddiemurphi', 'edg', 'edgar',\n",
       "       'edharri', 'editor', 'educ', 'edward', 'edwardburn',\n",
       "       'edwardnorton', 'edwardzwick', 'effect', 'effort', 'egg', 'ego',\n",
       "       'egypt', 'egyptian', 'el', 'elabor', 'elderli', 'elect',\n",
       "       'electioncampaign', 'electr', 'element', 'eleph', 'elev',\n",
       "       'eliaskotea', 'elijahwood', 'elimin', 'elisabethshu', 'elit',\n",
       "       'elizabeth', 'elizabethbank', 'ell', 'ella', 'ellenburstyn',\n",
       "       'ellenpag', 'elli', 'elliot', 'elliott', 'els', 'elud', 'elus',\n",
       "       'elv', 'elvi', 'embark', 'embarrass', 'embassi', 'embroil',\n",
       "       'emerg', 'emigr', 'emilehirsch', 'emili', 'emilyblunt',\n",
       "       'emilymortim', 'emilywatson', 'emma', 'emmarobert', 'emmaston',\n",
       "       'emmathompson', 'emmawatson', 'emot', 'emperor', 'empir', 'employ',\n",
       "       'employe', 'enabl', 'enchant', 'encount', 'encourag', 'end',\n",
       "       'endang', 'endeavor', 'endless', 'endoftheworld', 'endur', 'enemi',\n",
       "       'energi', 'enforc', 'engag', 'engin', 'england', 'english',\n",
       "       'englishman', 'enigmat', 'enjoy', 'enlist', 'enorm', 'enrol',\n",
       "       'ensemblecast', 'enslav', 'ensu', 'ensur', 'entangl', 'enter',\n",
       "       'enterpris', 'entertain', 'enthusiast', 'entir', 'entiti',\n",
       "       'entranc', 'entrepreneur', 'environ', 'environment', 'epic',\n",
       "       'epidem', 'episod', 'equal', 'equip', 'era', 'eric', 'ericbana',\n",
       "       'erin', 'ernest', 'erot', 'erotic', 'erupt', 'escal', 'escap',\n",
       "       'escapad', 'escapefromprison', 'escort', 'especi', 'espionag',\n",
       "       'establish', 'estat', 'esther', 'estrang', 'et', 'etern', 'ethan',\n",
       "       'ethanhawk', 'ethic', 'eugenelevi', 'europ', 'european', 'eva',\n",
       "       'evacu', 'evad', 'evamend', 'evan', 'evanrachelwood', 'eve',\n",
       "       'event', 'eventu', 'everi', 'everybodi', 'everyday', 'everyon',\n",
       "       'everyth', 'everywher', 'evid', 'evil', 'evolut', 'evolv',\n",
       "       'ewanmcgregor', 'ex', 'exact', 'exactli', 'exam', 'examin',\n",
       "       'exchang', 'excit', 'exclus', 'excon', 'execut', 'exercis',\n",
       "       'exgirlfriend', 'exhibit', 'exil', 'exist', 'existenti', 'exlov',\n",
       "       'exorc', 'exot', 'exoticisland', 'expect', 'expedit', 'expens',\n",
       "       'experi', 'experienc', 'expert', 'explain', 'explod', 'exploit',\n",
       "       'explor', 'explos', 'expos', 'extend', 'extermin',\n",
       "       'extramaritalaffair', 'extraordinari', 'extraterrestri',\n",
       "       'extraterrestrialtechnolog', 'extrem', 'extremeviol', 'exwif',\n",
       "       'eye', 'fabl', 'face', 'facetofac', 'facil', 'fact', 'faction',\n",
       "       'factori', 'fade', 'fail', 'fairi', 'fairytal', 'faith', 'fake',\n",
       "       'falcon', 'fall', 'fallen', 'fallinginlov', 'fals', 'falseident',\n",
       "       'falselyaccus', 'fame', 'famili', 'family', 'familyconflict',\n",
       "       'familyrelationship', 'famkejanssen', 'famou', 'fan', 'fanat',\n",
       "       'fangvamp', 'fantasi', 'fantast', 'fantasyworld', 'far', 'farewel',\n",
       "       'farm', 'farmer', 'farmhous', 'fascin', 'fashion', 'fast',\n",
       "       'faster', 'fat', 'fatal', 'fate', 'father',\n",
       "       'fatherdaughterrelationship', 'fathersonrelationship', 'favor',\n",
       "       'favorit', 'fbi', 'fbiagent', 'fear', 'fearless', 'fearsom',\n",
       "       'featur', 'fed', 'feder', 'feed', 'feel', 'feet', 'fellow',\n",
       "       'femal', 'female', 'femalecorps', 'femalefriendship', 'femalenud',\n",
       "       'femaleprotagonist', 'fenc', 'fend', 'festiv', 'fetish', 'feud',\n",
       "       'fiance', 'fiancé', 'fiction', 'fictionalplac', 'field', 'fierc',\n",
       "       'fifth', 'fight', 'fighter', 'figur', 'file', 'film',\n",
       "       'filmdirector', 'filmmak', 'filmproduc', 'final', 'financ',\n",
       "       'financi', 'finch', 'fine', 'finish', 'finn', 'firearm', 'firemen',\n",
       "       'firework', 'firm', 'firsttim', 'fish', 'fisherman',\n",
       "       'fishoutofwat', 'fistfight', 'fit', 'fix', 'flame', 'flash',\n",
       "       'flashback', 'flat', 'fledgl', 'flee', 'flesh', 'fli', 'flight',\n",
       "       'fling', 'flint', 'flirt', 'flood', 'florida', 'florist', 'flower',\n",
       "       'flyingsauc', 'flynn', 'focu', 'focus', 'foe', 'fog', 'foil',\n",
       "       'foley', 'folk', 'follow', 'food', 'foot', 'footag', 'footbal',\n",
       "       'footchas', 'forbidden', 'forbiddenlov', 'forc', 'ford', 'foreign',\n",
       "       'forest', 'forestwhitak', 'forev', 'forg', 'forget', 'forgiv',\n",
       "       'form', 'formid', 'formula', 'fort', 'fortun', 'fortunetel',\n",
       "       'forward', 'foster', 'fought', 'foundfootag', 'fourth', 'fox',\n",
       "       'frame', 'franc', 'franchis', 'franci', 'francisco',\n",
       "       'francisfordcoppola', 'frank', 'frankcoraci', 'frankenstein',\n",
       "       'franki', 'frankiemuniz', 'franklangella', 'frankoz', 'frantic',\n",
       "       'fratern', 'fraud', 'freak', 'fred', 'freddi', 'freddieprinzejr',\n",
       "       'free', 'freedom', 'freeman', 'freespirit', 'freez', 'french',\n",
       "       'frequent', 'fresh', 'freshman', 'friend', 'friendli',\n",
       "       'friendship', 'frighten', 'frog', 'fromragstorich', 'frontier',\n",
       "       'frozen', 'frustrat', 'fu', 'fuel', 'fugit', 'fulfil', 'fulli',\n",
       "       'fun', 'fund', 'funer', 'funni', 'furiou', 'futur', 'futurist',\n",
       "       'fword', 'ga', 'gabriel', 'gabrielbyrn', 'gadget',\n",
       "       'gaelgarcíabern', 'gain', 'galaxi', 'gambl', 'gambler', 'game',\n",
       "       'gandhi', 'gang', 'gangdu', 'gangster', 'gangsterboss', 'gangwar',\n",
       "       'garag', 'garden', 'garfield', 'gari', 'garrymarshal', 'garygray',\n",
       "       'garyoldman', 'garysinis', 'gasstat', 'gate', 'gather', 'gave',\n",
       "       'gay', 'gayinterest', 'gayrelationship', 'geek', 'genehackman',\n",
       "       'gener', 'genet', 'geniu', 'genocid', 'genr', 'gentl',\n",
       "       'geoffreyrush', 'georg', 'georgea', 'georgeclooney', 'georgemil',\n",
       "       'georgia', 'gerardbutl', 'german', 'germani', 'getaway', 'ghetto',\n",
       "       'ghost', 'gi', 'giant', 'giantrobot', 'gift', 'gig', 'girl',\n",
       "       'girlfriend', 'given', 'gladiat', 'glamor', 'glass', 'glennclos',\n",
       "       'global', 'globe', 'glori', 'goal', 'god', 'goe', 'gold', 'golden',\n",
       "       'golf', 'gone', 'good', 'goodvsevil', 'goon', 'gordon', 'gore',\n",
       "       'goreverbinski', 'gorgeou', 'gorilla', 'gossip', 'got', 'gotham',\n",
       "       'gothamc', 'govern', 'governor', 'grace', 'grade', 'gradual',\n",
       "       'graduat', 'grand', 'granddaught', 'grandfath', 'grandmoth',\n",
       "       'granni', 'grant', 'graphic', 'grasp', 'grave', 'great', 'greater',\n",
       "       'greatest', 'greec', 'greed', 'greedi', 'greek', 'green', 'greg',\n",
       "       'gregkinnear', 'gregorypeck', 'grew', 'grief', 'griev', 'griffin',\n",
       "       'grim', 'grip', 'grisli', 'gritti', 'ground', 'group',\n",
       "       'groupoffriend', 'grow', 'growingup', 'grown', 'gruesom', 'gu',\n",
       "       'guard', 'guardian', 'guerrilla', 'guest', 'guid', 'guidanc',\n",
       "       'guilt', 'guilti', 'guitar', 'gun', 'gunfight', 'gunman',\n",
       "       'gunsling', 'guru', 'gusvans', 'guy', 'guypearc', 'guyritchi',\n",
       "       'gwynethpaltrow', 'gym', 'gypsi', 'ha', 'habit', 'hack', 'hacker',\n",
       "       'hair', 'haleyjoelos', 'half', 'halfway', 'hall', 'halleberri',\n",
       "       'halloween', 'hallucin', 'han', 'hand', 'handl', 'handsom',\n",
       "       'handtohandcombat', 'hang', 'hangov', 'hannah', 'hansel',\n",
       "       'hapless', 'happen', 'happi', 'happili', 'harass', 'harbor',\n",
       "       'hard', 'harder', 'hardnos', 'harlem', 'harmoni', 'harold',\n",
       "       'haroldrami', 'harri', 'harriet', 'harrison', 'harrisonford',\n",
       "       'harrow', 'harsh', 'hart', 'harvard', 'harvey', 'harveykeitel',\n",
       "       'hatch', 'hate', 'hatr', 'haunt', 'hauntedhous', 'havoc', 'hawaii',\n",
       "       'hawk', 'hawkin', 'haydenchristensen', 'haze', 'head', 'headlin',\n",
       "       'headquart', 'heal', 'health', 'hear', 'heard', 'heart',\n",
       "       'heartattack', 'heartbreak', 'heat', 'heather', 'heathergraham',\n",
       "       'heathledg', 'heaven', 'heavi', 'heavili', 'heavymet',\n",
       "       'heavyweight', 'hed', 'height', 'heir', 'heiress', 'heist', 'held',\n",
       "       'helen', 'helenabonhamcart', 'helenhunt', 'helenmirren',\n",
       "       'helicopt', 'hell', 'help', 'henchmen', 'henri', 'hero', 'heroic',\n",
       "       'heroin', 'heroism', 'hi', 'hibern', 'hick', 'hidden',\n",
       "       'hiddencamera', 'hide', 'high', 'higher', 'highland', 'highli',\n",
       "       'highschool', 'highschoolsport', 'highschoolstud', 'highsocieti',\n",
       "       'highstak', 'hightech', 'highway', 'hijack', 'hike', 'hilari',\n",
       "       'hilaryduff', 'hilaryswank', 'hill', 'himalaya', 'hip', 'hiphop',\n",
       "       'hippi', 'hire', 'histor', 'histori', 'historicalfigur', 'hit',\n",
       "       'hitch', 'hitchhik', 'hitler', 'hitman', 'ho', 'hobbit', 'hockey',\n",
       "       'hold', 'hole', 'holi', 'holiday', 'holli', 'hollyhunt',\n",
       "       'hollywood', 'holm', 'home', 'homeinvas', 'homeland', 'homeless',\n",
       "       'homelessperson', 'hometown', 'homicid', 'homophobia', 'homosexu',\n",
       "       'honest', 'honey', 'honeymoon', 'hong', 'hongkong', 'honor',\n",
       "       'hood', 'hoodlum', 'hook', 'hop', 'hope', 'hopedavi', 'hopelessli',\n",
       "       'hopper', 'hord', 'horribl', 'horrif', 'horrifi', 'horror', 'hors',\n",
       "       'horsebackrid', 'horserac', 'hospit', 'host', 'hostag', 'hostage',\n",
       "       'hostil', 'hot', 'hotel', 'hotelroom', 'hotshot', 'hour', 'hous',\n",
       "       'household', 'housekeep', 'housewif', 'howard', 'howev', 'hud',\n",
       "       'huge', 'hugh', 'hughgrant', 'hughjackman', 'human',\n",
       "       'humananimalrelationship', 'humankind', 'humili', 'humor', 'hundr',\n",
       "       'hunger', 'hungri', 'hunt', 'hunter', 'hurrican', 'hurt', 'hurtl',\n",
       "       'husband', 'hustler', 'hypnosi', 'hypnot', 'hyster', 'hyunseo',\n",
       "       'ianmckellen', 'ice', 'icecub', 'icon', 'idea', 'ideal',\n",
       "       'idealist', 'ident', 'idol', 'idyl', 'ignit', 'ignor', 'ii', 'iii',\n",
       "       'ill', 'illeg', 'illegaldrug', 'illegalimmigr', 'illegalprostitut',\n",
       "       'illus', 'illustr', 'im', 'imag', 'imagin', 'imaginari', 'imax',\n",
       "       'immedi', 'immens', 'immigr', 'immort', 'impact', 'impend',\n",
       "       'imperi', 'imperson', 'implic', 'import', 'imposs', 'impostor',\n",
       "       'impress', 'imprison', 'improv', 'inadvert', 'incarcer', 'incest',\n",
       "       'incid', 'includ', 'incompet', 'increas', 'increasingli', 'incred',\n",
       "       'independ', 'independentfilm', 'indi', 'india', 'indian',\n",
       "       'indiana', 'indianlead', 'individu', 'industri', 'inept', 'inevit',\n",
       "       'inexplic', 'infam', 'infant', 'infatu', 'infect', 'infidel',\n",
       "       'infiltr', 'influenc', 'inform', 'inhabit', 'inherit', 'initi',\n",
       "       'inject', 'injur', 'injuri', 'injustic', 'inmat', 'inner', 'innoc',\n",
       "       'insan', 'insaneasylum', 'insecur', 'insid', 'insight', 'insist',\n",
       "       'insomnia', 'inspector', 'inspir', 'instal', 'instant',\n",
       "       'instantli', 'instead', 'instinct', 'institut', 'instructor',\n",
       "       'insur', 'insurg', 'intellig', 'intend', 'intens', 'intent',\n",
       "       'interact', 'interfer', 'intergalact', 'intern', 'internet',\n",
       "       'interpret', 'interrog', 'interspeciesrom', 'intertwin',\n",
       "       'interview', 'intim', 'intoler', 'intric', 'intrigu', 'introduc',\n",
       "       'invad', 'invas', 'invent', 'inventor', 'invest', 'investig',\n",
       "       'invis', 'invit', 'involv', 'iowa', 'ira', 'iran', 'iranian',\n",
       "       'iraq', 'iraqwar', 'ireland', 'irish', 'iron', 'irrever', 'islam',\n",
       "       'island', 'isnt', 'isol', 'isra', 'israel', 'issu', 'itali',\n",
       "       'italian', 'ivanreitman', 'ivi', 'jack', 'jackass', 'jackblack',\n",
       "       'jacki', 'jackiechan', 'jacknicholson', 'jackson', 'jacob',\n",
       "       'jacqu', 'jadapinkettsmith', 'jade', 'jail', 'jake',\n",
       "       'jakegyllenha', 'jamaica', 'jamal', 'jame', 'jamescaan',\n",
       "       'jamescameron', 'jamesfranco', 'jamesivori', 'jamesmangold',\n",
       "       'jamesmarsden', 'jamesmcavoy', 'jameswan', 'jameswood', 'jami',\n",
       "       'jamiefoxx', 'jamieleecurti', 'jan', 'jane', 'janitor', 'japan',\n",
       "       'japanes', 'jaredleto', 'jason', 'jasonbateman', 'jasonbigg',\n",
       "       'jasonle', 'jasonschwartzman', 'jasonsegel', 'jasonstatham',\n",
       "       'jaumecollet', 'javierbardem', 'jay', 'jaychandrasekhar',\n",
       "       'jayroach', 'jazz', 'jealou', 'jealousi', 'jean', 'jeanreno',\n",
       "       'jedi', 'jeff', 'jeffbridg', 'jeffdaniel', 'jeffgoldblum',\n",
       "       'jeffreywright', 'jenamalon', 'jenni', 'jennif', 'jenniferaniston',\n",
       "       'jenniferconnelli', 'jennifergarn', 'jenniferjasonleigh',\n",
       "       'jenniferlawr', 'jenniferlopez', 'jenniferlovehewitt',\n",
       "       'jeremyiron', 'jeremyrenn', 'jerri', 'jersey', 'jerusalem', 'jess',\n",
       "       'jessebradford', 'jesseeisenberg', 'jessica', 'jessicaalba',\n",
       "       'jessicabiel', 'jessicachastain', 'jesu', 'jesuschrist', 'jetli',\n",
       "       'jew', 'jewel', 'jewish', 'jigsaw', 'jill', 'jim', 'jimbroadb',\n",
       "       'jimcarrey', 'jimcaviezel', 'jimmi', 'jinta', 'joanallen',\n",
       "       'joancusack', 'joaquinphoenix', 'job', 'jobinterview', 'jock',\n",
       "       'jodi', 'jodiefost', 'joe', 'joel', 'joelcoen', 'joeledgerton',\n",
       "       'joelschumach', 'joepesci', 'joey', 'john', 'johnc', 'johncarpent',\n",
       "       'johncusack', 'johngoodman', 'johnhurt', 'johnkrasinski',\n",
       "       'johnleguizamo', 'johnmalkovich', 'johnmctiernan', 'johnni',\n",
       "       'johnnydepp', 'johnnyknoxvil', 'johnsingleton', 'johnson',\n",
       "       'johntravolta', 'johnturturro', 'johnwoo', 'join', 'jon',\n",
       "       'jonahhil', 'jonathan', 'jonathanfrak', 'jonathanrhysmey', 'jone',\n",
       "       'jonfavreau', 'jonturteltaub', 'jonvoight', 'jordan', 'joseph',\n",
       "       'josephgordon', 'josh', 'joshbrolin', 'joshhartnett',\n",
       "       'joshhutcherson', 'journal', 'journalist', 'journey', 'joy', 'jr',\n",
       "       'juan', 'judelaw', 'judg', 'judidench', 'juli', 'julia', 'julian',\n",
       "       'juliannemoor', 'juliarobert', 'juliastil', 'jump', 'jungl',\n",
       "       'junior', 'junki', 'juri', 'juror', 'just', 'justic', 'justinlong',\n",
       "       'justintimberlak', 'kansa', 'karaok', 'karat', 'karen',\n",
       "       'karlurban', 'kat', 'kate', 'katebeckinsal', 'katebosworth',\n",
       "       'katehudson', 'katemara', 'katewinslet', 'katherin',\n",
       "       'katherineheigl', 'kathi', 'kathyb', 'kati', 'katieholm',\n",
       "       'katniss', 'kay', 'keanureev', 'keiraknightley', 'kelli',\n",
       "       'kellypreston', 'ken', 'kennedi', 'kennethbranagh', 'kermit',\n",
       "       'kevin', 'kevinbacon', 'kevincostn', 'kevinhart', 'kevinjam',\n",
       "       'kevinklin', 'kevinsmith', 'kevinspacey', 'key', 'kgb', 'khan',\n",
       "       'kick', 'kid', 'kidnap', 'kidnapp', 'kidsandfamili',\n",
       "       'kiefersutherland', 'kill', 'killer', 'killerrobot', 'kim',\n",
       "       'kimbasing', 'kind', 'kindli', 'king', 'kingdom', 'kingpin',\n",
       "       'kirk', 'kirstendunst', 'kiss', 'kit', 'kitchen', 'knew', 'knife',\n",
       "       'knight', 'knock', 'know', 'knowledg', 'known', 'kong', 'korea',\n",
       "       'korean', 'kowalski', 'kriskristofferson', 'kristenbel',\n",
       "       'kristenstewart', 'kristenwiig', 'kristinscottthoma', 'krueger',\n",
       "       'kung', 'kungfu', 'kurt', 'kurtrussel', 'kyle', 'la', 'lab',\n",
       "       'labor', 'laboratori', 'lack', 'ladi', 'ladykil', 'laid', 'lake',\n",
       "       'land', 'landscap', 'lane', 'languag', 'lapd', 'larg', 'larger',\n",
       "       'largest', 'larri', 'laser', 'lasergun', 'lassehallström',\n",
       "       'lasvega', 'late', 'later', 'latest', 'laugh', 'launch', 'laura',\n",
       "       'lauralinney', 'laurencefishburn', 'lavish', 'law', 'lawman',\n",
       "       'lawrenc', 'lawyer', 'lax', 'lay', 'lazi', 'le', 'lead', 'leader',\n",
       "       'leadership', 'leagu', 'learn', 'leav', 'led', 'lee', 'left',\n",
       "       'leg', 'legaci', 'legal', 'legend', 'legendari', 'legion',\n",
       "       'lenaheadey', 'length', 'leo', 'leon', 'leonardnimoy',\n",
       "       'leonardodicaprio', 'lesbian', 'lesbianrelationship', 'lesliemann',\n",
       "       'leslienielsen', 'lesson', 'let', 'lethal', 'letter', 'level',\n",
       "       'levitt', 'lewi', 'lgbt', 'li', 'liaison', 'liamneeson', 'liar',\n",
       "       'liber', 'lie', 'lieuten', 'lievschreib', 'life', 'lifeanddeath',\n",
       "       'lifechang', 'lifelong', 'lifestyl', 'lifetim', 'lift', 'light',\n",
       "       'lightn', 'like', 'lili', 'limit', 'lincoln', 'linda',\n",
       "       'lindsaylohan', 'line', 'link', 'lion', 'lisa', 'lisakudrow',\n",
       "       'list', 'listen', 'liter', 'literatur', 'littl', 'littleboy',\n",
       "       'live', 'liveactionandanim', 'lizzi', 'lloyd', 'lo', 'loan',\n",
       "       'local', 'locat', 'lock', 'logan', 'loganlerman', 'lola', 'london',\n",
       "       'londonengland', 'lone', 'loneli', 'loner', 'lonewolf', 'long',\n",
       "       'longer', 'longlost', 'longtim', 'look', 'loop', 'loos', 'loot',\n",
       "       'lord', 'losangel', 'lose', 'loser', 'loss', 'lossofbroth',\n",
       "       'lossofchild', 'lossoffamili', 'lossoffath', 'lossofhusband',\n",
       "       'lossoflov', 'lossofmoth', 'lossofpar', 'lossofson', 'lost', 'lot',\n",
       "       'lotteri', 'lou', 'loui', 'louisiana', 'louisleterri', 'loung',\n",
       "       'lovabl', 'love', 'loveatfirstsight', 'loveless', 'lovelett',\n",
       "       'loveofone', 'lover', 'lovesick', 'lovetriangl', 'low', 'loyal',\n",
       "       'loyalti', 'lt', 'luca', 'luci', 'luck', 'lucki', 'lucyliu',\n",
       "       'luke', 'lukewilson', 'lure', 'lurk', 'lust', 'luthor', 'luxuri',\n",
       "       'macaulayculkin', 'machin', 'machinegun', 'maci', 'mad', 'madam',\n",
       "       'madea', 'madison', 'madonna', 'madscientist', 'mafia', 'magazin',\n",
       "       'maggi', 'magic', 'magician', 'magnat', 'magnific', 'maid', 'mail',\n",
       "       'main', 'maintain', 'major', 'make', 'makeov', 'malcolm',\n",
       "       'malcolmd', 'male', 'malefemalerelationship', 'malefriendship',\n",
       "       'malenud', 'malibu', 'mall', 'mama', 'man', 'manag', 'mandela',\n",
       "       'mandymoor', 'manhattan', 'manhood', 'manhunt', 'mani', 'maniac',\n",
       "       'manipul', 'mankind', 'manner', 'manni', 'mansion', 'manufactur',\n",
       "       'manvsmachin', 'map', 'mar', 'marcforst', 'march', 'marcu', 'mari',\n",
       "       'maria', 'mariabello', 'marijuana', 'marin', 'marisatomei', 'mark',\n",
       "       'market', 'markruffalo', 'markstrong', 'markwahlberg',\n",
       "       'marlonbrando', 'marlonwayan', 'marri', 'marriag', 'marriagecrisi',\n",
       "       'marriagepropos', 'marriedcoupl', 'marsh', 'marshal', 'martha',\n",
       "       'marti', 'martial', 'martialart', 'martian', 'martin',\n",
       "       'martincampbel', 'martinfreeman', 'martinlawr', 'martinscorses',\n",
       "       'marvelcinematicunivers', 'marvelcom', 'marymccormack', 'mask',\n",
       "       'maskedkil', 'mass', 'massacr', 'massiv', 'massmurd', 'master',\n",
       "       'mastermind', 'masturb', 'match', 'mate', 'materi', 'mathemat',\n",
       "       'mathematician', 'matrix', 'matt', 'mattdamon', 'mattdillon',\n",
       "       'matter', 'matteroflifeanddeath', 'matthew', 'matthewbroderick',\n",
       "       'matthewlillard', 'matthewmcconaughey', 'matur', 'mauric',\n",
       "       'maverick', 'max', 'maya', 'mayb', 'mayhem', 'mayor', 'maze',\n",
       "       'mccall', 'mcclane', 'mean', 'meanwhil', 'meat', 'mechan', 'medal',\n",
       "       'medallion', 'media', 'medic', 'medicin', 'mediev', 'meet',\n",
       "       'megan', 'megryan', 'melbrook', 'melgibson', 'melissa', 'melt',\n",
       "       'melvin', 'member', 'memoir', 'memori', 'memoryloss', 'men',\n",
       "       'menac', 'mental', 'mentalil', 'mentallydis', 'mentor', 'mephisto',\n",
       "       'mercenari', 'merci', 'merciless', 'mere', 'mermaid',\n",
       "       'merylstreep', 'messag', 'met', 'metal', 'meteor', 'method',\n",
       "       'metro', 'mexican', 'mexicanstandoff', 'mexico', 'mia', 'miami',\n",
       "       'michael', 'michaelangarano', 'michaelbay', 'michaelcain',\n",
       "       'michaeldougla', 'michaelfassbend', 'michaelj', 'michaelkeaton',\n",
       "       'michaelmoor', 'michaelshannon', 'michaelsheen', 'michel',\n",
       "       'michellemonaghan', 'michellepfeiff', 'michellerodriguez',\n",
       "       'michigan', 'mickey', 'mickeyrourk', 'middl', 'middleag',\n",
       "       'middleeast', 'midlifecrisi', 'midnight', 'midst', 'midwest',\n",
       "       'mighti', 'mike', 'mikemy', 'mikenewel', 'milakuni', 'mildmann',\n",
       "       'mile', 'militari', 'millajovovich', 'miller', 'million',\n",
       "       'millionair', 'milo', 'mind', 'mindcontrol', 'miner', 'minion',\n",
       "       'minist', 'minnesota', 'minniedriv', 'minor', 'minut', 'miracl',\n",
       "       'miracul', 'miranda', 'mirror', 'misadventur', 'misanthrop',\n",
       "       'mischiev', 'miser', 'misfit', 'misguid', 'mismatch', 'misogynist',\n",
       "       'miss', 'missil', 'missingperson', 'mission', 'missionari',\n",
       "       'missionofmurd', 'mississippi', 'mistak', 'mistaken',\n",
       "       'mistakenident', 'mistakenli', 'mistress', 'mitch', 'mitchel',\n",
       "       'mix', 'mob', 'mobster', 'mockumentari', 'model', 'modern',\n",
       "       'modernday', 'mole', 'molli', 'mom', 'moment', 'money', 'monica',\n",
       "       'monk', 'monkey', 'monro', 'monster', 'monstrou', 'mont',\n",
       "       'montana', 'month', 'montreal', 'moon', 'moonlight', 'moor',\n",
       "       'moral', 'morgan', 'morganfreeman', 'morgu', 'mormon', 'morn',\n",
       "       'morri', 'morrischestnut', 'mortal', 'moscow', 'mose', 'mossad',\n",
       "       'mostli', 'motel', 'mother', 'motherdaughterrelationship',\n",
       "       'motherlylov', 'motherrol', 'mothersonrelationship', 'motion',\n",
       "       'motiv', 'motley', 'motor', 'motorcycl', 'motorcyclegang', 'mount',\n",
       "       'mountain', 'mous', 'movement', 'movi', 'movieinmovi', 'moviestar',\n",
       "       'mr', 'multipl', 'multiplestorylin', 'mumblecor', 'mumblegor',\n",
       "       'mummi', 'murder', 'murderhunt', 'murphi', 'murray', 'muse',\n",
       "       'museum', 'music', 'musicband', 'musician', 'musket', 'muslim',\n",
       "       'mut', 'mutant', 'mutat', 'mutil', 'mutini', 'mutual', 'myer',\n",
       "       'mysteri', 'mystic', 'myth', 'mythic', 'mytholog', 'naiv',\n",
       "       'naiveti', 'nake', 'nanci', 'nanni', 'naomiwatt', 'narcot',\n",
       "       'narnia', 'narrat', 'nasa', 'nasti', 'natali', 'natalieportman',\n",
       "       'nathan', 'nation', 'nativ', 'nativeamerican', 'natur',\n",
       "       'naturaldisast', 'navi', 'navig', 'navys', 'nazi', 'nazigermani',\n",
       "       'nba', 'near', 'nearbi', 'nearfutur', 'nearli', 'necessari', 'ned',\n",
       "       'need', 'nefari', 'neglect', 'negoti', 'neighbor', 'neighborhood',\n",
       "       'neiljordan', 'nelson', 'nemesi', 'neo', 'nephew', 'nerd', 'nerdi',\n",
       "       'netherland', 'network', 'neurot', 'nevada', 'nevecampbel', 'new',\n",
       "       'newborn', 'newcom', 'newfound', 'newident', 'newjersey', 'newli',\n",
       "       'newlov', 'newlyw', 'newmexico', 'news', 'newspap', 'newyear',\n",
       "       'newyork', 'newyorkc', 'nialong', 'nice', 'nichola', 'nick',\n",
       "       'nicki', 'nicknolt', 'nicol', 'nicolascag', 'nicolekidman', 'niec',\n",
       "       'night', 'nightclub', 'nightlif', 'nightmar', 'nightmarish',\n",
       "       'nightshyamalan', 'nightstand', 'nineyearold', 'ninja', 'noah',\n",
       "       'nobl', 'nobleman', 'nobodi', 'noir', 'nomad', 'normal', 'norman',\n",
       "       'north', 'northern', 'nose', 'note', 'notebook', 'noth', 'notic',\n",
       "       'notori', 'novel', 'novelist', 'novemb', 'novic', 'nowher',\n",
       "       'nuclear', 'nuclearmissil', 'nuditi', 'number', 'numberintitl',\n",
       "       'numer', 'nun', 'nurs', 'ny', 'nypd', 'object', 'oblig', 'obscur',\n",
       "       'observ', 'obsess', 'obstacl', 'obtain', 'occasion', 'occult',\n",
       "       'occup', 'occupi', 'occur', 'occurr', 'ocean', 'odd', 'oddbal',\n",
       "       'odyssey', 'offer', 'offic', 'offici', 'ogr', 'ohio', 'oil', 'old',\n",
       "       'older', 'oliv', 'oliverston', 'olivia', 'oliviawild', 'olymp',\n",
       "       'olympicgam', 'omar', 'onc', 'onenight', 'onli', 'onlin',\n",
       "       'ontherun', 'open', 'oper', 'opera', 'opportun', 'oppos',\n",
       "       'opposit', 'oppositesattract', 'oppress', 'orc', 'orchestr',\n",
       "       'order', 'ordinari', 'oregon', 'organ', 'organizedcrim', 'origin',\n",
       "       'orlandobloom', 'orlean', 'orphan', 'orphanag', 'oscar',\n",
       "       'oscaraward', 'oscarisaac', 'otherworldli', 'outback', 'outbreak',\n",
       "       'outcast', 'outerspac', 'outlaw', 'outrag', 'outsid', 'outwit',\n",
       "       'overcom', 'overdos', 'overrun', 'overthrow', 'overwhelm', 'owen',\n",
       "       'owenwilson', 'owl', 'owner', 'oxford', 'oz', 'pacif', 'pack',\n",
       "       'packag', 'pact', 'pageant', 'paid', 'pain', 'paint', 'painter',\n",
       "       'pair', 'pal', 'palac', 'pam', 'pan', 'pandora', 'panic',\n",
       "       'panther', 'paper', 'paradis', 'parallel', 'parallelworld',\n",
       "       'paranoia', 'paranoid', 'paranorm', 'parent', 'parents',\n",
       "       'parentskidsrelationship', 'pari', 'parisian', 'park', 'parker',\n",
       "       'parodi', 'parol', 'parrish', 'parti', 'particip', 'particularli',\n",
       "       'partner', 'partnership', 'pass', 'passag', 'passeng', 'passion',\n",
       "       'past', 'pastor', 'path', 'patient', 'patriarch',\n",
       "       'patriciaarquett', 'patrick', 'patrickstewart', 'patrickwilson',\n",
       "       'patriot', 'patrol', 'paul', 'paulapatton', 'paulbettani',\n",
       "       'paulgiamatti', 'paulgreengrass', 'paulnewman', 'paulrudd',\n",
       "       'paulw', 'paulwalk', 'pawn', 'pay', 'peac', 'pearl', 'peasant',\n",
       "       'pedophil', 'pedophilia', 'peer', 'penguin', 'penn',\n",
       "       'pennsylvania', 'penélopecruz', 'peopl', 'perfect', 'perform',\n",
       "       'perhap', 'peril', 'period', 'perioddrama', 'perman', 'perri',\n",
       "       'persian', 'person', 'perspect', 'persuad', 'peru', 'pet', 'pete',\n",
       "       'peter', 'peterberg', 'peterjackson', 'petersarsgaard', 'peterseg',\n",
       "       'petti', 'phantom', 'phil', 'philadelphia', 'philipp',\n",
       "       'philipseymourhoffman', 'phillipnoyc', 'philosoph', 'philosophi',\n",
       "       'phone', 'photo', 'photograph', 'photographi', 'physic', 'pianist',\n",
       "       'piano', 'picard', 'pick', 'pickpocket', 'pictur', 'piec',\n",
       "       'piercebrosnan', 'pierr', 'pig', 'pilot', 'pimp', 'pink',\n",
       "       'pinocchio', 'piperperabo', 'pirat', 'pistol', 'pit', 'pitch',\n",
       "       'place', 'plagu', 'plan', 'plane', 'planet', 'plannedmurd',\n",
       "       'plant', 'plantat', 'plastic', 'play', 'playboy', 'player',\n",
       "       'playground', 'playwright', 'pleasur', 'pledg', 'plenti', 'plot',\n",
       "       'plung', 'po', 'poet', 'poetri', 'point', 'poison', 'poker',\n",
       "       'polar', 'polic', 'policebrut', 'policechas', 'policeman',\n",
       "       'policeoffic', 'policeoper', 'polit', 'politician', 'polli',\n",
       "       'pollut', 'pool', 'poor', 'pop', 'popcultur', 'popstar', 'popul',\n",
       "       'popular', 'porn', 'pornographi', 'port', 'portal', 'porter',\n",
       "       'portrait', 'portray', 'pose', 'posit', 'possess', 'possibl',\n",
       "       'post', 'postapocalypt', 'posttraumaticstressdisord', 'pot',\n",
       "       'potenti', 'potter', 'poverti', 'power', 'poweroutag', 'practic',\n",
       "       'prank', 'prayer', 'preacher', 'preciou', 'predat', 'predica',\n",
       "       'predict', 'prefer', 'pregnanc', 'pregnancyandbirth', 'pregnant',\n",
       "       'prehistor', 'prejudic', 'premonit', 'prepar', 'prequel',\n",
       "       'presenc', 'present', 'presid', 'presidenti', 'presidentialelect',\n",
       "       'press', 'pressur', 'prestigi', 'presum', 'pretend', 'pretti',\n",
       "       'prevent', 'previou', 'prey', 'price', 'priceless', 'pride',\n",
       "       'priest', 'prime', 'princ', 'princess', 'princip', 'principl',\n",
       "       'prison', 'prisonersofwar', 'privat', 'privatedetect',\n",
       "       'privateschool', 'prize', 'pro', 'problem', 'process', 'prodigi',\n",
       "       'produc', 'product', 'profess', 'profession', 'professor',\n",
       "       'profit', 'program', 'progress', 'project', 'prom', 'promin',\n",
       "       'promis', 'promot', 'prompt', 'promptli', 'properti', 'propheci',\n",
       "       'proport', 'propos', 'prosecut', 'prospect', 'prostitut',\n",
       "       'protect', 'protest', 'prove', 'provid', 'psychiatr',\n",
       "       'psychiatrist', 'psychic', 'psycholog', 'psychologist',\n",
       "       'psychopath', 'psychot', 'pub', 'puberti', 'public', 'publicist',\n",
       "       'publish', 'pull', 'punish', 'punk', 'puppet', 'puppi', 'purchas',\n",
       "       'purpos', 'pursu', 'pursuit', 'push', 'puzzl', 'pyramid',\n",
       "       'qualiti', 'quarantin', 'quarterback', 'queen', 'queenlatifah',\n",
       "       'quentintarantino', 'quest', 'question', 'quick', 'quickli',\n",
       "       'quiet', 'quirki', 'quit', 'rabbit', 'race', 'raceagainsttim',\n",
       "       'racehors', 'racer', 'rachaelleighcook', 'rachel', 'rachelmcadam',\n",
       "       'rachelweisz', 'racial', 'racism', 'radiat', 'radic', 'radio',\n",
       "       'radiopresent', 'radiost', 'radiotransmiss', 'rafael', 'rage',\n",
       "       'rageandh', 'ragtag', 'raid', 'railroad', 'rain', 'rais',\n",
       "       'rajagosnel', 'ralli', 'ralph', 'ralphfienn', 'rambo', 'rampag',\n",
       "       'ran', 'ranch', 'rancher', 'randal', 'ranger', 'rank', 'ransom',\n",
       "       'rape', 'rapidli', 'rapmus', 'rapper', 'rare', 'rat', 'rate',\n",
       "       'ravag', 'raw', 'ray', 'rayliotta', 'raymond', 'raywinston',\n",
       "       'reach', 'reaction', 'read', 'readi', 'real', 'realis', 'realiti',\n",
       "       'realiz', 'realli', 'reallif', 'realm', 'reaper', 'reason',\n",
       "       'rebecca', 'rebeccahal', 'rebel', 'rebelli', 'rebellion', 'reboot',\n",
       "       'rebuild', 'receiv', 'recent', 'recess', 'recip', 'reckless',\n",
       "       'reclaim', 'reclus', 'recogn', 'reconcil', 'reconnect', 'record',\n",
       "       'recordproduc', 'recount', 'recov', 'recreat', 'recruit', 'red',\n",
       "       'redeem', 'redempt', 'rediscov', 'redneck', 'reel',\n",
       "       'reesewitherspoon', 'reevalu', 'reflect', 'reform', 'refug',\n",
       "       'refuge', 'refus', 'regain', 'regard', 'regim', 'reginak',\n",
       "       'region', 'regret', 'regular', 'reign', 'reilli', 'reincarn',\n",
       "       'reject', 'rekindl', 'rel', 'relat', 'relationship',\n",
       "       'relationshipproblem', 'releas', 'relentless', 'reli', 'religi',\n",
       "       'religion', 'religionandsupernatur', 'reloc', 'reluct',\n",
       "       'reluctantli', 'remain', 'remak', 'remark', 'rememb', 'remind',\n",
       "       'reminisc', 'remot', 'remov', 'renegad', 'renerusso',\n",
       "       'rennyharlin', 'renown', 'rent', 'renéezellweg', 'repair', 'repay',\n",
       "       'replac', 'report', 'repres', 'repress', 'republ', 'reput',\n",
       "       'request', 'requir', 'rescu', 'research', 'resid', 'resist',\n",
       "       'resolv', 'resort', 'resourc', 'respect', 'respond', 'respons',\n",
       "       'rest', 'restaur', 'restor', 'result', 'resurfac', 'resurrect',\n",
       "       'retel', 'retir', 'retreat', 'retribut', 'retriev', 'return',\n",
       "       'reunion', 'reunit', 'reveal', 'revel', 'reveng', 'reverend',\n",
       "       'reviv', 'revolt', 'revolut', 'revolutionari', 'revolv', 'reward',\n",
       "       'rich', 'richard', 'richarddonn', 'richarddreyfuss', 'richardger',\n",
       "       'richardlinklat', 'rick', 'ricki', 'rickygervai', 'rid', 'riddick',\n",
       "       'riddl', 'ride', 'rider', 'ridicul', 'ridleyscott', 'rifl', 'rig',\n",
       "       'right', 'rightandjustic', 'riley', 'ring', 'riot', 'rip',\n",
       "       'ripley', 'rise', 'risk', 'ritual', 'rival', 'rivalri', 'river',\n",
       "       'road', 'roadmovi', 'roadtrip', 'roam', 'roar', 'rob', 'robber',\n",
       "       'robberi', 'robcohen', 'robert', 'robertdeniro', 'robertdowneyjr',\n",
       "       'robertduval', 'robertenglund', 'robertredford', 'robertrodriguez',\n",
       "       'robertschwentk', 'robertzemecki', 'robin', 'robinson',\n",
       "       'robinwilliam', 'robinwright', 'robot', 'robrein', 'rock',\n",
       "       'rockandrol', 'rocket', 'rocki', 'rockstar', 'roger',\n",
       "       'rogerdonaldson', 'rogermoor', 'rogu', 'rolandemmerich', 'role',\n",
       "       'roll', 'roller', 'roman', 'romanc', 'romant', 'romanticcomedi',\n",
       "       'rome', 'romeo', 'romero', 'ron', 'ronhoward', 'ronni',\n",
       "       'ronperlman', 'roof', 'rooftop', 'rooki', 'room', 'roommat',\n",
       "       'root', 'rope', 'rosamundpik', 'rosariodawson', 'rose', 'rosebyrn',\n",
       "       'ross', 'rough', 'round', 'routin', 'row', 'roy', 'royal',\n",
       "       'royalti', 'rubi', 'rugbi', 'rugrat', 'ruin', 'rule', 'ruler',\n",
       "       'rumor', 'run', 'runaway', 'runner', 'rupertgrint', 'rural',\n",
       "       'ruralset', 'rush', 'russel', 'russellcrow', 'russia', 'russian',\n",
       "       'ruth', 'ruthless', 'ryan', 'ryangosl', 'ryanphillipp',\n",
       "       'ryanreynold', 'sabotag', 'sacr', 'sacrific', 'sad', 'sadism',\n",
       "       'sadist', 'safe', 'safeti', 'saga', 'said', 'sail', 'sailor',\n",
       "       'saint', 'sale', 'salesman', 'salli', 'salmahayek', 'sam',\n",
       "       'samantha', 'samanthamorton', 'sammend', 'samneil', 'samraimi',\n",
       "       'samrockwel', 'samuel', 'samuell', 'samurai', 'san', 'sand',\n",
       "       'sandi', 'sandrabullock', 'sanfrancisco', 'saniti', 'santa',\n",
       "       'santaclau', 'sara', 'sarah', 'sarahjessicapark',\n",
       "       'sarahmichellegellar', 'sarapaxton', 'satan', 'satellit', 'satir',\n",
       "       'satisfi', 'savag', 'save', 'savingtheworld', 'say', 'sbook',\n",
       "       'scam', 'scandal', 'scar', 'scare', 'scari', 'scarlettjohansson',\n",
       "       'scene', 'schedul', 'scheme', 'schizophrenia', 'scholarship',\n",
       "       'school', 'schoolteach', 'scienc', 'sciencefict', 'scientif',\n",
       "       'scientist', 'scifi', 'score', 'scotland', 'scott', 'scottglenn',\n",
       "       'scottish', 'scout', 'scrambl', 'scream', 'screen', 'screenplay',\n",
       "       'screenwrit', 'script', 'scubadiv', 'sdailylif', 'sea', 'seal',\n",
       "       'sean', 'seanbean', 'seanconneri', 'seannwilliamscott', 'seanpenn',\n",
       "       'search', 'seasid', 'season', 'seattl', 'sebastian', 'seclud',\n",
       "       'second', 'secret', 'secretag', 'secretari', 'secretident',\n",
       "       'secretintelligenceservic', 'secretli', 'secretlov', 'secretmiss',\n",
       "       'secretorgan', 'secretservic', 'secretsocieti', 'section', 'secur',\n",
       "       'securityguard', 'seduc', 'seduct', 'seek', 'seemingli', 'seen',\n",
       "       'seiz', 'self', 'selfesteem', 'selfsacrific', 'sell', 'selmablair',\n",
       "       'senat', 'send', 'senior', 'sens', 'sensat', 'sensit', 'sent',\n",
       "       'sentenc', 'separ', 'sequel', 'sergeant', 'seri', 'serial',\n",
       "       'serialkil', 'seriesofmurd', 'seriou', 'serv', 'servant', 'servic',\n",
       "       'session', 'set', 'seth', 'sethgreen', 'sethrogen', 'settl',\n",
       "       'settler', 'sev', 'seven', 'sever', 'sewer', 'sex', 'sexaddict',\n",
       "       'sexi', 'sexual', 'sexualabus', 'sexualobsess', 'shadi', 'shadow',\n",
       "       'shadowi', 'shake', 'shaken', 'shakespear', 'shane', 'shanghai',\n",
       "       'shannynsossamon', 'shape', 'share', 'shark', 'sharkattack',\n",
       "       'sharonston', 'sharp', 'shatter', 'shaw', 'shawnlevi', 'shed',\n",
       "       'shelter', 'shepherd', 'sheriff', 'shi', 'shialabeouf', 'shield',\n",
       "       'shift', 'ship', 'shipwreck', 'shock', 'shoe', 'shoot', 'shootout',\n",
       "       'shop', 'short', 'shot', 'shotgun', 'showdown', 'shower',\n",
       "       'shredder', 'shrek', 'shut', 'shuttl', 'shyness', 'sibl', 'sick',\n",
       "       'sid', 'sidekick', 'sidney', 'sieg', 'sight', 'sign', 'signal',\n",
       "       'sigourneyweav', 'silenc', 'silent', 'silentfilm', 'silver',\n",
       "       'similar', 'simon', 'simonpegg', 'simonwest', 'simpl', 'simpli',\n",
       "       'simpson', 'simultan', 'sin', 'sinc', 'sing', 'singer', 'singl',\n",
       "       'singlefath', 'singlemoth', 'singlepar', 'sinist', 'sir', 'sister',\n",
       "       'sistersisterrelationship', 'sit', 'site', 'sittingonatoilet',\n",
       "       'situat', 'size', 'skateboard', 'skeleton', 'skeptic', 'ski',\n",
       "       'skill', 'skull', 'sky', 'skyscrap', 'skywalk', 'slacker',\n",
       "       'slapstick', 'slasher', 'slaughter', 'slave', 'slaveri', 'sleazi',\n",
       "       'sleep', 'sleepi', 'sleepwalk', 'slif', 'slip', 'slowli', 'slum',\n",
       "       'small', 'smalltim', 'smalltown', 'smart', 'smash', 'smith',\n",
       "       'smitten', 'smoke', 'smuggl', 'smuggler', 'smurf', 'snake',\n",
       "       'snatch', 'sniper', 'snow', 'snowstorm', 'soccer', 'social',\n",
       "       'socialit', 'societi', 'sociopath', 'sofia', 'solar', 'sold',\n",
       "       'soldier', 'sole', 'solitari', 'solomon', 'solv', 'somebodi',\n",
       "       'someon', 'someth', 'sometim', 'somewhat', 'somewher', 'son',\n",
       "       'song', 'soon', 'sophi', 'sophist', 'sorcer', 'sorceri', 'soror',\n",
       "       'sort', 'soul', 'soulmat', 'sound', 'soundtrack', 'sour', 'sourc',\n",
       "       'south', 'southafrica', 'southern', 'southernusa', 'soviet',\n",
       "       'sovietunion', 'space', 'spacecraft', 'spacemarin', 'spacemiss',\n",
       "       'spaceopera', 'spaceship', 'spacetravel', 'spain', 'span',\n",
       "       'spanish', 'spark', 'speak', 'speci', 'special', 'specialist',\n",
       "       'spectacl', 'spectacular', 'speech', 'speed', 'spell', 'spencer',\n",
       "       'spend', 'spent', 'spi', 'spider', 'spike', 'spikele', 'spin',\n",
       "       'spiral', 'spirit', 'spiritu', 'spite', 'spoil', 'spoof', 'sport',\n",
       "       'sportsteam', 'spot', 'spotlight', 'spread', 'spring', 'squad',\n",
       "       'squar', 'st', 'stab', 'stadium', 'staff', 'stage', 'stake',\n",
       "       'stalk', 'stalker', 'stan', 'stand', 'stanley', 'star',\n",
       "       'starcrossedlov', 'stardom', 'starfleet', 'stark', 'start',\n",
       "       'state', 'station', 'statu', 'stay', 'steal', 'steampunk', 'steel',\n",
       "       'stella', 'step', 'stepfath', 'stephen', 'stephendorff',\n",
       "       'stephenfrear', 'stephenherek', 'stephenrea', 'stepmoth', 'steve',\n",
       "       'stevebuscemi', 'stevecarel', 'stevemartin', 'steven',\n",
       "       'stevenseag', 'stevensoderbergh', 'stevenspielberg', 'stevezahn',\n",
       "       'stewardess', 'stewart', 'stick', 'stir', 'stitch', 'stock',\n",
       "       'stockbrok', 'stolen', 'stone', 'stoneag', 'stoner', 'stop',\n",
       "       'stopmot', 'store', 'stori', 'storm', 'straight', 'strain',\n",
       "       'strand', 'strang', 'stranger', 'strateg', 'strategi', 'stray',\n",
       "       'street', 'streetgang', 'streetwis', 'strength', 'stress',\n",
       "       'stretch', 'strict', 'strike', 'strip', 'stripclub', 'stripe',\n",
       "       'stripper', 'strive', 'strong', 'structur', 'struggl', 'stu',\n",
       "       'stuart', 'stuck', 'student', 'studi', 'studio', 'stumbl', 'stun',\n",
       "       'stunt', 'stupid', 'style', 'su', 'subject', 'submachinegun',\n",
       "       'submarin', 'subsequ', 'suburb', 'suburban', 'suburbia', 'subway',\n",
       "       'succe', 'succeed', 'success', 'successor', 'sudden', 'suddenli',\n",
       "       'sue', 'suffer', 'suggest', 'suicid', 'suicideattempt', 'suit',\n",
       "       'suitcas', 'suitor', 'sullivan', 'summer', 'summon', 'sun',\n",
       "       'sunglass', 'super', 'supercomput', 'superhero', 'superhuman',\n",
       "       'superhumanstrength', 'superman', 'supermarket', 'supernatur',\n",
       "       'supernaturalpow', 'superpow', 'superstar', 'supervillain',\n",
       "       'supervisor', 'suppli', 'support', 'suppos', 'suppress',\n",
       "       'suppressedpast', 'sure', 'surf', 'surfac', 'surfer', 'surgeon',\n",
       "       'surgeri', 'surpris', 'surreal', 'surround', 'surveil', 'surviv',\n",
       "       'survivor', 'susan', 'susansarandon', 'suspect', 'suspens',\n",
       "       'suspici', 'suspicion', 'swallow', 'sweep', 'sweet', 'sweetheart',\n",
       "       'swept', 'swimmingpool', 'swing', 'switch', 'sword',\n",
       "       'swordandsorceri', 'swordfight', 'swordplay', 'sylvesterstallon',\n",
       "       'symbol', 'tabl', 'tactic', 'tail', 'tak', 'taken', 'tale',\n",
       "       'talent', 'talk', 'talkinganim', 'tall', 'tank', 'tap', 'tape',\n",
       "       'target', 'task', 'tast', 'tattoo', 'taxi', 'taxidriv', 'taylor',\n",
       "       'teach', 'teacher', 'team', 'tear', 'technolog', 'ted', 'teen',\n",
       "       'teenag', 'teenagecrush', 'teenagegirl', 'teenagesexu',\n",
       "       'teencomedi', 'teenmovi', 'telekinesi', 'telepathi', 'teleport',\n",
       "       'televis', 'tell', 'templ', 'temptat', 'tennesse', 'tenni', 'tens',\n",
       "       'tension', 'term', 'termin', 'terminalil', 'terrencehoward',\n",
       "       'terri', 'terribl', 'terrier', 'terrifi', 'territori', 'terror',\n",
       "       'terrorist', 'terrygilliam', 'tess', 'test', 'texa', 'thailand',\n",
       "       'thandienewton', 'thank', 'thanksgiv', 'theater', 'theatremilieu',\n",
       "       'theft', 'theme', 'themselv', 'theori', 'therapi', 'therapist',\n",
       "       'theyll', 'theyr', 'theyv', 'thi', 'thief', 'thiev', 'thing',\n",
       "       'think', 'thirst', 'thirti', 'thoma', 'thomashadenchurch',\n",
       "       'thomasjan', 'thompson', 'thought', 'thousand', 'threat',\n",
       "       'threaten', 'thrill', 'thriller', 'thrillseek', 'throne', 'throw',\n",
       "       'thrown', 'thrust', 'thu', 'thug', 'thwart', 'tibet', 'tick',\n",
       "       'ticket', 'tie', 'tiger', 'tildaswinton', 'tim', 'timallen',\n",
       "       'timburton', 'time', 'timeless', 'timetravel', 'timothyolyph',\n",
       "       'timrobbin', 'timroth', 'timstori', 'tini', 'tire', 'titan',\n",
       "       'titl', 'tobeymaguir', 'today', 'todd', 'toddphillip', 'togeth',\n",
       "       'tokyo', 'told', 'tom', 'tomcruis', 'tomhank', 'tomhardi', 'tommi',\n",
       "       'tommyleejon', 'tomshadyac', 'tomwilkinson', 'tong', 'toni',\n",
       "       'tonicollett', 'tonyscott', 'took', 'tool', 'topsecret', 'tori',\n",
       "       'torment', 'torn', 'tornado', 'toronto', 'tortur', 'total',\n",
       "       'totalitarian', 'touch', 'tough', 'toughest', 'tour', 'tourist',\n",
       "       'tournament', 'tower', 'town', 'townspeopl', 'toxic', 'toy',\n",
       "       'toycomestolif', 'trace', 'traci', 'track', 'trade', 'trader',\n",
       "       'tradit', 'traffic', 'traffick', 'tragedi', 'tragic', 'trail',\n",
       "       'train', 'traine', 'trainer', 'traitor', 'transfer', 'transform',\n",
       "       'transit', 'transplant', 'transport', 'transportofprison', 'trap',\n",
       "       'trauma', 'traumat', 'travel', 'treacher', 'treasur',\n",
       "       'treasurehunt', 'treat', 'treatment', 'tree', 'trek', 'treypark',\n",
       "       'tri', 'trial', 'triangl', 'tribe', 'trick', 'trigger', 'trilog',\n",
       "       'trio', 'trip', 'triumph', 'troll', 'troop', 'trophi', 'tropic',\n",
       "       'troubl', 'troy', 'truck', 'trucker', 'true', 'truli', 'truman',\n",
       "       'trust', 'truth', 'tsunami', 'tucker', 'tunnel', 'turbul',\n",
       "       'turkey', 'turmoil', 'turn', 'turner', 'turtl', 'tv', 'tvmovi',\n",
       "       'tvshow', 'tvstation', 'twenti', 'twentysometh', 'twin',\n",
       "       'twinbroth', 'twist', 'tycoon', 'tyler', 'tylerperri', 'type',\n",
       "       'typic', 'tyrann', 'téaleoni', 'ufo', 'ugli', 'ultim',\n",
       "       'umathurman', 'umbrella', 'unabl', 'unawar', 'unbeknownst', 'uncl',\n",
       "       'uncomfort', 'unconvent', 'uncov', 'undead', 'undercov',\n",
       "       'undercoverag', 'undercovercop', 'underdog', 'undergo',\n",
       "       'underground', 'understand', 'undertak', 'underwat', 'underworld',\n",
       "       'unearth', 'unemploy', 'unexpect', 'unexpectedli', 'unexplain',\n",
       "       'unfaith', 'unfold', 'unforeseen', 'unforgett', 'unfortun',\n",
       "       'unhappi', 'unimagin', 'union', 'uniqu', 'unit', 'unitedstates',\n",
       "       'univers', 'unknown', 'unleash', 'unless', 'unlik',\n",
       "       'unlikelyfriendship', 'unlock', 'unorthodox', 'unpreced',\n",
       "       'unpredict', 'unravel', 'unrequitedlov', 'unsimulatedsex',\n",
       "       'unsoci', 'unstabl', 'unstopp', 'unsuspect', 'unthink', 'unusu',\n",
       "       'unveil', 'unwit', 'unwittingli', 'upcom', 'upper', 'upperclass',\n",
       "       'upris', 'upset', 'upsid', 'uptight', 'urban', 'urg', 'usa',\n",
       "       'usapresid', 'use', 'usual', 'utah', 'vacat', 'val', 'valentin',\n",
       "       'valeri', 'valkilm', 'valley', 'valu', 'valuabl', 'vampir',\n",
       "       'vampirehunt', 'van', 'vandal', 'vanessa', 'vanessahudgen',\n",
       "       'vanish', 'varieti', 'variou', 'vast', 'vatican', 'vault', 'vega',\n",
       "       'vegetarian', 'veng', 'vengeanc', 'venic', 'ventur', 'verafarmiga',\n",
       "       'verg', 'veri', 'version', 'verylittledialogu', 'vet', 'veteran',\n",
       "       'veterinarian', 'vice', 'viciou', 'victim', 'victor', 'victori',\n",
       "       'victoria', 'victorian', 'video', 'videogam', 'vienna', 'vietnam',\n",
       "       'vietnamveteran', 'vietnamwar', 'view', 'viewer', 'viggomortensen',\n",
       "       'vigilant', 'vike', 'villag', 'villain', 'vinc', 'vincent',\n",
       "       'vincentcassel', 'vincentd', 'vincevaughn', 'vindiesel',\n",
       "       'vineyard', 'violenc', 'violent', 'virgin', 'virginia',\n",
       "       'virginiamadsen', 'virtual', 'virtualr', 'viru', 'vision', 'visit',\n",
       "       'visitor', 'visual', 'vlad', 'voic', 'volatil', 'volcano',\n",
       "       'volunt', 'vomit', 'von', 'voodoo', 'vorort', 'vow', 'voyag',\n",
       "       'voyeur', 'wa', 'wacki', 'wade', 'wage', 'wager', 'wai', 'wait',\n",
       "       'waitress', 'wake', 'walk', 'walker', 'wall', 'wallet',\n",
       "       'wallstreet', 'walt', 'walter', 'wander', 'wang', 'want', 'war',\n",
       "       'warcrim', 'ward', 'warden', 'warehous', 'warfar', 'warhead',\n",
       "       'warlock', 'warlord', 'warm', 'warn', 'warondrug', 'warren',\n",
       "       'warrenbeatti', 'warrior', 'warship', 'warveteran', 'wash',\n",
       "       'washington', 'washingtond', 'wast', 'wasteland', 'watch', 'water',\n",
       "       'wave', 'way', 'wealth', 'wealthi', 'weapon', 'wear', 'weather',\n",
       "       'web', 'websit', 'wed', 'week', 'weekend', 'welcom', 'went',\n",
       "       'werewolf', 'wesanderson', 'wesbentley', 'wescraven', 'wesley',\n",
       "       'wesleysnip', 'west', 'western', 'whale', 'whatev', 'wheelchair',\n",
       "       'whi', 'whip', 'whisk', 'white', 'whitehous', 'whoopigoldberg',\n",
       "       'whove', 'wick', 'widow', 'wife', 'wifehusbandrelationship',\n",
       "       'wild', 'wilder', 'wildli', 'willemdafo', 'willferrel', 'willi',\n",
       "       'william', 'williamh', 'williamhurt', 'williamshatn', 'willpatton',\n",
       "       'willsmith', 'wilson', 'win', 'wind', 'window', 'wine', 'wing',\n",
       "       'winner', 'winni', 'winonaryd', 'winter', 'wipe', 'wise',\n",
       "       'wisecrack', 'wish', 'wit', 'witch', 'witchhunt', 'witnessprotect',\n",
       "       'wizard', 'wizardri', 'wolf', 'wolfgangpetersen', 'woman',\n",
       "       'womandirector', 'womanrel', 'women', 'won', 'wonder', 'wont',\n",
       "       'woo', 'wood', 'woodi', 'woodyallen', 'woodyharrelson', 'word',\n",
       "       'work', 'workahol', 'worker', 'workingclass', 'world', 'worldwari',\n",
       "       'worldwarii', 'worldwid', 'worri', 'wors', 'worship', 'worst',\n",
       "       'worth', 'wound', 'wreak', 'wrestl', 'wrestler', 'wretch',\n",
       "       'wright', 'write', 'writer', 'written', 'wrong', 'wwii', 'wyom',\n",
       "       'xenophobia', 'yacht', 'yakuza', 'yard', 'year', 'yearn',\n",
       "       'yearold', 'yellow', 'york', 'yorker', 'young', 'youngadult',\n",
       "       'youngboy', 'younger', 'youngest', 'youngster', 'youth', 'yuppi',\n",
       "       'zacefron', 'zachgalifianaki', 'zacksnyd', 'zealand', 'zebra',\n",
       "       'zeu', 'zhangziyi', 'zion', 'zoe', 'zoesaldana', 'zombi',\n",
       "       'zombieapocalyps', 'zone', 'zoo', 'zooeydeschanel'], dtype=object)"
      ]
     },
     "execution_count": 70,
     "metadata": {},
     "output_type": "execute_result"
    }
   ],
   "source": [
    "np.set_printoptions(threshold=np.inf)\n",
    "cv.get_feature_names_out()"
   ]
  },
  {
   "cell_type": "markdown",
   "metadata": {},
   "source": [
    "- For higher dimensional space, Euclidian distance is not a reliable measure for getting similarity between two vectors\n",
    "- We will use cosine similarity between two vectors to get the similarity between two vectors"
   ]
  },
  {
   "cell_type": "code",
   "execution_count": 71,
   "metadata": {},
   "outputs": [],
   "source": [
    "similarity = sklearn.metrics.pairwise.cosine_similarity(vectors)"
   ]
  },
  {
   "cell_type": "code",
   "execution_count": 72,
   "metadata": {},
   "outputs": [
    {
     "data": {
      "text/plain": [
       "(4806, 4806)"
      ]
     },
     "execution_count": 72,
     "metadata": {},
     "output_type": "execute_result"
    }
   ],
   "source": [
    "similarity.shape"
   ]
  },
  {
   "cell_type": "code",
   "execution_count": 73,
   "metadata": {},
   "outputs": [
    {
     "data": {
      "text/plain": [
       "array([1.        , 0.08238526, 0.08492078, 0.0720633 , 0.18116433,\n",
       "       0.12354155, 0.        , 0.16178756, 0.0594701 , 0.09443843])"
      ]
     },
     "execution_count": 73,
     "metadata": {},
     "output_type": "execute_result"
    }
   ],
   "source": [
    "similarity[0][:10]"
   ]
  },
  {
   "cell_type": "code",
   "execution_count": 74,
   "metadata": {},
   "outputs": [
    {
     "data": {
      "text/plain": [
       "np.int64(0)"
      ]
     },
     "execution_count": 74,
     "metadata": {},
     "output_type": "execute_result"
    }
   ],
   "source": [
    "movies[movies['title'] == \"Avatar\" ].index[0]"
   ]
  },
  {
   "cell_type": "code",
   "execution_count": 75,
   "metadata": {},
   "outputs": [
    {
     "data": {
      "text/plain": [
       "[(0, np.float64(1.0)),\n",
       " (2405, np.float64(0.26257545381445874)),\n",
       " (539, np.float64(0.24715576637149034)),\n",
       " (507, np.float64(0.24602771043141894)),\n",
       " (1214, np.float64(0.24037008503093257)),\n",
       " (1202, np.float64(0.2360960823249428)),\n",
       " (582, np.float64(0.23537827088100213)),\n",
       " (1192, np.float64(0.23372319715296228)),\n",
       " (61, np.float64(0.22880215766121476)),\n",
       " (778, np.float64(0.22875450543583872))]"
      ]
     },
     "execution_count": 75,
     "metadata": {},
     "output_type": "execute_result"
    }
   ],
   "source": [
    "sorted(list(enumerate(similarity[0])), reverse = True, key = lambda x: x[1])[:10]"
   ]
  },
  {
   "cell_type": "code",
   "execution_count": 81,
   "metadata": {},
   "outputs": [],
   "source": [
    "# Recommend top 5 movies based on the similarity\n",
    "def recommend(movie):\n",
    "    movie_index      = movies[movies['title'] == movie].index[0]\n",
    "    distances        = similarity[movie_index]\n",
    "    top_movies_count = 5\n",
    "    movie_list       = sorted(list(enumerate(distances)), reverse = True, key = lambda x: x[1])[1:top_movies_count + 1]\n",
    "\n",
    "    for i in movie_list:\n",
    "        print(movies.iloc[i[0]].title)"
   ]
  },
  {
   "cell_type": "code",
   "execution_count": 82,
   "metadata": {},
   "outputs": [
    {
     "name": "stdout",
     "output_type": "stream",
     "text": [
      "Aliens\n",
      "Titan A.E.\n",
      "Independence Day\n",
      "Aliens vs Predator: Requiem\n",
      "Predators\n"
     ]
    }
   ],
   "source": [
    "recommend(\"Avatar\") # ML model is ready to recommend"
   ]
  },
  {
   "cell_type": "code",
   "execution_count": 83,
   "metadata": {},
   "outputs": [
    {
     "name": "stdout",
     "output_type": "stream",
     "text": [
      "The Dark Knight\n",
      "Batman\n",
      "Batman\n",
      "The Dark Knight Rises\n",
      "10th & Wolf\n"
     ]
    }
   ],
   "source": [
    "recommend(\"Batman Begins\")"
   ]
  },
  {
   "cell_type": "markdown",
   "metadata": {},
   "source": [
    "Now it is the time to convert to website"
   ]
  }
 ],
 "metadata": {
  "kernelspec": {
   "display_name": "Python 3",
   "language": "python",
   "name": "python3"
  },
  "language_info": {
   "codemirror_mode": {
    "name": "ipython",
    "version": 3
   },
   "file_extension": ".py",
   "mimetype": "text/x-python",
   "name": "python",
   "nbconvert_exporter": "python",
   "pygments_lexer": "ipython3",
   "version": "3.13.5"
  }
 },
 "nbformat": 4,
 "nbformat_minor": 2
}
